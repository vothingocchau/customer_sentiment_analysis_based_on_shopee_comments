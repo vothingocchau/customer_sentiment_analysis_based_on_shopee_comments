{
 "cells": [
  {
   "cell_type": "markdown",
   "id": "ec935da3-90bc-4117-a5ed-175ee78130a4",
   "metadata": {},
   "source": [
    "TIỀN XỬ LÝ DỮ LIỆU"
   ]
  },
  {
   "cell_type": "code",
   "execution_count": 2,
   "id": "6e048118-d28d-4a7b-9c3f-234f0090ba1c",
   "metadata": {},
   "outputs": [
    {
     "name": "stdout",
     "output_type": "stream",
     "text": [
      "Collecting emojis\n",
      "  Downloading emojis-0.7.0-py3-none-any.whl.metadata (3.5 kB)\n",
      "Downloading emojis-0.7.0-py3-none-any.whl (28 kB)\n",
      "Installing collected packages: emojis\n",
      "Successfully installed emojis-0.7.0\n"
     ]
    }
   ],
   "source": [
    "!pip install emojis"
   ]
  },
  {
   "cell_type": "code",
   "execution_count": 26,
   "id": "10403305-eb7e-4535-b8eb-6ca5cc33e83e",
   "metadata": {},
   "outputs": [],
   "source": [
    "import pandas as pd\n",
    "import numpy as np\n",
    "import enchant\n",
    "import unicodedata\n",
    "import process as Processor\n",
    "import utils as Utils"
   ]
  },
  {
   "cell_type": "code",
   "execution_count": 8,
   "id": "93fc8a8a-73ce-4a00-bc99-059d70e75eef",
   "metadata": {},
   "outputs": [
    {
     "data": {
      "text/html": [
       "<div>\n",
       "<style scoped>\n",
       "    .dataframe tbody tr th:only-of-type {\n",
       "        vertical-align: middle;\n",
       "    }\n",
       "\n",
       "    .dataframe tbody tr th {\n",
       "        vertical-align: top;\n",
       "    }\n",
       "\n",
       "    .dataframe thead th {\n",
       "        text-align: right;\n",
       "    }\n",
       "</style>\n",
       "<table border=\"1\" class=\"dataframe\">\n",
       "  <thead>\n",
       "    <tr style=\"text-align: right;\">\n",
       "      <th></th>\n",
       "      <th>comment</th>\n",
       "      <th>rating</th>\n",
       "    </tr>\n",
       "  </thead>\n",
       "  <tbody>\n",
       "    <tr>\n",
       "      <th>0</th>\n",
       "      <td>Màu sắc:purple\\nĐúng với mô tả:yes\\nChất liệu:...</td>\n",
       "      <td>5</td>\n",
       "    </tr>\n",
       "    <tr>\n",
       "      <th>1</th>\n",
       "      <td>Màu sắc:xanh dương\\nChất liệu:vải\\nĐúng với mô...</td>\n",
       "      <td>5</td>\n",
       "    </tr>\n",
       "    <tr>\n",
       "      <th>2</th>\n",
       "      <td>Đúng với mô tả:giong mo ta\\nChất liệu:thun\\nMà...</td>\n",
       "      <td>5</td>\n",
       "    </tr>\n",
       "    <tr>\n",
       "      <th>3</th>\n",
       "      <td>Đúng với mô tả:đúng mô tả\\nMàu sắc:ghi\\nChất l...</td>\n",
       "      <td>5</td>\n",
       "    </tr>\n",
       "    <tr>\n",
       "      <th>4</th>\n",
       "      <td>Chất liệu:thun mát\\nĐúng với mô tả:đúng\\nMàu s...</td>\n",
       "      <td>5</td>\n",
       "    </tr>\n",
       "  </tbody>\n",
       "</table>\n",
       "</div>"
      ],
      "text/plain": [
       "                                             comment rating\n",
       "0  Màu sắc:purple\\nĐúng với mô tả:yes\\nChất liệu:...      5\n",
       "1  Màu sắc:xanh dương\\nChất liệu:vải\\nĐúng với mô...      5\n",
       "2  Đúng với mô tả:giong mo ta\\nChất liệu:thun\\nMà...      5\n",
       "3  Đúng với mô tả:đúng mô tả\\nMàu sắc:ghi\\nChất l...      5\n",
       "4  Chất liệu:thun mát\\nĐúng với mô tả:đúng\\nMàu s...      5"
      ]
     },
     "execution_count": 8,
     "metadata": {},
     "output_type": "execute_result"
    }
   ],
   "source": [
    "df = pd.read_csv('data.csv')\n",
    "df.head()"
   ]
  },
  {
   "cell_type": "code",
   "execution_count": 3,
   "id": "3afb488c-5db1-482c-8701-52923d5fea38",
   "metadata": {},
   "outputs": [
    {
     "data": {
      "text/plain": [
       "(221276, 2)"
      ]
     },
     "execution_count": 3,
     "metadata": {},
     "output_type": "execute_result"
    }
   ],
   "source": [
    "df.shape"
   ]
  },
  {
   "cell_type": "markdown",
   "id": "2fd1d442-2b1d-438b-821c-701f136f2645",
   "metadata": {},
   "source": [
    "Tập dữ liệu có 221276 records và 2 features (comment, rating) với:\n",
    "- comment: đánh giá sản phẩm\n",
    "- rating: số sao"
   ]
  },
  {
   "cell_type": "markdown",
   "id": "b3b2c82e-bff7-4835-bf8b-6f2bc641778b",
   "metadata": {},
   "source": [
    "Đếm tần số xuất hiện của từng rating (sao)"
   ]
  },
  {
   "cell_type": "code",
   "execution_count": 4,
   "id": "2906c16c-633c-4638-8999-458e2fcd2495",
   "metadata": {},
   "outputs": [
    {
     "data": {
      "text/plain": [
       "rating\n",
       "5         178566\n",
       "3          13004\n",
       "4          12481\n",
       "1          10881\n",
       "2           6059\n",
       "rating       284\n",
       "Name: count, dtype: int64"
      ]
     },
     "execution_count": 4,
     "metadata": {},
     "output_type": "execute_result"
    }
   ],
   "source": [
    "df['rating'].value_counts()"
   ]
  },
  {
   "cell_type": "markdown",
   "id": "ff878bea-d356-4757-b62a-a511ac62ce06",
   "metadata": {},
   "source": [
    "Nhận xét: Tập dữ liệu có hơn 200000 records nhưng có sự chênh lệch lớn giữa đánh giá 5 sao và đánh giá có số sao còn lại. Điều này là hoàn toàn bình thường vì thuật toán gợi ý sản phẩm của Shopee sẽ ưu tiên hiển thị những sản phẩm có đánh giá tốt và hạn chế (hoặc không gợi ý) các sản phẩm có đánh giá kém. Việc này thực sự không thể tránh khỏi."
   ]
  },
  {
   "cell_type": "markdown",
   "id": "17ad2b31-c160-4fe3-ba40-3e34b1e089b3",
   "metadata": {},
   "source": [
    "2.1. Dữ liệu rỗng"
   ]
  },
  {
   "cell_type": "code",
   "execution_count": 22,
   "id": "b762adfa-3e88-4bce-a318-60f174c5318f",
   "metadata": {},
   "outputs": [
    {
     "data": {
      "text/plain": [
       "comment    99675\n",
       "rating         1\n",
       "dtype: int64"
      ]
     },
     "execution_count": 22,
     "metadata": {},
     "output_type": "execute_result"
    }
   ],
   "source": [
    "df.isnull().sum()"
   ]
  },
  {
   "cell_type": "code",
   "execution_count": 9,
   "id": "77c09475-7f78-40b5-8b45-cbfbac8ec1c9",
   "metadata": {},
   "outputs": [
    {
     "data": {
      "text/plain": [
       "(121600, 2)"
      ]
     },
     "execution_count": 9,
     "metadata": {},
     "output_type": "execute_result"
    }
   ],
   "source": [
    "df = df.dropna()\n",
    "df.shape"
   ]
  },
  {
   "cell_type": "markdown",
   "id": "d6631863-9755-4620-86ec-1246b6c997fe",
   "metadata": {},
   "source": [
    "2.2. Tiến hành đưa tất cả các text về cùng một chuẩn duy nhất:\n",
    "- Đưa về chữ thường.\n",
    "- Đưa về cùng chuẩn Unicode (NDF)."
   ]
  },
  {
   "cell_type": "markdown",
   "id": "56a3fc2c-f519-4deb-874f-08b0bcfda717",
   "metadata": {},
   "source": [
    "- Ta sẽ tạo thêm 1 feature: nomalized_comment được chuẩn hóa 2 bước như trên\n",
    "- Và feature comment chuẩn hóa nhưng không đưa về chữ thường."
   ]
  },
  {
   "cell_type": "code",
   "execution_count": 10,
   "id": "0d322bc6-463b-4b5c-9ae4-5994776df4fa",
   "metadata": {},
   "outputs": [
    {
     "data": {
      "text/html": [
       "<div>\n",
       "<style scoped>\n",
       "    .dataframe tbody tr th:only-of-type {\n",
       "        vertical-align: middle;\n",
       "    }\n",
       "\n",
       "    .dataframe tbody tr th {\n",
       "        vertical-align: top;\n",
       "    }\n",
       "\n",
       "    .dataframe thead th {\n",
       "        text-align: right;\n",
       "    }\n",
       "</style>\n",
       "<table border=\"1\" class=\"dataframe\">\n",
       "  <thead>\n",
       "    <tr style=\"text-align: right;\">\n",
       "      <th></th>\n",
       "      <th>comment</th>\n",
       "      <th>rating</th>\n",
       "      <th>nomalized_comment</th>\n",
       "    </tr>\n",
       "  </thead>\n",
       "  <tbody>\n",
       "    <tr>\n",
       "      <th>0</th>\n",
       "      <td>Màu sắc:purple\\nĐúng với mô tả:yes\\nChất liệu:...</td>\n",
       "      <td>5</td>\n",
       "      <td>màu sắc:purple\\nđúng với mô tả:yes\\nch...</td>\n",
       "    </tr>\n",
       "    <tr>\n",
       "      <th>1</th>\n",
       "      <td>Màu sắc:xanh dương\\nChất liệu:vải\\nĐúng với mô...</td>\n",
       "      <td>5</td>\n",
       "      <td>màu sắc:xanh dương\\nchất liệu:vải\\nđ...</td>\n",
       "    </tr>\n",
       "    <tr>\n",
       "      <th>2</th>\n",
       "      <td>Đúng với mô tả:giong mo ta\\nChất liệu:thun\\nMà...</td>\n",
       "      <td>5</td>\n",
       "      <td>đúng với mô tả:giong mo ta\\nchất liệu...</td>\n",
       "    </tr>\n",
       "    <tr>\n",
       "      <th>3</th>\n",
       "      <td>Đúng với mô tả:đúng mô tả\\nMàu sắc:ghi\\nChất l...</td>\n",
       "      <td>5</td>\n",
       "      <td>đúng với mô tả:đúng mô tả\\nmàu sắc:...</td>\n",
       "    </tr>\n",
       "    <tr>\n",
       "      <th>4</th>\n",
       "      <td>Chất liệu:thun mát\\nĐúng với mô tả:đúng\\nMàu s...</td>\n",
       "      <td>5</td>\n",
       "      <td>chất liệu:thun mát\\nđúng với mô tả:đ...</td>\n",
       "    </tr>\n",
       "  </tbody>\n",
       "</table>\n",
       "</div>"
      ],
      "text/plain": [
       "                                             comment rating  \\\n",
       "0  Màu sắc:purple\\nĐúng với mô tả:yes\\nChất liệu:...      5   \n",
       "1  Màu sắc:xanh dương\\nChất liệu:vải\\nĐúng với mô...      5   \n",
       "2  Đúng với mô tả:giong mo ta\\nChất liệu:thun\\nMà...      5   \n",
       "3  Đúng với mô tả:đúng mô tả\\nMàu sắc:ghi\\nChất l...      5   \n",
       "4  Chất liệu:thun mát\\nĐúng với mô tả:đúng\\nMàu s...      5   \n",
       "\n",
       "                                   nomalized_comment  \n",
       "0  màu sắc:purple\\nđúng với mô tả:yes\\nch...  \n",
       "1  màu sắc:xanh dương\\nchất liệu:vải\\nđ...  \n",
       "2  đúng với mô tả:giong mo ta\\nchất liệu...  \n",
       "3  đúng với mô tả:đúng mô tả\\nmàu sắc:...  \n",
       "4  chất liệu:thun mát\\nđúng với mô tả:đ...  "
      ]
     },
     "execution_count": 10,
     "metadata": {},
     "output_type": "execute_result"
    }
   ],
   "source": [
    "df['nomalized_comment'] = df['comment'].astype(str).apply(lambda cmt: Processor.normalizeComment(cmt, True))\n",
    "df.head()"
   ]
  },
  {
   "cell_type": "code",
   "execution_count": 11,
   "id": "969a451d-113e-4c7f-84b6-03fbfb4d6acb",
   "metadata": {},
   "outputs": [
    {
     "data": {
      "text/html": [
       "<div>\n",
       "<style scoped>\n",
       "    .dataframe tbody tr th:only-of-type {\n",
       "        vertical-align: middle;\n",
       "    }\n",
       "\n",
       "    .dataframe tbody tr th {\n",
       "        vertical-align: top;\n",
       "    }\n",
       "\n",
       "    .dataframe thead th {\n",
       "        text-align: right;\n",
       "    }\n",
       "</style>\n",
       "<table border=\"1\" class=\"dataframe\">\n",
       "  <thead>\n",
       "    <tr style=\"text-align: right;\">\n",
       "      <th></th>\n",
       "      <th>comment</th>\n",
       "      <th>rating</th>\n",
       "      <th>nomalized_comment</th>\n",
       "    </tr>\n",
       "  </thead>\n",
       "  <tbody>\n",
       "    <tr>\n",
       "      <th>0</th>\n",
       "      <td>Màu sắc:purple\\nĐúng với mô tả:yes\\nCh...</td>\n",
       "      <td>5</td>\n",
       "      <td>màu sắc:purple\\nđúng với mô tả:yes\\nch...</td>\n",
       "    </tr>\n",
       "    <tr>\n",
       "      <th>1</th>\n",
       "      <td>Màu sắc:xanh dương\\nChất liệu:vải\\nĐ...</td>\n",
       "      <td>5</td>\n",
       "      <td>màu sắc:xanh dương\\nchất liệu:vải\\nđ...</td>\n",
       "    </tr>\n",
       "    <tr>\n",
       "      <th>2</th>\n",
       "      <td>Đúng với mô tả:giong mo ta\\nChất liệu...</td>\n",
       "      <td>5</td>\n",
       "      <td>đúng với mô tả:giong mo ta\\nchất liệu...</td>\n",
       "    </tr>\n",
       "    <tr>\n",
       "      <th>3</th>\n",
       "      <td>Đúng với mô tả:đúng mô tả\\nMàu sắc:...</td>\n",
       "      <td>5</td>\n",
       "      <td>đúng với mô tả:đúng mô tả\\nmàu sắc:...</td>\n",
       "    </tr>\n",
       "    <tr>\n",
       "      <th>4</th>\n",
       "      <td>Chất liệu:thun mát\\nĐúng với mô tả:đ...</td>\n",
       "      <td>5</td>\n",
       "      <td>chất liệu:thun mát\\nđúng với mô tả:đ...</td>\n",
       "    </tr>\n",
       "  </tbody>\n",
       "</table>\n",
       "</div>"
      ],
      "text/plain": [
       "                                             comment rating  \\\n",
       "0  Màu sắc:purple\\nĐúng với mô tả:yes\\nCh...      5   \n",
       "1  Màu sắc:xanh dương\\nChất liệu:vải\\nĐ...      5   \n",
       "2  Đúng với mô tả:giong mo ta\\nChất liệu...      5   \n",
       "3  Đúng với mô tả:đúng mô tả\\nMàu sắc:...      5   \n",
       "4  Chất liệu:thun mát\\nĐúng với mô tả:đ...      5   \n",
       "\n",
       "                                   nomalized_comment  \n",
       "0  màu sắc:purple\\nđúng với mô tả:yes\\nch...  \n",
       "1  màu sắc:xanh dương\\nchất liệu:vải\\nđ...  \n",
       "2  đúng với mô tả:giong mo ta\\nchất liệu...  \n",
       "3  đúng với mô tả:đúng mô tả\\nmàu sắc:...  \n",
       "4  chất liệu:thun mát\\nđúng với mô tả:đ...  "
      ]
     },
     "execution_count": 11,
     "metadata": {},
     "output_type": "execute_result"
    }
   ],
   "source": [
    "df['comment'] = df['comment'].astype(str).apply(lambda cmt: Processor.normalizeComment(cmt, False))\n",
    "df.head()"
   ]
  },
  {
   "attachments": {},
   "cell_type": "markdown",
   "id": "d93949aa-c341-4d0a-8bdc-45f9570ac250",
   "metadata": {},
   "source": [
    "2.3. Đánh giá \"quảng cáo\":\n",
    "- Đánh giá chứa link url: Theo quan sát, các đánh giá của các sản phẩm đôi khi sẽ chứa các url do những người bán hàng chèn vào để \"quảng cáo\" mặt hàng khác của họ. Đây là các noise sample mà ta cần phải loại bỏ khỏi tập dữ liệu.\n",
    "- Đánh giá mà chữ IN HOA chiểm hơn 50% độ dài đánh giá: Các đánh giá khả năng cao cũng là quảng cáo vì để làm nổi bật đánh giá này so với những đánh giá còn lại."
   ]
  },
  {
   "cell_type": "markdown",
   "id": "4ddc0d07-6a6f-4fb8-bf7d-e44641a3d235",
   "metadata": {},
   "source": [
    "2.3.1. Đánh giá chứa link url:"
   ]
  },
  {
   "cell_type": "code",
   "execution_count": 12,
   "id": "c6eab3d8-7ff7-44ea-9c89-84fa631d822b",
   "metadata": {},
   "outputs": [
    {
     "name": "stdout",
     "output_type": "stream",
     "text": [
      "Shape: (121600, 4)\n",
      "contain_url\n",
      "0    120887\n",
      "1       713\n",
      "Name: count, dtype: int64\n"
     ]
    },
    {
     "data": {
      "text/html": [
       "<div>\n",
       "<style scoped>\n",
       "    .dataframe tbody tr th:only-of-type {\n",
       "        vertical-align: middle;\n",
       "    }\n",
       "\n",
       "    .dataframe tbody tr th {\n",
       "        vertical-align: top;\n",
       "    }\n",
       "\n",
       "    .dataframe thead th {\n",
       "        text-align: right;\n",
       "    }\n",
       "</style>\n",
       "<table border=\"1\" class=\"dataframe\">\n",
       "  <thead>\n",
       "    <tr style=\"text-align: right;\">\n",
       "      <th></th>\n",
       "      <th>comment</th>\n",
       "      <th>rating</th>\n",
       "      <th>nomalized_comment</th>\n",
       "      <th>contain_url</th>\n",
       "    </tr>\n",
       "  </thead>\n",
       "  <tbody>\n",
       "    <tr>\n",
       "      <th>0</th>\n",
       "      <td>Màu sắc:purple\\nĐúng với mô tả:yes\\nCh...</td>\n",
       "      <td>5</td>\n",
       "      <td>màu sắc:purple\\nđúng với mô tả:yes\\nch...</td>\n",
       "      <td>0</td>\n",
       "    </tr>\n",
       "    <tr>\n",
       "      <th>1</th>\n",
       "      <td>Màu sắc:xanh dương\\nChất liệu:vải\\nĐ...</td>\n",
       "      <td>5</td>\n",
       "      <td>màu sắc:xanh dương\\nchất liệu:vải\\nđ...</td>\n",
       "      <td>0</td>\n",
       "    </tr>\n",
       "    <tr>\n",
       "      <th>2</th>\n",
       "      <td>Đúng với mô tả:giong mo ta\\nChất liệu...</td>\n",
       "      <td>5</td>\n",
       "      <td>đúng với mô tả:giong mo ta\\nchất liệu...</td>\n",
       "      <td>0</td>\n",
       "    </tr>\n",
       "    <tr>\n",
       "      <th>3</th>\n",
       "      <td>Đúng với mô tả:đúng mô tả\\nMàu sắc:...</td>\n",
       "      <td>5</td>\n",
       "      <td>đúng với mô tả:đúng mô tả\\nmàu sắc:...</td>\n",
       "      <td>0</td>\n",
       "    </tr>\n",
       "    <tr>\n",
       "      <th>4</th>\n",
       "      <td>Chất liệu:thun mát\\nĐúng với mô tả:đ...</td>\n",
       "      <td>5</td>\n",
       "      <td>chất liệu:thun mát\\nđúng với mô tả:đ...</td>\n",
       "      <td>0</td>\n",
       "    </tr>\n",
       "  </tbody>\n",
       "</table>\n",
       "</div>"
      ],
      "text/plain": [
       "                                             comment rating  \\\n",
       "0  Màu sắc:purple\\nĐúng với mô tả:yes\\nCh...      5   \n",
       "1  Màu sắc:xanh dương\\nChất liệu:vải\\nĐ...      5   \n",
       "2  Đúng với mô tả:giong mo ta\\nChất liệu...      5   \n",
       "3  Đúng với mô tả:đúng mô tả\\nMàu sắc:...      5   \n",
       "4  Chất liệu:thun mát\\nĐúng với mô tả:đ...      5   \n",
       "\n",
       "                                   nomalized_comment  contain_url  \n",
       "0  màu sắc:purple\\nđúng với mô tả:yes\\nch...            0  \n",
       "1  màu sắc:xanh dương\\nchất liệu:vải\\nđ...            0  \n",
       "2  đúng với mô tả:giong mo ta\\nchất liệu...            0  \n",
       "3  đúng với mô tả:đúng mô tả\\nmàu sắc:...            0  \n",
       "4  chất liệu:thun mát\\nđúng với mô tả:đ...            0  "
      ]
     },
     "execution_count": 12,
     "metadata": {},
     "output_type": "execute_result"
    }
   ],
   "source": [
    "#Kiểm tra số lượng đánh giá chứa link url\n",
    "df['contain_url'] = df['nomalized_comment'].apply(lambda cmt: Processor.containsURL(cmt))\n",
    "Processor.printAfterProcess(df, 'contain_url')\n",
    "df.head()"
   ]
  },
  {
   "cell_type": "code",
   "execution_count": 13,
   "id": "d924ba2d-70f1-48bf-9b28-d9a2f783c6f2",
   "metadata": {},
   "outputs": [
    {
     "name": "stdout",
     "output_type": "stream",
     "text": [
      "Shape: (120887, 3)\n",
      "rating\n",
      "5         95820\n",
      "1          7467\n",
      "3          7196\n",
      "4          6220\n",
      "2          3900\n",
      "rating      284\n",
      "Name: count, dtype: int64\n"
     ]
    },
    {
     "data": {
      "text/html": [
       "<div>\n",
       "<style scoped>\n",
       "    .dataframe tbody tr th:only-of-type {\n",
       "        vertical-align: middle;\n",
       "    }\n",
       "\n",
       "    .dataframe tbody tr th {\n",
       "        vertical-align: top;\n",
       "    }\n",
       "\n",
       "    .dataframe thead th {\n",
       "        text-align: right;\n",
       "    }\n",
       "</style>\n",
       "<table border=\"1\" class=\"dataframe\">\n",
       "  <thead>\n",
       "    <tr style=\"text-align: right;\">\n",
       "      <th></th>\n",
       "      <th>comment</th>\n",
       "      <th>rating</th>\n",
       "      <th>nomalized_comment</th>\n",
       "    </tr>\n",
       "  </thead>\n",
       "  <tbody>\n",
       "    <tr>\n",
       "      <th>0</th>\n",
       "      <td>Màu sắc:purple\\nĐúng với mô tả:yes\\nCh...</td>\n",
       "      <td>5</td>\n",
       "      <td>màu sắc:purple\\nđúng với mô tả:yes\\nch...</td>\n",
       "    </tr>\n",
       "    <tr>\n",
       "      <th>1</th>\n",
       "      <td>Màu sắc:xanh dương\\nChất liệu:vải\\nĐ...</td>\n",
       "      <td>5</td>\n",
       "      <td>màu sắc:xanh dương\\nchất liệu:vải\\nđ...</td>\n",
       "    </tr>\n",
       "    <tr>\n",
       "      <th>2</th>\n",
       "      <td>Đúng với mô tả:giong mo ta\\nChất liệu...</td>\n",
       "      <td>5</td>\n",
       "      <td>đúng với mô tả:giong mo ta\\nchất liệu...</td>\n",
       "    </tr>\n",
       "    <tr>\n",
       "      <th>3</th>\n",
       "      <td>Đúng với mô tả:đúng mô tả\\nMàu sắc:...</td>\n",
       "      <td>5</td>\n",
       "      <td>đúng với mô tả:đúng mô tả\\nmàu sắc:...</td>\n",
       "    </tr>\n",
       "    <tr>\n",
       "      <th>4</th>\n",
       "      <td>Chất liệu:thun mát\\nĐúng với mô tả:đ...</td>\n",
       "      <td>5</td>\n",
       "      <td>chất liệu:thun mát\\nđúng với mô tả:đ...</td>\n",
       "    </tr>\n",
       "  </tbody>\n",
       "</table>\n",
       "</div>"
      ],
      "text/plain": [
       "                                             comment rating  \\\n",
       "0  Màu sắc:purple\\nĐúng với mô tả:yes\\nCh...      5   \n",
       "1  Màu sắc:xanh dương\\nChất liệu:vải\\nĐ...      5   \n",
       "2  Đúng với mô tả:giong mo ta\\nChất liệu...      5   \n",
       "3  Đúng với mô tả:đúng mô tả\\nMàu sắc:...      5   \n",
       "4  Chất liệu:thun mát\\nĐúng với mô tả:đ...      5   \n",
       "\n",
       "                                   nomalized_comment  \n",
       "0  màu sắc:purple\\nđúng với mô tả:yes\\nch...  \n",
       "1  màu sắc:xanh dương\\nchất liệu:vải\\nđ...  \n",
       "2  đúng với mô tả:giong mo ta\\nchất liệu...  \n",
       "3  đúng với mô tả:đúng mô tả\\nmàu sắc:...  \n",
       "4  chất liệu:thun mát\\nđúng với mô tả:đ...  "
      ]
     },
     "execution_count": 13,
     "metadata": {},
     "output_type": "execute_result"
    }
   ],
   "source": [
    "# Lấy các bình luận không chứa link URL\n",
    "df = df[df['contain_url'] == 0]\n",
    "df = df.drop(columns=['contain_url']).reset_index(drop=True) # xóa cột 'contain_url'\n",
    "Processor.printAfterProcess(df, 'rating')\n",
    "df.head()"
   ]
  },
  {
   "cell_type": "markdown",
   "id": "9fdb6d37-342b-4390-aebf-2202f8f0d9e2",
   "metadata": {},
   "source": [
    "2.3.2. Đánh giá IN HOA trên 50%:"
   ]
  },
  {
   "cell_type": "code",
   "execution_count": 14,
   "id": "d7671205-6f21-4677-9fae-847d8a746faf",
   "metadata": {},
   "outputs": [
    {
     "name": "stdout",
     "output_type": "stream",
     "text": [
      "Shape: (120887, 4)\n",
      "contain_adv\n",
      "False    118668\n",
      "True       2219\n",
      "Name: count, dtype: int64\n"
     ]
    },
    {
     "data": {
      "text/html": [
       "<div>\n",
       "<style scoped>\n",
       "    .dataframe tbody tr th:only-of-type {\n",
       "        vertical-align: middle;\n",
       "    }\n",
       "\n",
       "    .dataframe tbody tr th {\n",
       "        vertical-align: top;\n",
       "    }\n",
       "\n",
       "    .dataframe thead th {\n",
       "        text-align: right;\n",
       "    }\n",
       "</style>\n",
       "<table border=\"1\" class=\"dataframe\">\n",
       "  <thead>\n",
       "    <tr style=\"text-align: right;\">\n",
       "      <th></th>\n",
       "      <th>comment</th>\n",
       "      <th>rating</th>\n",
       "      <th>nomalized_comment</th>\n",
       "      <th>contain_adv</th>\n",
       "    </tr>\n",
       "  </thead>\n",
       "  <tbody>\n",
       "    <tr>\n",
       "      <th>0</th>\n",
       "      <td>Màu sắc:purple\\nĐúng với mô tả:yes\\nCh...</td>\n",
       "      <td>5</td>\n",
       "      <td>màu sắc:purple\\nđúng với mô tả:yes\\nch...</td>\n",
       "      <td>False</td>\n",
       "    </tr>\n",
       "    <tr>\n",
       "      <th>1</th>\n",
       "      <td>Màu sắc:xanh dương\\nChất liệu:vải\\nĐ...</td>\n",
       "      <td>5</td>\n",
       "      <td>màu sắc:xanh dương\\nchất liệu:vải\\nđ...</td>\n",
       "      <td>False</td>\n",
       "    </tr>\n",
       "    <tr>\n",
       "      <th>2</th>\n",
       "      <td>Đúng với mô tả:giong mo ta\\nChất liệu...</td>\n",
       "      <td>5</td>\n",
       "      <td>đúng với mô tả:giong mo ta\\nchất liệu...</td>\n",
       "      <td>False</td>\n",
       "    </tr>\n",
       "    <tr>\n",
       "      <th>3</th>\n",
       "      <td>Đúng với mô tả:đúng mô tả\\nMàu sắc:...</td>\n",
       "      <td>5</td>\n",
       "      <td>đúng với mô tả:đúng mô tả\\nmàu sắc:...</td>\n",
       "      <td>False</td>\n",
       "    </tr>\n",
       "    <tr>\n",
       "      <th>4</th>\n",
       "      <td>Chất liệu:thun mát\\nĐúng với mô tả:đ...</td>\n",
       "      <td>5</td>\n",
       "      <td>chất liệu:thun mát\\nđúng với mô tả:đ...</td>\n",
       "      <td>False</td>\n",
       "    </tr>\n",
       "  </tbody>\n",
       "</table>\n",
       "</div>"
      ],
      "text/plain": [
       "                                             comment rating  \\\n",
       "0  Màu sắc:purple\\nĐúng với mô tả:yes\\nCh...      5   \n",
       "1  Màu sắc:xanh dương\\nChất liệu:vải\\nĐ...      5   \n",
       "2  Đúng với mô tả:giong mo ta\\nChất liệu...      5   \n",
       "3  Đúng với mô tả:đúng mô tả\\nMàu sắc:...      5   \n",
       "4  Chất liệu:thun mát\\nĐúng với mô tả:đ...      5   \n",
       "\n",
       "                                   nomalized_comment  contain_adv  \n",
       "0  màu sắc:purple\\nđúng với mô tả:yes\\nch...        False  \n",
       "1  màu sắc:xanh dương\\nchất liệu:vải\\nđ...        False  \n",
       "2  đúng với mô tả:giong mo ta\\nchất liệu...        False  \n",
       "3  đúng với mô tả:đúng mô tả\\nmàu sắc:...        False  \n",
       "4  chất liệu:thun mát\\nđúng với mô tả:đ...        False  "
      ]
     },
     "execution_count": 14,
     "metadata": {},
     "output_type": "execute_result"
    }
   ],
   "source": [
    "#Kiểm tra số lượng đánh giá IN HOA trên 50%\n",
    "df['contain_adv'] = df['comment'].apply(lambda cmt: Processor.containAdvertisement(cmt))\n",
    "Processor.printAfterProcess(df, 'contain_adv')\n",
    "df.head()"
   ]
  },
  {
   "cell_type": "code",
   "execution_count": 15,
   "id": "06bf9c18-c2ea-40eb-8bb5-7adf4815da7e",
   "metadata": {},
   "outputs": [
    {
     "name": "stdout",
     "output_type": "stream",
     "text": [
      "Shape: (118668, 3)\n",
      "rating\n",
      "5         93898\n",
      "1          7378\n",
      "3          7137\n",
      "4          6102\n",
      "2          3869\n",
      "rating      284\n",
      "Name: count, dtype: int64\n"
     ]
    },
    {
     "data": {
      "text/html": [
       "<div>\n",
       "<style scoped>\n",
       "    .dataframe tbody tr th:only-of-type {\n",
       "        vertical-align: middle;\n",
       "    }\n",
       "\n",
       "    .dataframe tbody tr th {\n",
       "        vertical-align: top;\n",
       "    }\n",
       "\n",
       "    .dataframe thead th {\n",
       "        text-align: right;\n",
       "    }\n",
       "</style>\n",
       "<table border=\"1\" class=\"dataframe\">\n",
       "  <thead>\n",
       "    <tr style=\"text-align: right;\">\n",
       "      <th></th>\n",
       "      <th>comment</th>\n",
       "      <th>rating</th>\n",
       "      <th>nomalized_comment</th>\n",
       "    </tr>\n",
       "  </thead>\n",
       "  <tbody>\n",
       "    <tr>\n",
       "      <th>0</th>\n",
       "      <td>Màu sắc:purple\\nĐúng với mô tả:yes\\nCh...</td>\n",
       "      <td>5</td>\n",
       "      <td>màu sắc:purple\\nđúng với mô tả:yes\\nch...</td>\n",
       "    </tr>\n",
       "    <tr>\n",
       "      <th>1</th>\n",
       "      <td>Màu sắc:xanh dương\\nChất liệu:vải\\nĐ...</td>\n",
       "      <td>5</td>\n",
       "      <td>màu sắc:xanh dương\\nchất liệu:vải\\nđ...</td>\n",
       "    </tr>\n",
       "    <tr>\n",
       "      <th>2</th>\n",
       "      <td>Đúng với mô tả:giong mo ta\\nChất liệu...</td>\n",
       "      <td>5</td>\n",
       "      <td>đúng với mô tả:giong mo ta\\nchất liệu...</td>\n",
       "    </tr>\n",
       "    <tr>\n",
       "      <th>3</th>\n",
       "      <td>Đúng với mô tả:đúng mô tả\\nMàu sắc:...</td>\n",
       "      <td>5</td>\n",
       "      <td>đúng với mô tả:đúng mô tả\\nmàu sắc:...</td>\n",
       "    </tr>\n",
       "    <tr>\n",
       "      <th>4</th>\n",
       "      <td>Chất liệu:thun mát\\nĐúng với mô tả:đ...</td>\n",
       "      <td>5</td>\n",
       "      <td>chất liệu:thun mát\\nđúng với mô tả:đ...</td>\n",
       "    </tr>\n",
       "  </tbody>\n",
       "</table>\n",
       "</div>"
      ],
      "text/plain": [
       "                                             comment rating  \\\n",
       "0  Màu sắc:purple\\nĐúng với mô tả:yes\\nCh...      5   \n",
       "1  Màu sắc:xanh dương\\nChất liệu:vải\\nĐ...      5   \n",
       "2  Đúng với mô tả:giong mo ta\\nChất liệu...      5   \n",
       "3  Đúng với mô tả:đúng mô tả\\nMàu sắc:...      5   \n",
       "4  Chất liệu:thun mát\\nĐúng với mô tả:đ...      5   \n",
       "\n",
       "                                   nomalized_comment  \n",
       "0  màu sắc:purple\\nđúng với mô tả:yes\\nch...  \n",
       "1  màu sắc:xanh dương\\nchất liệu:vải\\nđ...  \n",
       "2  đúng với mô tả:giong mo ta\\nchất liệu...  \n",
       "3  đúng với mô tả:đúng mô tả\\nmàu sắc:...  \n",
       "4  chất liệu:thun mát\\nđúng với mô tả:đ...  "
      ]
     },
     "execution_count": 15,
     "metadata": {},
     "output_type": "execute_result"
    }
   ],
   "source": [
    "#Loại bỏ đánh giá quảng cáo\n",
    "df = df[df['contain_adv'] == 0]\n",
    "df = df.drop(columns=['contain_adv']).reset_index(drop=True) # xóa cột 'contain_adv'\n",
    "Processor.printAfterProcess(df, 'rating')\n",
    "df.head()"
   ]
  },
  {
   "cell_type": "markdown",
   "id": "cb4a58e3-04c9-45e8-b564-1cc0875d1b84",
   "metadata": {},
   "source": [
    "2.4. Kí tự đặc biệt:\n",
    "2.4.1. Emoji:\n",
    "- Theo quan sát, ta có thể thấy có các đánh giá chứa emoji. Và các emoji cũng thể hiện một phần thể hiện được sự tích cực hoặc tiêu cực của đánh giá.\n",
    "- Ta sẽ tiến hành tách các emoji này thành một feature mới trước khi loại bỏ các kí tự đặc biệt vì vốn dĩ emoji cũng được xây dựng bằng các kí tự đặc biệt.\n",
    "2.4.2. Xóa các kí tự đặc biệt"
   ]
  },
  {
   "cell_type": "code",
   "execution_count": 18,
   "id": "4eee5bc9-ef8e-4e5e-9111-3b31399b1080",
   "metadata": {},
   "outputs": [
    {
     "data": {
      "text/html": [
       "<div>\n",
       "<style scoped>\n",
       "    .dataframe tbody tr th:only-of-type {\n",
       "        vertical-align: middle;\n",
       "    }\n",
       "\n",
       "    .dataframe tbody tr th {\n",
       "        vertical-align: top;\n",
       "    }\n",
       "\n",
       "    .dataframe thead th {\n",
       "        text-align: right;\n",
       "    }\n",
       "</style>\n",
       "<table border=\"1\" class=\"dataframe\">\n",
       "  <thead>\n",
       "    <tr style=\"text-align: right;\">\n",
       "      <th></th>\n",
       "      <th>comment</th>\n",
       "      <th>rating</th>\n",
       "      <th>nomalized_comment</th>\n",
       "      <th>emoji</th>\n",
       "    </tr>\n",
       "  </thead>\n",
       "  <tbody>\n",
       "    <tr>\n",
       "      <th>0</th>\n",
       "      <td>Màu sắc:purple\\nĐúng với mô tả:yes\\nCh...</td>\n",
       "      <td>5</td>\n",
       "      <td>màu sắc:purple\\nđúng với mô tả:yes\\nch...</td>\n",
       "      <td></td>\n",
       "    </tr>\n",
       "    <tr>\n",
       "      <th>1</th>\n",
       "      <td>Màu sắc:xanh dương\\nChất liệu:vải\\nĐ...</td>\n",
       "      <td>5</td>\n",
       "      <td>màu sắc:xanh dương\\nchất liệu:vải\\nđ...</td>\n",
       "      <td></td>\n",
       "    </tr>\n",
       "    <tr>\n",
       "      <th>2</th>\n",
       "      <td>Đúng với mô tả:giong mo ta\\nChất liệu...</td>\n",
       "      <td>5</td>\n",
       "      <td>đúng với mô tả:giong mo ta\\nchất liệu...</td>\n",
       "      <td></td>\n",
       "    </tr>\n",
       "    <tr>\n",
       "      <th>3</th>\n",
       "      <td>Đúng với mô tả:đúng mô tả\\nMàu sắc:...</td>\n",
       "      <td>5</td>\n",
       "      <td>đúng với mô tả:đúng mô tả\\nmàu sắc:...</td>\n",
       "      <td></td>\n",
       "    </tr>\n",
       "    <tr>\n",
       "      <th>4</th>\n",
       "      <td>Chất liệu:thun mát\\nĐúng với mô tả:đ...</td>\n",
       "      <td>5</td>\n",
       "      <td>chất liệu:thun mát\\nđúng với mô tả:đ...</td>\n",
       "      <td></td>\n",
       "    </tr>\n",
       "  </tbody>\n",
       "</table>\n",
       "</div>"
      ],
      "text/plain": [
       "                                             comment rating  \\\n",
       "0  Màu sắc:purple\\nĐúng với mô tả:yes\\nCh...      5   \n",
       "1  Màu sắc:xanh dương\\nChất liệu:vải\\nĐ...      5   \n",
       "2  Đúng với mô tả:giong mo ta\\nChất liệu...      5   \n",
       "3  Đúng với mô tả:đúng mô tả\\nMàu sắc:...      5   \n",
       "4  Chất liệu:thun mát\\nĐúng với mô tả:đ...      5   \n",
       "\n",
       "                                   nomalized_comment emoji  \n",
       "0  màu sắc:purple\\nđúng với mô tả:yes\\nch...        \n",
       "1  màu sắc:xanh dương\\nchất liệu:vải\\nđ...        \n",
       "2  đúng với mô tả:giong mo ta\\nchất liệu...        \n",
       "3  đúng với mô tả:đúng mô tả\\nmàu sắc:...        \n",
       "4  chất liệu:thun mát\\nđúng với mô tả:đ...        "
      ]
     },
     "execution_count": 18,
     "metadata": {},
     "output_type": "execute_result"
    }
   ],
   "source": [
    "#Tách emoji sang feature mới:\n",
    "df['emoji'] = df['comment'].apply(lambda cmt: Processor.extractEmoji(cmt))\n",
    "df.head()"
   ]
  },
  {
   "cell_type": "code",
   "execution_count": 19,
   "id": "5a95c1c1-d441-40c4-ba6b-6684153d4939",
   "metadata": {},
   "outputs": [
    {
     "data": {
      "text/html": [
       "<div>\n",
       "<style scoped>\n",
       "    .dataframe tbody tr th:only-of-type {\n",
       "        vertical-align: middle;\n",
       "    }\n",
       "\n",
       "    .dataframe tbody tr th {\n",
       "        vertical-align: top;\n",
       "    }\n",
       "\n",
       "    .dataframe thead th {\n",
       "        text-align: right;\n",
       "    }\n",
       "</style>\n",
       "<table border=\"1\" class=\"dataframe\">\n",
       "  <thead>\n",
       "    <tr style=\"text-align: right;\">\n",
       "      <th></th>\n",
       "      <th>comment</th>\n",
       "      <th>rating</th>\n",
       "      <th>nomalized_comment</th>\n",
       "      <th>emoji</th>\n",
       "    </tr>\n",
       "  </thead>\n",
       "  <tbody>\n",
       "    <tr>\n",
       "      <th>118663</th>\n",
       "      <td>Vua re vua đep</td>\n",
       "      <td>3</td>\n",
       "      <td>vua re vua đep</td>\n",
       "      <td></td>\n",
       "    </tr>\n",
       "    <tr>\n",
       "      <th>118664</th>\n",
       "      <td>Hơi to sop ạ😢</td>\n",
       "      <td>3</td>\n",
       "      <td>hơi to sop ạ😢</td>\n",
       "      <td>😢</td>\n",
       "    </tr>\n",
       "    <tr>\n",
       "      <th>118665</th>\n",
       "      <td>Muốn hoàn tiền lại</td>\n",
       "      <td>1</td>\n",
       "      <td>muốn hoàn tiền lại</td>\n",
       "      <td></td>\n",
       "    </tr>\n",
       "    <tr>\n",
       "      <th>118666</th>\n",
       "      <td>Áo ngắn</td>\n",
       "      <td>2</td>\n",
       "      <td>áo ngắn</td>\n",
       "      <td></td>\n",
       "    </tr>\n",
       "    <tr>\n",
       "      <th>118667</th>\n",
       "      <td>Chất liệu:mỏng</td>\n",
       "      <td>1</td>\n",
       "      <td>chất liệu:mỏng</td>\n",
       "      <td></td>\n",
       "    </tr>\n",
       "  </tbody>\n",
       "</table>\n",
       "</div>"
      ],
      "text/plain": [
       "                         comment rating         nomalized_comment emoji\n",
       "118663            Vua re vua đep      3            vua re vua đep      \n",
       "118664           Hơi to sop ạ😢      3           hơi to sop ạ😢     😢\n",
       "118665  Muốn hoàn tiền lại      1  muốn hoàn tiền lại      \n",
       "118666                Áo ngắn      2                áo ngắn      \n",
       "118667       Chất liệu:mỏng      1       chất liệu:mỏng      "
      ]
     },
     "execution_count": 19,
     "metadata": {},
     "output_type": "execute_result"
    }
   ],
   "source": [
    "df.tail()"
   ]
  },
  {
   "cell_type": "code",
   "execution_count": 20,
   "id": "008967ce-56d3-495f-9825-e7ed9af64d7c",
   "metadata": {},
   "outputs": [
    {
     "data": {
      "text/plain": [
       "',,,,,,,,,😘,,📌,🍀 📢 💗 🎤 😪 📜 👩\\u200d🎨 💙,,❤️,,,,,,😆,,,🆕 ❗,,,,,,,,,🌟 👍,,,,,,,,,,,,,,,,,🥰 👉,,,,,,,,,,,,💪 ‼️ ❌,,,,👍,,,,,,,,,,,😅 💰,,,,,,,,,,,,,,,,,1️⃣ 📍 ✅ ♨️ 📌 🌊 ⚡ 2️⃣ 👉,,,,,,,,,,,,‼️ ❤️,,,,,,,,,,,⭐,,,,,,,,,,,,,,👍'"
      ]
     },
     "execution_count": 20,
     "metadata": {},
     "output_type": "execute_result"
    }
   ],
   "source": [
    "\",\".join(df['emoji'])[:200]"
   ]
  },
  {
   "cell_type": "code",
   "execution_count": 22,
   "id": "237a1e16-8e2b-48a3-8f1a-818babc82001",
   "metadata": {},
   "outputs": [
    {
     "data": {
      "text/html": [
       "<div>\n",
       "<style scoped>\n",
       "    .dataframe tbody tr th:only-of-type {\n",
       "        vertical-align: middle;\n",
       "    }\n",
       "\n",
       "    .dataframe tbody tr th {\n",
       "        vertical-align: top;\n",
       "    }\n",
       "\n",
       "    .dataframe thead th {\n",
       "        text-align: right;\n",
       "    }\n",
       "</style>\n",
       "<table border=\"1\" class=\"dataframe\">\n",
       "  <thead>\n",
       "    <tr style=\"text-align: right;\">\n",
       "      <th></th>\n",
       "      <th>comment</th>\n",
       "      <th>rating</th>\n",
       "      <th>nomalized_comment</th>\n",
       "      <th>emoji</th>\n",
       "    </tr>\n",
       "  </thead>\n",
       "  <tbody>\n",
       "    <tr>\n",
       "      <th>118663</th>\n",
       "      <td>Vua re vua đep</td>\n",
       "      <td>3</td>\n",
       "      <td>vua re vua đep</td>\n",
       "      <td></td>\n",
       "    </tr>\n",
       "    <tr>\n",
       "      <th>118664</th>\n",
       "      <td>Hơi to sop ạ😢</td>\n",
       "      <td>3</td>\n",
       "      <td>hơi to sop ạ</td>\n",
       "      <td>😢</td>\n",
       "    </tr>\n",
       "    <tr>\n",
       "      <th>118665</th>\n",
       "      <td>Muốn hoàn tiền lại</td>\n",
       "      <td>1</td>\n",
       "      <td>muốn hoàn tiền lại</td>\n",
       "      <td></td>\n",
       "    </tr>\n",
       "    <tr>\n",
       "      <th>118666</th>\n",
       "      <td>Áo ngắn</td>\n",
       "      <td>2</td>\n",
       "      <td>áo ngắn</td>\n",
       "      <td></td>\n",
       "    </tr>\n",
       "    <tr>\n",
       "      <th>118667</th>\n",
       "      <td>Chất liệu:mỏng</td>\n",
       "      <td>1</td>\n",
       "      <td>chất liệu mỏng</td>\n",
       "      <td></td>\n",
       "    </tr>\n",
       "  </tbody>\n",
       "</table>\n",
       "</div>"
      ],
      "text/plain": [
       "                         comment rating         nomalized_comment emoji\n",
       "118663            Vua re vua đep      3            vua re vua đep      \n",
       "118664           Hơi to sop ạ😢      3            hơi to sop ạ     😢\n",
       "118665  Muốn hoàn tiền lại      1  muốn hoàn tiền lại      \n",
       "118666                Áo ngắn      2                áo ngắn      \n",
       "118667       Chất liệu:mỏng      1       chất liệu mỏng      "
      ]
     },
     "execution_count": 22,
     "metadata": {},
     "output_type": "execute_result"
    }
   ],
   "source": [
    "#Xóa các kí tự đặc biệt\n",
    "df['nomalized_comment'] = df['nomalized_comment'].apply(lambda cmt: Processor.removeSpecialLetters(cmt))\n",
    "df.tail()"
   ]
  },
  {
   "cell_type": "markdown",
   "id": "4cc42eff-7311-465b-8589-4742d90e434a",
   "metadata": {},
   "source": [
    "2.5. Đánh giá có chữ cái bị lặp:\n",
    "- Ta cần chuẩn hóa các từ xinhhhhh quá, đẹppppp xỉuuuuu,... thành xinh quá, đẹp xỉu -> loại bỏ những chữ cái bị lặp.\n",
    "- Tuy nhiên ta cần lưu ý những từ tiếng anh thông dụng được sử dụng trong đánh giá như feedback, shipper. Nếu chỉ xóa chữ cái lặp thông thường sẽ vô tình biến các từ tiếng anh sai nghĩa -> Cần kiểm tra xem từ lặp chữu cái có phải từ tiếng anh không.\n",
    "=> Ta sẽ xử lý chung với bước 2.6."
   ]
  },
  {
   "cell_type": "markdown",
   "id": "5f0fbeed-720a-4fe4-b9f4-da5deeb45176",
   "metadata": {},
   "source": [
    "2.6. Đánh giá vô nghĩa:\n",
    "- Ta sẽ tiến hành xóa các đánh giá không phải là tiếng Việt cũng như các đánh giá soạn \"đại\" để đủ kí tự (theo yêu cầu của Shopee để nhận xu).\n",
    "- Sử dụng file vocabulary.txt chứa hơn 17000 từ đơn phổ biến của tiếng Việt.\n",
    "- Ta cần giữ lại vài từ tiếng anh như shipper, sử dụng package enchant để kiểm tra một từ có phải tiếng Anh không. "
   ]
  },
  {
   "cell_type": "code",
   "execution_count": 31,
   "id": "02c99362-78e9-45c2-9d4a-26eb8ec1cb7e",
   "metadata": {},
   "outputs": [],
   "source": [
    "#Xây dựng từ điển\n",
    "file = open('vocabulary.txt', 'r', encoding=\"utf8\")\n",
    "vocab_lst = file.read().split('\\n')\n",
    "vietnamese_vocab= {}\n",
    "for line in vocab_lst:\n",
    "    key = unicodedata.normalize('NFD', line.strip())\n",
    "    vietnamese_vocab[key] = True\n",
    "file.close()\n",
    "\n",
    "english_vocab = enchant.Dict('en_US')"
   ]
  },
  {
   "cell_type": "code",
   "execution_count": 34,
   "id": "27a0dce0-073b-4514-aa4f-09f2e9d55003",
   "metadata": {},
   "outputs": [
    {
     "data": {
      "text/html": [
       "<div>\n",
       "<style scoped>\n",
       "    .dataframe tbody tr th:only-of-type {\n",
       "        vertical-align: middle;\n",
       "    }\n",
       "\n",
       "    .dataframe tbody tr th {\n",
       "        vertical-align: top;\n",
       "    }\n",
       "\n",
       "    .dataframe thead th {\n",
       "        text-align: right;\n",
       "    }\n",
       "</style>\n",
       "<table border=\"1\" class=\"dataframe\">\n",
       "  <thead>\n",
       "    <tr style=\"text-align: right;\">\n",
       "      <th></th>\n",
       "      <th>comment</th>\n",
       "      <th>rating</th>\n",
       "      <th>nomalized_comment</th>\n",
       "      <th>emoji</th>\n",
       "    </tr>\n",
       "  </thead>\n",
       "  <tbody>\n",
       "    <tr>\n",
       "      <th>0</th>\n",
       "      <td>Màu sắc:purple\\nĐúng với mô tả:yes\\nCh...</td>\n",
       "      <td>5</td>\n",
       "      <td>màu sắc purple đúng với mô tả yes châ...</td>\n",
       "      <td></td>\n",
       "    </tr>\n",
       "    <tr>\n",
       "      <th>1</th>\n",
       "      <td>Màu sắc:xanh dương\\nChất liệu:vải\\nĐ...</td>\n",
       "      <td>5</td>\n",
       "      <td>màu sắc xanh dương chất liệu vải đú...</td>\n",
       "      <td></td>\n",
       "    </tr>\n",
       "    <tr>\n",
       "      <th>2</th>\n",
       "      <td>Đúng với mô tả:giong mo ta\\nChất liệu...</td>\n",
       "      <td>5</td>\n",
       "      <td>đúng với mô tả giong mo ta chất liệu ...</td>\n",
       "      <td></td>\n",
       "    </tr>\n",
       "    <tr>\n",
       "      <th>3</th>\n",
       "      <td>Đúng với mô tả:đúng mô tả\\nMàu sắc:...</td>\n",
       "      <td>5</td>\n",
       "      <td>đúng với mô tả đúng mô tả màu sắc g...</td>\n",
       "      <td></td>\n",
       "    </tr>\n",
       "    <tr>\n",
       "      <th>4</th>\n",
       "      <td>Chất liệu:thun mát\\nĐúng với mô tả:đ...</td>\n",
       "      <td>5</td>\n",
       "      <td>chất liệu thun mát đúng với mô tả đu...</td>\n",
       "      <td></td>\n",
       "    </tr>\n",
       "  </tbody>\n",
       "</table>\n",
       "</div>"
      ],
      "text/plain": [
       "                                             comment rating  \\\n",
       "0  Màu sắc:purple\\nĐúng với mô tả:yes\\nCh...      5   \n",
       "1  Màu sắc:xanh dương\\nChất liệu:vải\\nĐ...      5   \n",
       "2  Đúng với mô tả:giong mo ta\\nChất liệu...      5   \n",
       "3  Đúng với mô tả:đúng mô tả\\nMàu sắc:...      5   \n",
       "4  Chất liệu:thun mát\\nĐúng với mô tả:đ...      5   \n",
       "\n",
       "                                   nomalized_comment emoji  \n",
       "0  màu sắc purple đúng với mô tả yes châ...        \n",
       "1  màu sắc xanh dương chất liệu vải đú...        \n",
       "2  đúng với mô tả giong mo ta chất liệu ...        \n",
       "3  đúng với mô tả đúng mô tả màu sắc g...        \n",
       "4  chất liệu thun mát đúng với mô tả đu...        "
      ]
     },
     "execution_count": 34,
     "metadata": {},
     "output_type": "execute_result"
    }
   ],
   "source": [
    "df['nomalized_comment'] = df['nomalized_comment'].apply(lambda cmt: Processor.removeNoiseWord(cmt, vietnamese_vocab, english_vocab))\n",
    "df.head()"
   ]
  },
  {
   "cell_type": "code",
   "execution_count": 43,
   "id": "e71567d4-f34b-42db-b3a3-7d0fb12c44da",
   "metadata": {},
   "outputs": [
    {
     "data": {
      "text/html": [
       "<div>\n",
       "<style scoped>\n",
       "    .dataframe tbody tr th:only-of-type {\n",
       "        vertical-align: middle;\n",
       "    }\n",
       "\n",
       "    .dataframe tbody tr th {\n",
       "        vertical-align: top;\n",
       "    }\n",
       "\n",
       "    .dataframe thead th {\n",
       "        text-align: right;\n",
       "    }\n",
       "</style>\n",
       "<table border=\"1\" class=\"dataframe\">\n",
       "  <thead>\n",
       "    <tr style=\"text-align: right;\">\n",
       "      <th></th>\n",
       "      <th>comment</th>\n",
       "      <th>rating</th>\n",
       "      <th>nomalized_comment</th>\n",
       "      <th>emoji</th>\n",
       "    </tr>\n",
       "  </thead>\n",
       "  <tbody>\n",
       "    <tr>\n",
       "      <th>118457</th>\n",
       "      <td>Áo khoác đẹp rẻ rất nên mua</td>\n",
       "      <td>5</td>\n",
       "      <td>áo khoác đẹp rẻ rất nên mua</td>\n",
       "      <td></td>\n",
       "    </tr>\n",
       "    <tr>\n",
       "      <th>118458</th>\n",
       "      <td>Đúng với mô tả:nânnanananananananann\\nCh...</td>\n",
       "      <td>5</td>\n",
       "      <td>đúng với mô tả chất liệu quá tốt m...</td>\n",
       "      <td></td>\n",
       "    </tr>\n",
       "  </tbody>\n",
       "</table>\n",
       "</div>"
      ],
      "text/plain": [
       "                                                  comment rating  \\\n",
       "118457                 Áo khoác đẹp rẻ rất nên mua      5   \n",
       "118458  Đúng với mô tả:nânnanananananananann\\nCh...      5   \n",
       "\n",
       "                                        nomalized_comment emoji  \n",
       "118457                 áo khoác đẹp rẻ rất nên mua        \n",
       "118458  đúng với mô tả chất liệu quá tốt m...        "
      ]
     },
     "execution_count": 43,
     "metadata": {},
     "output_type": "execute_result"
    }
   ],
   "source": [
    "df.loc[118457:118458]"
   ]
  },
  {
   "cell_type": "code",
   "execution_count": 45,
   "id": "254b976e-a6ea-497e-8523-381d80a1bd31",
   "metadata": {},
   "outputs": [
    {
     "data": {
      "text/html": [
       "<div>\n",
       "<style scoped>\n",
       "    .dataframe tbody tr th:only-of-type {\n",
       "        vertical-align: middle;\n",
       "    }\n",
       "\n",
       "    .dataframe tbody tr th {\n",
       "        vertical-align: top;\n",
       "    }\n",
       "\n",
       "    .dataframe thead th {\n",
       "        text-align: right;\n",
       "    }\n",
       "</style>\n",
       "<table border=\"1\" class=\"dataframe\">\n",
       "  <thead>\n",
       "    <tr style=\"text-align: right;\">\n",
       "      <th></th>\n",
       "      <th>comment</th>\n",
       "      <th>rating</th>\n",
       "      <th>nomalized_comment</th>\n",
       "      <th>emoji</th>\n",
       "    </tr>\n",
       "  </thead>\n",
       "  <tbody>\n",
       "    <tr>\n",
       "      <th>118389</th>\n",
       "      <td>nó đẹpppppppp</td>\n",
       "      <td>5</td>\n",
       "      <td>nó đẹp</td>\n",
       "      <td></td>\n",
       "    </tr>\n",
       "    <tr>\n",
       "      <th>118390</th>\n",
       "      <td>Màu sắc:xấu</td>\n",
       "      <td>1</td>\n",
       "      <td>màu sắc xấu</td>\n",
       "      <td></td>\n",
       "    </tr>\n",
       "  </tbody>\n",
       "</table>\n",
       "</div>"
      ],
      "text/plain": [
       "                 comment rating nomalized_comment emoji\n",
       "118389   nó đẹpppppppp      5          nó đẹp      \n",
       "118390  Màu sắc:xấu      1  màu sắc xấu      "
      ]
     },
     "execution_count": 45,
     "metadata": {},
     "output_type": "execute_result"
    }
   ],
   "source": [
    "df.loc[118389:118390]"
   ]
  },
  {
   "cell_type": "code",
   "execution_count": null,
   "id": "da45363d-102f-4771-b3d8-71400f96578c",
   "metadata": {},
   "outputs": [],
   "source": []
  }
 ],
 "metadata": {
  "kernelspec": {
   "display_name": "Python 3 (ipykernel)",
   "language": "python",
   "name": "python3"
  },
  "language_info": {
   "codemirror_mode": {
    "name": "ipython",
    "version": 3
   },
   "file_extension": ".py",
   "mimetype": "text/x-python",
   "name": "python",
   "nbconvert_exporter": "python",
   "pygments_lexer": "ipython3",
   "version": "3.11.7"
  }
 },
 "nbformat": 4,
 "nbformat_minor": 5
}
