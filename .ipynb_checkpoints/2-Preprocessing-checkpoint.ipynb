{
 "cells": [
  {
   "cell_type": "markdown",
   "id": "ec935da3-90bc-4117-a5ed-175ee78130a4",
   "metadata": {},
   "source": [
    "TIỀN XỬ LÝ DỮ LIỆU"
   ]
  },
  {
   "cell_type": "code",
   "execution_count": 32,
   "id": "6e048118-d28d-4a7b-9c3f-234f0090ba1c",
   "metadata": {},
   "outputs": [
    {
     "name": "stdout",
     "output_type": "stream",
     "text": [
      "Requirement already satisfied: emojis in c:\\users\\hp\\anaconda3\\lib\\site-packages (0.7.0)\n"
     ]
    }
   ],
   "source": [
    "!pip install emojis"
   ]
  },
  {
   "cell_type": "code",
   "execution_count": 43,
   "id": "10403305-eb7e-4535-b8eb-6ca5cc33e83e",
   "metadata": {},
   "outputs": [],
   "source": [
    "import pandas as pd\n",
    "import numpy as np\n",
    "import enchant\n",
    "import unicodedata\n",
    "import random\n",
    "\n",
    "\n",
    "import modules.process as Processor\n",
    "import modules.utils as Utils\n",
    "from pyvi import ViTokenizer\n",
    "from sklearn.utils import shuffle"
   ]
  },
  {
   "cell_type": "code",
   "execution_count": 2,
   "id": "93fc8a8a-73ce-4a00-bc99-059d70e75eef",
   "metadata": {},
   "outputs": [
    {
     "data": {
      "text/html": [
       "<div>\n",
       "<style scoped>\n",
       "    .dataframe tbody tr th:only-of-type {\n",
       "        vertical-align: middle;\n",
       "    }\n",
       "\n",
       "    .dataframe tbody tr th {\n",
       "        vertical-align: top;\n",
       "    }\n",
       "\n",
       "    .dataframe thead th {\n",
       "        text-align: right;\n",
       "    }\n",
       "</style>\n",
       "<table border=\"1\" class=\"dataframe\">\n",
       "  <thead>\n",
       "    <tr style=\"text-align: right;\">\n",
       "      <th></th>\n",
       "      <th>comment</th>\n",
       "      <th>rating</th>\n",
       "    </tr>\n",
       "  </thead>\n",
       "  <tbody>\n",
       "    <tr>\n",
       "      <th>0</th>\n",
       "      <td>Màu sắc:purple\\nĐúng với mô tả:yes\\nChất liệu:...</td>\n",
       "      <td>5</td>\n",
       "    </tr>\n",
       "    <tr>\n",
       "      <th>1</th>\n",
       "      <td>Màu sắc:xanh dương\\nChất liệu:vải\\nĐúng với mô...</td>\n",
       "      <td>5</td>\n",
       "    </tr>\n",
       "    <tr>\n",
       "      <th>2</th>\n",
       "      <td>Đúng với mô tả:giong mo ta\\nChất liệu:thun\\nMà...</td>\n",
       "      <td>5</td>\n",
       "    </tr>\n",
       "    <tr>\n",
       "      <th>3</th>\n",
       "      <td>Đúng với mô tả:đúng mô tả\\nMàu sắc:ghi\\nChất l...</td>\n",
       "      <td>5</td>\n",
       "    </tr>\n",
       "    <tr>\n",
       "      <th>4</th>\n",
       "      <td>Chất liệu:thun mát\\nĐúng với mô tả:đúng\\nMàu s...</td>\n",
       "      <td>5</td>\n",
       "    </tr>\n",
       "  </tbody>\n",
       "</table>\n",
       "</div>"
      ],
      "text/plain": [
       "                                             comment rating\n",
       "0  Màu sắc:purple\\nĐúng với mô tả:yes\\nChất liệu:...      5\n",
       "1  Màu sắc:xanh dương\\nChất liệu:vải\\nĐúng với mô...      5\n",
       "2  Đúng với mô tả:giong mo ta\\nChất liệu:thun\\nMà...      5\n",
       "3  Đúng với mô tả:đúng mô tả\\nMàu sắc:ghi\\nChất l...      5\n",
       "4  Chất liệu:thun mát\\nĐúng với mô tả:đúng\\nMàu s...      5"
      ]
     },
     "execution_count": 2,
     "metadata": {},
     "output_type": "execute_result"
    }
   ],
   "source": [
    "df = pd.read_csv('./data/product_df.csv')\n",
    "df.head()"
   ]
  },
  {
   "cell_type": "code",
   "execution_count": 3,
   "id": "3afb488c-5db1-482c-8701-52923d5fea38",
   "metadata": {},
   "outputs": [
    {
     "data": {
      "text/plain": [
       "(221276, 2)"
      ]
     },
     "execution_count": 3,
     "metadata": {},
     "output_type": "execute_result"
    }
   ],
   "source": [
    "df.shape"
   ]
  },
  {
   "cell_type": "markdown",
   "id": "2fd1d442-2b1d-438b-821c-701f136f2645",
   "metadata": {},
   "source": [
    "Tập dữ liệu có 221276 records và 2 features (comment, rating) với:\n",
    "- comment: đánh giá sản phẩm\n",
    "- rating: số sao"
   ]
  },
  {
   "cell_type": "markdown",
   "id": "b3b2c82e-bff7-4835-bf8b-6f2bc641778b",
   "metadata": {},
   "source": [
    "Đếm tần số xuất hiện của từng rating (sao)"
   ]
  },
  {
   "cell_type": "code",
   "execution_count": 3,
   "id": "2906c16c-633c-4638-8999-458e2fcd2495",
   "metadata": {},
   "outputs": [
    {
     "data": {
      "text/plain": [
       "rating\n",
       "5         178566\n",
       "3          13004\n",
       "4          12481\n",
       "1          10881\n",
       "2           6059\n",
       "rating       284\n",
       "Name: count, dtype: int64"
      ]
     },
     "execution_count": 3,
     "metadata": {},
     "output_type": "execute_result"
    }
   ],
   "source": [
    "df['rating'].value_counts()"
   ]
  },
  {
   "cell_type": "markdown",
   "id": "ff878bea-d356-4757-b62a-a511ac62ce06",
   "metadata": {},
   "source": [
    "Nhận xét: Tập dữ liệu có hơn 200000 records nhưng có sự chênh lệch lớn giữa đánh giá 5 sao và đánh giá có số sao còn lại. Điều này là hoàn toàn bình thường vì thuật toán gợi ý sản phẩm của Shopee sẽ ưu tiên hiển thị những sản phẩm có đánh giá tốt và hạn chế (hoặc không gợi ý) các sản phẩm có đánh giá kém. Việc này thực sự không thể tránh khỏi."
   ]
  },
  {
   "cell_type": "markdown",
   "id": "17ad2b31-c160-4fe3-ba40-3e34b1e089b3",
   "metadata": {},
   "source": [
    "Dữ liệu rỗng"
   ]
  },
  {
   "cell_type": "code",
   "execution_count": 22,
   "id": "b762adfa-3e88-4bce-a318-60f174c5318f",
   "metadata": {},
   "outputs": [
    {
     "data": {
      "text/plain": [
       "comment    99675\n",
       "rating         1\n",
       "dtype: int64"
      ]
     },
     "execution_count": 22,
     "metadata": {},
     "output_type": "execute_result"
    }
   ],
   "source": [
    "df.isnull().sum()"
   ]
  },
  {
   "cell_type": "code",
   "execution_count": 3,
   "id": "77c09475-7f78-40b5-8b45-cbfbac8ec1c9",
   "metadata": {},
   "outputs": [
    {
     "data": {
      "text/plain": [
       "(121600, 2)"
      ]
     },
     "execution_count": 3,
     "metadata": {},
     "output_type": "execute_result"
    }
   ],
   "source": [
    "df = df.dropna()\n",
    "df.shape"
   ]
  },
  {
   "cell_type": "markdown",
   "id": "d6631863-9755-4620-86ec-1246b6c997fe",
   "metadata": {},
   "source": [
    "Tiến hành đưa tất cả các text về cùng một chuẩn duy nhất:\n",
    "- Đưa về chữ thường.\n",
    "- Đưa về cùng chuẩn Unicode (NDF)."
   ]
  },
  {
   "cell_type": "markdown",
   "id": "56a3fc2c-f519-4deb-874f-08b0bcfda717",
   "metadata": {},
   "source": [
    "- Ta sẽ tạo thêm 1 feature: nomalized_comment được chuẩn hóa 2 bước như trên. Và feature comment chuẩn hóa nhưng không đưa về chữ thường."
   ]
  },
  {
   "cell_type": "code",
   "execution_count": 4,
   "id": "0d322bc6-463b-4b5c-9ae4-5994776df4fa",
   "metadata": {},
   "outputs": [
    {
     "data": {
      "text/html": [
       "<div>\n",
       "<style scoped>\n",
       "    .dataframe tbody tr th:only-of-type {\n",
       "        vertical-align: middle;\n",
       "    }\n",
       "\n",
       "    .dataframe tbody tr th {\n",
       "        vertical-align: top;\n",
       "    }\n",
       "\n",
       "    .dataframe thead th {\n",
       "        text-align: right;\n",
       "    }\n",
       "</style>\n",
       "<table border=\"1\" class=\"dataframe\">\n",
       "  <thead>\n",
       "    <tr style=\"text-align: right;\">\n",
       "      <th></th>\n",
       "      <th>comment</th>\n",
       "      <th>rating</th>\n",
       "      <th>nomalized_comment</th>\n",
       "    </tr>\n",
       "  </thead>\n",
       "  <tbody>\n",
       "    <tr>\n",
       "      <th>0</th>\n",
       "      <td>Màu sắc:purple\\nĐúng với mô tả:yes\\nChất liệu:...</td>\n",
       "      <td>5</td>\n",
       "      <td>màu sắc:purple\\nđúng với mô tả:yes\\nch...</td>\n",
       "    </tr>\n",
       "    <tr>\n",
       "      <th>1</th>\n",
       "      <td>Màu sắc:xanh dương\\nChất liệu:vải\\nĐúng với mô...</td>\n",
       "      <td>5</td>\n",
       "      <td>màu sắc:xanh dương\\nchất liệu:vải\\nđ...</td>\n",
       "    </tr>\n",
       "    <tr>\n",
       "      <th>2</th>\n",
       "      <td>Đúng với mô tả:giong mo ta\\nChất liệu:thun\\nMà...</td>\n",
       "      <td>5</td>\n",
       "      <td>đúng với mô tả:giong mo ta\\nchất liệu...</td>\n",
       "    </tr>\n",
       "    <tr>\n",
       "      <th>3</th>\n",
       "      <td>Đúng với mô tả:đúng mô tả\\nMàu sắc:ghi\\nChất l...</td>\n",
       "      <td>5</td>\n",
       "      <td>đúng với mô tả:đúng mô tả\\nmàu sắc:...</td>\n",
       "    </tr>\n",
       "    <tr>\n",
       "      <th>4</th>\n",
       "      <td>Chất liệu:thun mát\\nĐúng với mô tả:đúng\\nMàu s...</td>\n",
       "      <td>5</td>\n",
       "      <td>chất liệu:thun mát\\nđúng với mô tả:đ...</td>\n",
       "    </tr>\n",
       "  </tbody>\n",
       "</table>\n",
       "</div>"
      ],
      "text/plain": [
       "                                             comment rating  \\\n",
       "0  Màu sắc:purple\\nĐúng với mô tả:yes\\nChất liệu:...      5   \n",
       "1  Màu sắc:xanh dương\\nChất liệu:vải\\nĐúng với mô...      5   \n",
       "2  Đúng với mô tả:giong mo ta\\nChất liệu:thun\\nMà...      5   \n",
       "3  Đúng với mô tả:đúng mô tả\\nMàu sắc:ghi\\nChất l...      5   \n",
       "4  Chất liệu:thun mát\\nĐúng với mô tả:đúng\\nMàu s...      5   \n",
       "\n",
       "                                   nomalized_comment  \n",
       "0  màu sắc:purple\\nđúng với mô tả:yes\\nch...  \n",
       "1  màu sắc:xanh dương\\nchất liệu:vải\\nđ...  \n",
       "2  đúng với mô tả:giong mo ta\\nchất liệu...  \n",
       "3  đúng với mô tả:đúng mô tả\\nmàu sắc:...  \n",
       "4  chất liệu:thun mát\\nđúng với mô tả:đ...  "
      ]
     },
     "execution_count": 4,
     "metadata": {},
     "output_type": "execute_result"
    }
   ],
   "source": [
    "df['nomalized_comment'] = df['comment'].astype(str).apply(lambda cmt: Processor.normalizeComment(cmt, True))\n",
    "df.head()"
   ]
  },
  {
   "cell_type": "code",
   "execution_count": 5,
   "id": "969a451d-113e-4c7f-84b6-03fbfb4d6acb",
   "metadata": {},
   "outputs": [
    {
     "data": {
      "text/html": [
       "<div>\n",
       "<style scoped>\n",
       "    .dataframe tbody tr th:only-of-type {\n",
       "        vertical-align: middle;\n",
       "    }\n",
       "\n",
       "    .dataframe tbody tr th {\n",
       "        vertical-align: top;\n",
       "    }\n",
       "\n",
       "    .dataframe thead th {\n",
       "        text-align: right;\n",
       "    }\n",
       "</style>\n",
       "<table border=\"1\" class=\"dataframe\">\n",
       "  <thead>\n",
       "    <tr style=\"text-align: right;\">\n",
       "      <th></th>\n",
       "      <th>comment</th>\n",
       "      <th>rating</th>\n",
       "      <th>nomalized_comment</th>\n",
       "    </tr>\n",
       "  </thead>\n",
       "  <tbody>\n",
       "    <tr>\n",
       "      <th>0</th>\n",
       "      <td>Màu sắc:purple\\nĐúng với mô tả:yes\\nCh...</td>\n",
       "      <td>5</td>\n",
       "      <td>màu sắc:purple\\nđúng với mô tả:yes\\nch...</td>\n",
       "    </tr>\n",
       "    <tr>\n",
       "      <th>1</th>\n",
       "      <td>Màu sắc:xanh dương\\nChất liệu:vải\\nĐ...</td>\n",
       "      <td>5</td>\n",
       "      <td>màu sắc:xanh dương\\nchất liệu:vải\\nđ...</td>\n",
       "    </tr>\n",
       "    <tr>\n",
       "      <th>2</th>\n",
       "      <td>Đúng với mô tả:giong mo ta\\nChất liệu...</td>\n",
       "      <td>5</td>\n",
       "      <td>đúng với mô tả:giong mo ta\\nchất liệu...</td>\n",
       "    </tr>\n",
       "    <tr>\n",
       "      <th>3</th>\n",
       "      <td>Đúng với mô tả:đúng mô tả\\nMàu sắc:...</td>\n",
       "      <td>5</td>\n",
       "      <td>đúng với mô tả:đúng mô tả\\nmàu sắc:...</td>\n",
       "    </tr>\n",
       "    <tr>\n",
       "      <th>4</th>\n",
       "      <td>Chất liệu:thun mát\\nĐúng với mô tả:đ...</td>\n",
       "      <td>5</td>\n",
       "      <td>chất liệu:thun mát\\nđúng với mô tả:đ...</td>\n",
       "    </tr>\n",
       "  </tbody>\n",
       "</table>\n",
       "</div>"
      ],
      "text/plain": [
       "                                             comment rating  \\\n",
       "0  Màu sắc:purple\\nĐúng với mô tả:yes\\nCh...      5   \n",
       "1  Màu sắc:xanh dương\\nChất liệu:vải\\nĐ...      5   \n",
       "2  Đúng với mô tả:giong mo ta\\nChất liệu...      5   \n",
       "3  Đúng với mô tả:đúng mô tả\\nMàu sắc:...      5   \n",
       "4  Chất liệu:thun mát\\nĐúng với mô tả:đ...      5   \n",
       "\n",
       "                                   nomalized_comment  \n",
       "0  màu sắc:purple\\nđúng với mô tả:yes\\nch...  \n",
       "1  màu sắc:xanh dương\\nchất liệu:vải\\nđ...  \n",
       "2  đúng với mô tả:giong mo ta\\nchất liệu...  \n",
       "3  đúng với mô tả:đúng mô tả\\nmàu sắc:...  \n",
       "4  chất liệu:thun mát\\nđúng với mô tả:đ...  "
      ]
     },
     "execution_count": 5,
     "metadata": {},
     "output_type": "execute_result"
    }
   ],
   "source": [
    "df['comment'] = df['comment'].astype(str).apply(lambda cmt: Processor.normalizeComment(cmt, False))\n",
    "df.head()"
   ]
  },
  {
   "attachments": {},
   "cell_type": "markdown",
   "id": "d93949aa-c341-4d0a-8bdc-45f9570ac250",
   "metadata": {},
   "source": [
    "Đánh giá \"quảng cáo\":\n",
    "- Đánh giá chứa link url: Theo quan sát, các đánh giá của các sản phẩm đôi khi sẽ chứa các url do những người bán hàng chèn vào để \"quảng cáo\" mặt hàng khác của họ. Đây là các noise sample mà ta cần phải loại bỏ khỏi tập dữ liệu.\n",
    "- Đánh giá mà chữ IN HOA chiểm hơn 50% độ dài đánh giá: Các đánh giá khả năng cao cũng là quảng cáo vì để làm nổi bật đánh giá này so với những đánh giá còn lại."
   ]
  },
  {
   "cell_type": "markdown",
   "id": "4ddc0d07-6a6f-4fb8-bf7d-e44641a3d235",
   "metadata": {},
   "source": [
    "Đánh giá chứa link url:"
   ]
  },
  {
   "cell_type": "code",
   "execution_count": 6,
   "id": "c6eab3d8-7ff7-44ea-9c89-84fa631d822b",
   "metadata": {},
   "outputs": [
    {
     "name": "stdout",
     "output_type": "stream",
     "text": [
      "Shape: (121600, 4)\n",
      "contain_url\n",
      "0    120887\n",
      "1       713\n",
      "Name: count, dtype: int64\n"
     ]
    },
    {
     "data": {
      "text/html": [
       "<div>\n",
       "<style scoped>\n",
       "    .dataframe tbody tr th:only-of-type {\n",
       "        vertical-align: middle;\n",
       "    }\n",
       "\n",
       "    .dataframe tbody tr th {\n",
       "        vertical-align: top;\n",
       "    }\n",
       "\n",
       "    .dataframe thead th {\n",
       "        text-align: right;\n",
       "    }\n",
       "</style>\n",
       "<table border=\"1\" class=\"dataframe\">\n",
       "  <thead>\n",
       "    <tr style=\"text-align: right;\">\n",
       "      <th></th>\n",
       "      <th>comment</th>\n",
       "      <th>rating</th>\n",
       "      <th>nomalized_comment</th>\n",
       "      <th>contain_url</th>\n",
       "    </tr>\n",
       "  </thead>\n",
       "  <tbody>\n",
       "    <tr>\n",
       "      <th>0</th>\n",
       "      <td>Màu sắc:purple\\nĐúng với mô tả:yes\\nCh...</td>\n",
       "      <td>5</td>\n",
       "      <td>màu sắc:purple\\nđúng với mô tả:yes\\nch...</td>\n",
       "      <td>0</td>\n",
       "    </tr>\n",
       "    <tr>\n",
       "      <th>1</th>\n",
       "      <td>Màu sắc:xanh dương\\nChất liệu:vải\\nĐ...</td>\n",
       "      <td>5</td>\n",
       "      <td>màu sắc:xanh dương\\nchất liệu:vải\\nđ...</td>\n",
       "      <td>0</td>\n",
       "    </tr>\n",
       "    <tr>\n",
       "      <th>2</th>\n",
       "      <td>Đúng với mô tả:giong mo ta\\nChất liệu...</td>\n",
       "      <td>5</td>\n",
       "      <td>đúng với mô tả:giong mo ta\\nchất liệu...</td>\n",
       "      <td>0</td>\n",
       "    </tr>\n",
       "    <tr>\n",
       "      <th>3</th>\n",
       "      <td>Đúng với mô tả:đúng mô tả\\nMàu sắc:...</td>\n",
       "      <td>5</td>\n",
       "      <td>đúng với mô tả:đúng mô tả\\nmàu sắc:...</td>\n",
       "      <td>0</td>\n",
       "    </tr>\n",
       "    <tr>\n",
       "      <th>4</th>\n",
       "      <td>Chất liệu:thun mát\\nĐúng với mô tả:đ...</td>\n",
       "      <td>5</td>\n",
       "      <td>chất liệu:thun mát\\nđúng với mô tả:đ...</td>\n",
       "      <td>0</td>\n",
       "    </tr>\n",
       "  </tbody>\n",
       "</table>\n",
       "</div>"
      ],
      "text/plain": [
       "                                             comment rating  \\\n",
       "0  Màu sắc:purple\\nĐúng với mô tả:yes\\nCh...      5   \n",
       "1  Màu sắc:xanh dương\\nChất liệu:vải\\nĐ...      5   \n",
       "2  Đúng với mô tả:giong mo ta\\nChất liệu...      5   \n",
       "3  Đúng với mô tả:đúng mô tả\\nMàu sắc:...      5   \n",
       "4  Chất liệu:thun mát\\nĐúng với mô tả:đ...      5   \n",
       "\n",
       "                                   nomalized_comment  contain_url  \n",
       "0  màu sắc:purple\\nđúng với mô tả:yes\\nch...            0  \n",
       "1  màu sắc:xanh dương\\nchất liệu:vải\\nđ...            0  \n",
       "2  đúng với mô tả:giong mo ta\\nchất liệu...            0  \n",
       "3  đúng với mô tả:đúng mô tả\\nmàu sắc:...            0  \n",
       "4  chất liệu:thun mát\\nđúng với mô tả:đ...            0  "
      ]
     },
     "execution_count": 6,
     "metadata": {},
     "output_type": "execute_result"
    }
   ],
   "source": [
    "#Kiểm tra số lượng đánh giá chứa link url\n",
    "df['contain_url'] = df['nomalized_comment'].apply(lambda cmt: Processor.containsURL(cmt))\n",
    "Processor.printAfterProcess(df, 'contain_url')\n",
    "df.head()"
   ]
  },
  {
   "cell_type": "code",
   "execution_count": 7,
   "id": "d924ba2d-70f1-48bf-9b28-d9a2f783c6f2",
   "metadata": {},
   "outputs": [
    {
     "data": {
      "text/plain": [
       "(120887, 3)"
      ]
     },
     "execution_count": 7,
     "metadata": {},
     "output_type": "execute_result"
    }
   ],
   "source": [
    "# Lấy các bình luận không chứa link URL\n",
    "df = df[df['contain_url'] == 0]\n",
    "df = df.drop(columns=['contain_url']).reset_index(drop=True) # xóa cột 'contain_url'\n",
    "df.shape"
   ]
  },
  {
   "cell_type": "markdown",
   "id": "9fdb6d37-342b-4390-aebf-2202f8f0d9e2",
   "metadata": {},
   "source": [
    "Đánh giá IN HOA trên 50%:"
   ]
  },
  {
   "cell_type": "code",
   "execution_count": 8,
   "id": "d7671205-6f21-4677-9fae-847d8a746faf",
   "metadata": {},
   "outputs": [
    {
     "name": "stdout",
     "output_type": "stream",
     "text": [
      "Shape: (120887, 4)\n",
      "contain_adv\n",
      "False    118668\n",
      "True       2219\n",
      "Name: count, dtype: int64\n"
     ]
    },
    {
     "data": {
      "text/html": [
       "<div>\n",
       "<style scoped>\n",
       "    .dataframe tbody tr th:only-of-type {\n",
       "        vertical-align: middle;\n",
       "    }\n",
       "\n",
       "    .dataframe tbody tr th {\n",
       "        vertical-align: top;\n",
       "    }\n",
       "\n",
       "    .dataframe thead th {\n",
       "        text-align: right;\n",
       "    }\n",
       "</style>\n",
       "<table border=\"1\" class=\"dataframe\">\n",
       "  <thead>\n",
       "    <tr style=\"text-align: right;\">\n",
       "      <th></th>\n",
       "      <th>comment</th>\n",
       "      <th>rating</th>\n",
       "      <th>nomalized_comment</th>\n",
       "      <th>contain_adv</th>\n",
       "    </tr>\n",
       "  </thead>\n",
       "  <tbody>\n",
       "    <tr>\n",
       "      <th>0</th>\n",
       "      <td>Màu sắc:purple\\nĐúng với mô tả:yes\\nCh...</td>\n",
       "      <td>5</td>\n",
       "      <td>màu sắc:purple\\nđúng với mô tả:yes\\nch...</td>\n",
       "      <td>False</td>\n",
       "    </tr>\n",
       "    <tr>\n",
       "      <th>1</th>\n",
       "      <td>Màu sắc:xanh dương\\nChất liệu:vải\\nĐ...</td>\n",
       "      <td>5</td>\n",
       "      <td>màu sắc:xanh dương\\nchất liệu:vải\\nđ...</td>\n",
       "      <td>False</td>\n",
       "    </tr>\n",
       "    <tr>\n",
       "      <th>2</th>\n",
       "      <td>Đúng với mô tả:giong mo ta\\nChất liệu...</td>\n",
       "      <td>5</td>\n",
       "      <td>đúng với mô tả:giong mo ta\\nchất liệu...</td>\n",
       "      <td>False</td>\n",
       "    </tr>\n",
       "    <tr>\n",
       "      <th>3</th>\n",
       "      <td>Đúng với mô tả:đúng mô tả\\nMàu sắc:...</td>\n",
       "      <td>5</td>\n",
       "      <td>đúng với mô tả:đúng mô tả\\nmàu sắc:...</td>\n",
       "      <td>False</td>\n",
       "    </tr>\n",
       "    <tr>\n",
       "      <th>4</th>\n",
       "      <td>Chất liệu:thun mát\\nĐúng với mô tả:đ...</td>\n",
       "      <td>5</td>\n",
       "      <td>chất liệu:thun mát\\nđúng với mô tả:đ...</td>\n",
       "      <td>False</td>\n",
       "    </tr>\n",
       "  </tbody>\n",
       "</table>\n",
       "</div>"
      ],
      "text/plain": [
       "                                             comment rating  \\\n",
       "0  Màu sắc:purple\\nĐúng với mô tả:yes\\nCh...      5   \n",
       "1  Màu sắc:xanh dương\\nChất liệu:vải\\nĐ...      5   \n",
       "2  Đúng với mô tả:giong mo ta\\nChất liệu...      5   \n",
       "3  Đúng với mô tả:đúng mô tả\\nMàu sắc:...      5   \n",
       "4  Chất liệu:thun mát\\nĐúng với mô tả:đ...      5   \n",
       "\n",
       "                                   nomalized_comment  contain_adv  \n",
       "0  màu sắc:purple\\nđúng với mô tả:yes\\nch...        False  \n",
       "1  màu sắc:xanh dương\\nchất liệu:vải\\nđ...        False  \n",
       "2  đúng với mô tả:giong mo ta\\nchất liệu...        False  \n",
       "3  đúng với mô tả:đúng mô tả\\nmàu sắc:...        False  \n",
       "4  chất liệu:thun mát\\nđúng với mô tả:đ...        False  "
      ]
     },
     "execution_count": 8,
     "metadata": {},
     "output_type": "execute_result"
    }
   ],
   "source": [
    "#Kiểm tra số lượng đánh giá IN HOA trên 50%\n",
    "df['contain_adv'] = df['comment'].apply(lambda cmt: Processor.containAdvertisement(cmt))\n",
    "Processor.printAfterProcess(df, 'contain_adv')\n",
    "df.head()"
   ]
  },
  {
   "cell_type": "code",
   "execution_count": 9,
   "id": "06bf9c18-c2ea-40eb-8bb5-7adf4815da7e",
   "metadata": {
    "scrolled": true
   },
   "outputs": [
    {
     "name": "stdout",
     "output_type": "stream",
     "text": [
      "Shape: (118668, 3)\n",
      "rating\n",
      "5         93898\n",
      "1          7378\n",
      "3          7137\n",
      "4          6102\n",
      "2          3869\n",
      "rating      284\n",
      "Name: count, dtype: int64\n"
     ]
    },
    {
     "data": {
      "text/html": [
       "<div>\n",
       "<style scoped>\n",
       "    .dataframe tbody tr th:only-of-type {\n",
       "        vertical-align: middle;\n",
       "    }\n",
       "\n",
       "    .dataframe tbody tr th {\n",
       "        vertical-align: top;\n",
       "    }\n",
       "\n",
       "    .dataframe thead th {\n",
       "        text-align: right;\n",
       "    }\n",
       "</style>\n",
       "<table border=\"1\" class=\"dataframe\">\n",
       "  <thead>\n",
       "    <tr style=\"text-align: right;\">\n",
       "      <th></th>\n",
       "      <th>comment</th>\n",
       "      <th>rating</th>\n",
       "      <th>nomalized_comment</th>\n",
       "    </tr>\n",
       "  </thead>\n",
       "  <tbody>\n",
       "    <tr>\n",
       "      <th>0</th>\n",
       "      <td>Màu sắc:purple\\nĐúng với mô tả:yes\\nCh...</td>\n",
       "      <td>5</td>\n",
       "      <td>màu sắc:purple\\nđúng với mô tả:yes\\nch...</td>\n",
       "    </tr>\n",
       "    <tr>\n",
       "      <th>1</th>\n",
       "      <td>Màu sắc:xanh dương\\nChất liệu:vải\\nĐ...</td>\n",
       "      <td>5</td>\n",
       "      <td>màu sắc:xanh dương\\nchất liệu:vải\\nđ...</td>\n",
       "    </tr>\n",
       "    <tr>\n",
       "      <th>2</th>\n",
       "      <td>Đúng với mô tả:giong mo ta\\nChất liệu...</td>\n",
       "      <td>5</td>\n",
       "      <td>đúng với mô tả:giong mo ta\\nchất liệu...</td>\n",
       "    </tr>\n",
       "    <tr>\n",
       "      <th>3</th>\n",
       "      <td>Đúng với mô tả:đúng mô tả\\nMàu sắc:...</td>\n",
       "      <td>5</td>\n",
       "      <td>đúng với mô tả:đúng mô tả\\nmàu sắc:...</td>\n",
       "    </tr>\n",
       "    <tr>\n",
       "      <th>4</th>\n",
       "      <td>Chất liệu:thun mát\\nĐúng với mô tả:đ...</td>\n",
       "      <td>5</td>\n",
       "      <td>chất liệu:thun mát\\nđúng với mô tả:đ...</td>\n",
       "    </tr>\n",
       "  </tbody>\n",
       "</table>\n",
       "</div>"
      ],
      "text/plain": [
       "                                             comment rating  \\\n",
       "0  Màu sắc:purple\\nĐúng với mô tả:yes\\nCh...      5   \n",
       "1  Màu sắc:xanh dương\\nChất liệu:vải\\nĐ...      5   \n",
       "2  Đúng với mô tả:giong mo ta\\nChất liệu...      5   \n",
       "3  Đúng với mô tả:đúng mô tả\\nMàu sắc:...      5   \n",
       "4  Chất liệu:thun mát\\nĐúng với mô tả:đ...      5   \n",
       "\n",
       "                                   nomalized_comment  \n",
       "0  màu sắc:purple\\nđúng với mô tả:yes\\nch...  \n",
       "1  màu sắc:xanh dương\\nchất liệu:vải\\nđ...  \n",
       "2  đúng với mô tả:giong mo ta\\nchất liệu...  \n",
       "3  đúng với mô tả:đúng mô tả\\nmàu sắc:...  \n",
       "4  chất liệu:thun mát\\nđúng với mô tả:đ...  "
      ]
     },
     "execution_count": 9,
     "metadata": {},
     "output_type": "execute_result"
    }
   ],
   "source": [
    "#Loại bỏ đánh giá quảng cáo\n",
    "df = df[df['contain_adv'] == 0]\n",
    "df = df.drop(columns=['contain_adv']).reset_index(drop=True) # xóa cột 'contain_adv'\n",
    "Processor.printAfterProcess(df, 'rating')\n",
    "df.head()"
   ]
  },
  {
   "cell_type": "markdown",
   "id": "cb4a58e3-04c9-45e8-b564-1cc0875d1b84",
   "metadata": {},
   "source": [
    "Kí tự đặc biệt:\n",
    "\n",
    "> Emoji:\n",
    "- Theo quan sát, ta có thể thấy có các đánh giá chứa emoji. Và các emoji cũng thể hiện một phần thể hiện được sự tích cực hoặc tiêu cực của đánh giá.\n",
    "- Ta sẽ tiến hành tách các emoji này thành một feature mới trước khi loại bỏ các kí tự đặc biệt vì vốn dĩ emoji cũng được xây dựng bằng các kí tự đặc biệt.\n",
    "> Xóa các kí tự đặc biệt"
   ]
  },
  {
   "cell_type": "code",
   "execution_count": 10,
   "id": "4eee5bc9-ef8e-4e5e-9111-3b31399b1080",
   "metadata": {},
   "outputs": [
    {
     "data": {
      "text/html": [
       "<div>\n",
       "<style scoped>\n",
       "    .dataframe tbody tr th:only-of-type {\n",
       "        vertical-align: middle;\n",
       "    }\n",
       "\n",
       "    .dataframe tbody tr th {\n",
       "        vertical-align: top;\n",
       "    }\n",
       "\n",
       "    .dataframe thead th {\n",
       "        text-align: right;\n",
       "    }\n",
       "</style>\n",
       "<table border=\"1\" class=\"dataframe\">\n",
       "  <thead>\n",
       "    <tr style=\"text-align: right;\">\n",
       "      <th></th>\n",
       "      <th>comment</th>\n",
       "      <th>rating</th>\n",
       "      <th>nomalized_comment</th>\n",
       "      <th>emoji</th>\n",
       "    </tr>\n",
       "  </thead>\n",
       "  <tbody>\n",
       "    <tr>\n",
       "      <th>0</th>\n",
       "      <td>Màu sắc:purple\\nĐúng với mô tả:yes\\nCh...</td>\n",
       "      <td>5</td>\n",
       "      <td>màu sắc:purple\\nđúng với mô tả:yes\\nch...</td>\n",
       "      <td></td>\n",
       "    </tr>\n",
       "    <tr>\n",
       "      <th>1</th>\n",
       "      <td>Màu sắc:xanh dương\\nChất liệu:vải\\nĐ...</td>\n",
       "      <td>5</td>\n",
       "      <td>màu sắc:xanh dương\\nchất liệu:vải\\nđ...</td>\n",
       "      <td></td>\n",
       "    </tr>\n",
       "    <tr>\n",
       "      <th>2</th>\n",
       "      <td>Đúng với mô tả:giong mo ta\\nChất liệu...</td>\n",
       "      <td>5</td>\n",
       "      <td>đúng với mô tả:giong mo ta\\nchất liệu...</td>\n",
       "      <td></td>\n",
       "    </tr>\n",
       "    <tr>\n",
       "      <th>3</th>\n",
       "      <td>Đúng với mô tả:đúng mô tả\\nMàu sắc:...</td>\n",
       "      <td>5</td>\n",
       "      <td>đúng với mô tả:đúng mô tả\\nmàu sắc:...</td>\n",
       "      <td></td>\n",
       "    </tr>\n",
       "    <tr>\n",
       "      <th>4</th>\n",
       "      <td>Chất liệu:thun mát\\nĐúng với mô tả:đ...</td>\n",
       "      <td>5</td>\n",
       "      <td>chất liệu:thun mát\\nđúng với mô tả:đ...</td>\n",
       "      <td></td>\n",
       "    </tr>\n",
       "  </tbody>\n",
       "</table>\n",
       "</div>"
      ],
      "text/plain": [
       "                                             comment rating  \\\n",
       "0  Màu sắc:purple\\nĐúng với mô tả:yes\\nCh...      5   \n",
       "1  Màu sắc:xanh dương\\nChất liệu:vải\\nĐ...      5   \n",
       "2  Đúng với mô tả:giong mo ta\\nChất liệu...      5   \n",
       "3  Đúng với mô tả:đúng mô tả\\nMàu sắc:...      5   \n",
       "4  Chất liệu:thun mát\\nĐúng với mô tả:đ...      5   \n",
       "\n",
       "                                   nomalized_comment emoji  \n",
       "0  màu sắc:purple\\nđúng với mô tả:yes\\nch...        \n",
       "1  màu sắc:xanh dương\\nchất liệu:vải\\nđ...        \n",
       "2  đúng với mô tả:giong mo ta\\nchất liệu...        \n",
       "3  đúng với mô tả:đúng mô tả\\nmàu sắc:...        \n",
       "4  chất liệu:thun mát\\nđúng với mô tả:đ...        "
      ]
     },
     "execution_count": 10,
     "metadata": {},
     "output_type": "execute_result"
    }
   ],
   "source": [
    "#Tách emoji sang feature mới:\n",
    "df['emoji'] = df['comment'].apply(lambda cmt: Processor.extractEmoji(cmt))\n",
    "df.head()"
   ]
  },
  {
   "cell_type": "code",
   "execution_count": 48,
   "id": "5a95c1c1-d441-40c4-ba6b-6684153d4939",
   "metadata": {},
   "outputs": [
    {
     "data": {
      "text/html": [
       "<div>\n",
       "<style scoped>\n",
       "    .dataframe tbody tr th:only-of-type {\n",
       "        vertical-align: middle;\n",
       "    }\n",
       "\n",
       "    .dataframe tbody tr th {\n",
       "        vertical-align: top;\n",
       "    }\n",
       "\n",
       "    .dataframe thead th {\n",
       "        text-align: right;\n",
       "    }\n",
       "</style>\n",
       "<table border=\"1\" class=\"dataframe\">\n",
       "  <thead>\n",
       "    <tr style=\"text-align: right;\">\n",
       "      <th></th>\n",
       "      <th>comment</th>\n",
       "      <th>rating</th>\n",
       "      <th>nomalized_comment</th>\n",
       "      <th>emoji</th>\n",
       "    </tr>\n",
       "  </thead>\n",
       "  <tbody>\n",
       "    <tr>\n",
       "      <th>118663</th>\n",
       "      <td>Vua re vua đep</td>\n",
       "      <td>3</td>\n",
       "      <td>vua re vua đep</td>\n",
       "      <td></td>\n",
       "    </tr>\n",
       "    <tr>\n",
       "      <th>118664</th>\n",
       "      <td>Hơi to sop ạ😢</td>\n",
       "      <td>3</td>\n",
       "      <td>hơi to sop ạ😢</td>\n",
       "      <td>😢</td>\n",
       "    </tr>\n",
       "    <tr>\n",
       "      <th>118665</th>\n",
       "      <td>Muốn hoàn tiền lại</td>\n",
       "      <td>1</td>\n",
       "      <td>muốn hoàn tiền lại</td>\n",
       "      <td></td>\n",
       "    </tr>\n",
       "    <tr>\n",
       "      <th>118666</th>\n",
       "      <td>Áo ngắn</td>\n",
       "      <td>2</td>\n",
       "      <td>áo ngắn</td>\n",
       "      <td></td>\n",
       "    </tr>\n",
       "    <tr>\n",
       "      <th>118667</th>\n",
       "      <td>Chất liệu:mỏng</td>\n",
       "      <td>1</td>\n",
       "      <td>chất liệu:mỏng</td>\n",
       "      <td></td>\n",
       "    </tr>\n",
       "  </tbody>\n",
       "</table>\n",
       "</div>"
      ],
      "text/plain": [
       "                         comment rating         nomalized_comment emoji\n",
       "118663            Vua re vua đep      3            vua re vua đep      \n",
       "118664           Hơi to sop ạ😢      3           hơi to sop ạ😢     😢\n",
       "118665  Muốn hoàn tiền lại      1  muốn hoàn tiền lại      \n",
       "118666                Áo ngắn      2                áo ngắn      \n",
       "118667       Chất liệu:mỏng      1       chất liệu:mỏng      "
      ]
     },
     "execution_count": 48,
     "metadata": {},
     "output_type": "execute_result"
    }
   ],
   "source": [
    "df.tail()"
   ]
  },
  {
   "cell_type": "code",
   "execution_count": 11,
   "id": "008967ce-56d3-495f-9825-e7ed9af64d7c",
   "metadata": {},
   "outputs": [
    {
     "data": {
      "text/plain": [
       "',,,,,,,,,😘,,📌,💙 🍀 😪 📜 👩\\u200d🎨 🎤 💗 📢,,❤️,,,,,,😆,,,❗ 🆕,,,,,,,,,👍 🌟,,,,,,,,,,,,,,,,,👉 🥰,,,,,,,,,,,,‼️ ❌ 💪,,,,👍,,,,,,,,,,,😅 💰,,,,,,,,,,,,,,,,,♨️ 📌 ⚡ 📍 👉 ✅ 🌊 2️⃣ 1️⃣,,,,,,,,,,,,‼️ ❤️,,,,,,,,,,,⭐,,,,,,,,,,,,,,👍'"
      ]
     },
     "execution_count": 11,
     "metadata": {},
     "output_type": "execute_result"
    }
   ],
   "source": [
    "\",\".join(df['emoji'])[:200]"
   ]
  },
  {
   "cell_type": "code",
   "execution_count": 12,
   "id": "237a1e16-8e2b-48a3-8f1a-818babc82001",
   "metadata": {},
   "outputs": [
    {
     "data": {
      "text/html": [
       "<div>\n",
       "<style scoped>\n",
       "    .dataframe tbody tr th:only-of-type {\n",
       "        vertical-align: middle;\n",
       "    }\n",
       "\n",
       "    .dataframe tbody tr th {\n",
       "        vertical-align: top;\n",
       "    }\n",
       "\n",
       "    .dataframe thead th {\n",
       "        text-align: right;\n",
       "    }\n",
       "</style>\n",
       "<table border=\"1\" class=\"dataframe\">\n",
       "  <thead>\n",
       "    <tr style=\"text-align: right;\">\n",
       "      <th></th>\n",
       "      <th>comment</th>\n",
       "      <th>rating</th>\n",
       "      <th>nomalized_comment</th>\n",
       "      <th>emoji</th>\n",
       "    </tr>\n",
       "  </thead>\n",
       "  <tbody>\n",
       "    <tr>\n",
       "      <th>118663</th>\n",
       "      <td>Vua re vua đep</td>\n",
       "      <td>3</td>\n",
       "      <td>vua re vua đep</td>\n",
       "      <td></td>\n",
       "    </tr>\n",
       "    <tr>\n",
       "      <th>118664</th>\n",
       "      <td>Hơi to sop ạ😢</td>\n",
       "      <td>3</td>\n",
       "      <td>hơi to sop ạ</td>\n",
       "      <td>😢</td>\n",
       "    </tr>\n",
       "    <tr>\n",
       "      <th>118665</th>\n",
       "      <td>Muốn hoàn tiền lại</td>\n",
       "      <td>1</td>\n",
       "      <td>muốn hoàn tiền lại</td>\n",
       "      <td></td>\n",
       "    </tr>\n",
       "    <tr>\n",
       "      <th>118666</th>\n",
       "      <td>Áo ngắn</td>\n",
       "      <td>2</td>\n",
       "      <td>áo ngắn</td>\n",
       "      <td></td>\n",
       "    </tr>\n",
       "    <tr>\n",
       "      <th>118667</th>\n",
       "      <td>Chất liệu:mỏng</td>\n",
       "      <td>1</td>\n",
       "      <td>chất liệu mỏng</td>\n",
       "      <td></td>\n",
       "    </tr>\n",
       "  </tbody>\n",
       "</table>\n",
       "</div>"
      ],
      "text/plain": [
       "                         comment rating         nomalized_comment emoji\n",
       "118663            Vua re vua đep      3            vua re vua đep      \n",
       "118664           Hơi to sop ạ😢      3            hơi to sop ạ     😢\n",
       "118665  Muốn hoàn tiền lại      1  muốn hoàn tiền lại      \n",
       "118666                Áo ngắn      2                áo ngắn      \n",
       "118667       Chất liệu:mỏng      1       chất liệu mỏng      "
      ]
     },
     "execution_count": 12,
     "metadata": {},
     "output_type": "execute_result"
    }
   ],
   "source": [
    "#Xóa các kí tự đặc biệt\n",
    "df['nomalized_comment'] = df['nomalized_comment'].apply(lambda cmt: Processor.removeSpecialLetters(cmt))\n",
    "df.tail()"
   ]
  },
  {
   "cell_type": "markdown",
   "id": "4cc42eff-7311-465b-8589-4742d90e434a",
   "metadata": {},
   "source": [
    "Đánh giá có chữ cái bị lặp:\n",
    "- Ta cần chuẩn hóa các từ xinhhhhh quá, đẹppppp xỉuuuuu,... thành xinh quá, đẹp xỉu -> loại bỏ những chữ cái bị lặp.\n",
    "- Tuy nhiên ta cần lưu ý những từ tiếng anh thông dụng được sử dụng trong đánh giá như feedback, shipper, freesize. Nếu chỉ xóa chữ cái lặp thông thường sẽ vô tình biến các từ tiếng anh trở thành từ sai -> Cần kiểm tra xem từ lặp chữu cái có phải từ tiếng anh không.\n",
    "  => Ta sẽ thực hiện việc này ở bước 2.6."
   ]
  },
  {
   "cell_type": "markdown",
   "id": "5f0fbeed-720a-4fe4-b9f4-da5deeb45176",
   "metadata": {},
   "source": [
    "Đánh giá vô nghĩa:\n",
    "- Ta sẽ tiến hành xóa các đánh giá không phải là tiếng Việt cũng như các đánh giá soạn \"đại\" để đủ kí tự (theo yêu cầu của Shopee để nhận xu).\n",
    "- Sử dụng file vocabulary.txt chứa hơn 17000 từ đơn phổ biến của tiếng Việt.\n",
    "- Ta cần giữ lại vài từ tiếng anh như shipper, sử dụng package enchant để kiểm tra một từ có phải tiếng Anh không. "
   ]
  },
  {
   "cell_type": "code",
   "execution_count": 13,
   "id": "02c99362-78e9-45c2-9d4a-26eb8ec1cb7e",
   "metadata": {},
   "outputs": [],
   "source": [
    "#Xây dựng từ điển\n",
    "file = open('./supplement/vocabulary.txt', 'r', encoding=\"utf8\")\n",
    "vocab_lst = file.read().split('\\n')\n",
    "vietnamese_vocab= {}\n",
    "for line in vocab_lst:\n",
    "    key = unicodedata.normalize('NFD', line.strip())\n",
    "    vietnamese_vocab[key] = True\n",
    "file.close()\n",
    "\n",
    "english_vocab = enchant.Dict('en_US')\n",
    "\n"
   ]
  },
  {
   "cell_type": "code",
   "execution_count": 14,
   "id": "5d9b2393-c199-4fed-98a2-177316f94e58",
   "metadata": {},
   "outputs": [
    {
     "data": {
      "text/html": [
       "<div>\n",
       "<style scoped>\n",
       "    .dataframe tbody tr th:only-of-type {\n",
       "        vertical-align: middle;\n",
       "    }\n",
       "\n",
       "    .dataframe tbody tr th {\n",
       "        vertical-align: top;\n",
       "    }\n",
       "\n",
       "    .dataframe thead th {\n",
       "        text-align: right;\n",
       "    }\n",
       "</style>\n",
       "<table border=\"1\" class=\"dataframe\">\n",
       "  <thead>\n",
       "    <tr style=\"text-align: right;\">\n",
       "      <th></th>\n",
       "      <th>comment</th>\n",
       "      <th>rating</th>\n",
       "      <th>nomalized_comment</th>\n",
       "      <th>emoji</th>\n",
       "    </tr>\n",
       "  </thead>\n",
       "  <tbody>\n",
       "    <tr>\n",
       "      <th>0</th>\n",
       "      <td>Màu sắc:purple\\nĐúng với mô tả:yes\\nCh...</td>\n",
       "      <td>5</td>\n",
       "      <td>màu sắc purple đúng với mô tả yes châ...</td>\n",
       "      <td></td>\n",
       "    </tr>\n",
       "    <tr>\n",
       "      <th>1</th>\n",
       "      <td>Màu sắc:xanh dương\\nChất liệu:vải\\nĐ...</td>\n",
       "      <td>5</td>\n",
       "      <td>màu sắc xanh dương chất liệu vải đú...</td>\n",
       "      <td></td>\n",
       "    </tr>\n",
       "    <tr>\n",
       "      <th>2</th>\n",
       "      <td>Đúng với mô tả:giong mo ta\\nChất liệu...</td>\n",
       "      <td>5</td>\n",
       "      <td>đúng với mô tả giong mo ta chất liệu ...</td>\n",
       "      <td></td>\n",
       "    </tr>\n",
       "    <tr>\n",
       "      <th>3</th>\n",
       "      <td>Đúng với mô tả:đúng mô tả\\nMàu sắc:...</td>\n",
       "      <td>5</td>\n",
       "      <td>đúng với mô tả đúng mô tả màu sắc g...</td>\n",
       "      <td></td>\n",
       "    </tr>\n",
       "    <tr>\n",
       "      <th>4</th>\n",
       "      <td>Chất liệu:thun mát\\nĐúng với mô tả:đ...</td>\n",
       "      <td>5</td>\n",
       "      <td>chất liệu thun mát đúng với mô tả đu...</td>\n",
       "      <td></td>\n",
       "    </tr>\n",
       "  </tbody>\n",
       "</table>\n",
       "</div>"
      ],
      "text/plain": [
       "                                             comment rating  \\\n",
       "0  Màu sắc:purple\\nĐúng với mô tả:yes\\nCh...      5   \n",
       "1  Màu sắc:xanh dương\\nChất liệu:vải\\nĐ...      5   \n",
       "2  Đúng với mô tả:giong mo ta\\nChất liệu...      5   \n",
       "3  Đúng với mô tả:đúng mô tả\\nMàu sắc:...      5   \n",
       "4  Chất liệu:thun mát\\nĐúng với mô tả:đ...      5   \n",
       "\n",
       "                                   nomalized_comment emoji  \n",
       "0  màu sắc purple đúng với mô tả yes châ...        \n",
       "1  màu sắc xanh dương chất liệu vải đú...        \n",
       "2  đúng với mô tả giong mo ta chất liệu ...        \n",
       "3  đúng với mô tả đúng mô tả màu sắc g...        \n",
       "4  chất liệu thun mát đúng với mô tả đu...        "
      ]
     },
     "execution_count": 14,
     "metadata": {},
     "output_type": "execute_result"
    }
   ],
   "source": [
    "df['nomalized_comment'] = df['nomalized_comment'].apply(lambda cmt: Processor.removeNoiseWord(cmt, vietnamese_vocab, english_vocab))\n",
    "df.head()"
   ]
  },
  {
   "cell_type": "code",
   "execution_count": 15,
   "id": "1983a3c5-4f17-46a6-82cd-96b17f4e2818",
   "metadata": {},
   "outputs": [
    {
     "data": {
      "text/html": [
       "<div>\n",
       "<style scoped>\n",
       "    .dataframe tbody tr th:only-of-type {\n",
       "        vertical-align: middle;\n",
       "    }\n",
       "\n",
       "    .dataframe tbody tr th {\n",
       "        vertical-align: top;\n",
       "    }\n",
       "\n",
       "    .dataframe thead th {\n",
       "        text-align: right;\n",
       "    }\n",
       "</style>\n",
       "<table border=\"1\" class=\"dataframe\">\n",
       "  <thead>\n",
       "    <tr style=\"text-align: right;\">\n",
       "      <th></th>\n",
       "      <th>comment</th>\n",
       "      <th>rating</th>\n",
       "      <th>nomalized_comment</th>\n",
       "      <th>emoji</th>\n",
       "    </tr>\n",
       "  </thead>\n",
       "  <tbody>\n",
       "    <tr>\n",
       "      <th>0</th>\n",
       "      <td>Màu sắc:purple\\nĐúng với mô tả:yes\\nCh...</td>\n",
       "      <td>5</td>\n",
       "      <td>màu sắc purple đúng với mô tả yes châ...</td>\n",
       "      <td></td>\n",
       "    </tr>\n",
       "    <tr>\n",
       "      <th>1</th>\n",
       "      <td>Màu sắc:xanh dương\\nChất liệu:vải\\nĐ...</td>\n",
       "      <td>5</td>\n",
       "      <td>màu sắc xanh dương chất liệu vải đú...</td>\n",
       "      <td></td>\n",
       "    </tr>\n",
       "    <tr>\n",
       "      <th>2</th>\n",
       "      <td>Đúng với mô tả:giong mo ta\\nChất liệu...</td>\n",
       "      <td>5</td>\n",
       "      <td>đúng với mô tả giong mo ta chất liệu ...</td>\n",
       "      <td></td>\n",
       "    </tr>\n",
       "    <tr>\n",
       "      <th>3</th>\n",
       "      <td>Đúng với mô tả:đúng mô tả\\nMàu sắc:...</td>\n",
       "      <td>5</td>\n",
       "      <td>đúng với mô tả đúng mô tả màu sắc g...</td>\n",
       "      <td></td>\n",
       "    </tr>\n",
       "    <tr>\n",
       "      <th>4</th>\n",
       "      <td>Chất liệu:thun mát\\nĐúng với mô tả:đ...</td>\n",
       "      <td>5</td>\n",
       "      <td>chất liệu thun mát đúng với mô tả đu...</td>\n",
       "      <td></td>\n",
       "    </tr>\n",
       "  </tbody>\n",
       "</table>\n",
       "</div>"
      ],
      "text/plain": [
       "                                             comment rating  \\\n",
       "0  Màu sắc:purple\\nĐúng với mô tả:yes\\nCh...      5   \n",
       "1  Màu sắc:xanh dương\\nChất liệu:vải\\nĐ...      5   \n",
       "2  Đúng với mô tả:giong mo ta\\nChất liệu...      5   \n",
       "3  Đúng với mô tả:đúng mô tả\\nMàu sắc:...      5   \n",
       "4  Chất liệu:thun mát\\nĐúng với mô tả:đ...      5   \n",
       "\n",
       "                                   nomalized_comment emoji  \n",
       "0  màu sắc purple đúng với mô tả yes châ...        \n",
       "1  màu sắc xanh dương chất liệu vải đú...        \n",
       "2  đúng với mô tả giong mo ta chất liệu ...        \n",
       "3  đúng với mô tả đúng mô tả màu sắc g...        \n",
       "4  chất liệu thun mát đúng với mô tả đu...        "
      ]
     },
     "execution_count": 15,
     "metadata": {},
     "output_type": "execute_result"
    }
   ],
   "source": [
    "df['nomalized_comment'] = df['nomalized_comment'].apply(lambda cmt: Processor.removeDuplicateLetters(cmt))\n",
    "df.head()"
   ]
  },
  {
   "cell_type": "code",
   "execution_count": 20,
   "id": "e71567d4-f34b-42db-b3a3-7d0fb12c44da",
   "metadata": {},
   "outputs": [
    {
     "data": {
      "text/html": [
       "<div>\n",
       "<style scoped>\n",
       "    .dataframe tbody tr th:only-of-type {\n",
       "        vertical-align: middle;\n",
       "    }\n",
       "\n",
       "    .dataframe tbody tr th {\n",
       "        vertical-align: top;\n",
       "    }\n",
       "\n",
       "    .dataframe thead th {\n",
       "        text-align: right;\n",
       "    }\n",
       "</style>\n",
       "<table border=\"1\" class=\"dataframe\">\n",
       "  <thead>\n",
       "    <tr style=\"text-align: right;\">\n",
       "      <th></th>\n",
       "      <th>comment</th>\n",
       "      <th>rating</th>\n",
       "      <th>nomalized_comment</th>\n",
       "      <th>emoji</th>\n",
       "    </tr>\n",
       "  </thead>\n",
       "  <tbody>\n",
       "    <tr>\n",
       "      <th>118457</th>\n",
       "      <td>Áo khoác đẹp rẻ rất nên mua</td>\n",
       "      <td>5</td>\n",
       "      <td>áo khoác đẹp rẻ rất nên mua</td>\n",
       "      <td></td>\n",
       "    </tr>\n",
       "    <tr>\n",
       "      <th>118458</th>\n",
       "      <td>Đúng với mô tả:nânnanananananananann\\nCh...</td>\n",
       "      <td>5</td>\n",
       "      <td>đúng với mô tả chất liệu quá tốt m...</td>\n",
       "      <td></td>\n",
       "    </tr>\n",
       "  </tbody>\n",
       "</table>\n",
       "</div>"
      ],
      "text/plain": [
       "                                                  comment rating  \\\n",
       "118457                 Áo khoác đẹp rẻ rất nên mua      5   \n",
       "118458  Đúng với mô tả:nânnanananananananann\\nCh...      5   \n",
       "\n",
       "                                        nomalized_comment emoji  \n",
       "118457                 áo khoác đẹp rẻ rất nên mua        \n",
       "118458  đúng với mô tả chất liệu quá tốt m...        "
      ]
     },
     "execution_count": 20,
     "metadata": {},
     "output_type": "execute_result"
    }
   ],
   "source": [
    "df.loc[118457:118458]"
   ]
  },
  {
   "cell_type": "code",
   "execution_count": 55,
   "id": "254b976e-a6ea-497e-8523-381d80a1bd31",
   "metadata": {},
   "outputs": [
    {
     "data": {
      "text/html": [
       "<div>\n",
       "<style scoped>\n",
       "    .dataframe tbody tr th:only-of-type {\n",
       "        vertical-align: middle;\n",
       "    }\n",
       "\n",
       "    .dataframe tbody tr th {\n",
       "        vertical-align: top;\n",
       "    }\n",
       "\n",
       "    .dataframe thead th {\n",
       "        text-align: right;\n",
       "    }\n",
       "</style>\n",
       "<table border=\"1\" class=\"dataframe\">\n",
       "  <thead>\n",
       "    <tr style=\"text-align: right;\">\n",
       "      <th></th>\n",
       "      <th>comment</th>\n",
       "      <th>rating</th>\n",
       "      <th>nomalized_comment</th>\n",
       "      <th>emoji</th>\n",
       "    </tr>\n",
       "  </thead>\n",
       "  <tbody>\n",
       "    <tr>\n",
       "      <th>118389</th>\n",
       "      <td>nó đẹpppppppp</td>\n",
       "      <td>5</td>\n",
       "      <td>nó đẹp</td>\n",
       "      <td></td>\n",
       "    </tr>\n",
       "    <tr>\n",
       "      <th>118390</th>\n",
       "      <td>Màu sắc:xấu</td>\n",
       "      <td>1</td>\n",
       "      <td>màu sắc xấu</td>\n",
       "      <td></td>\n",
       "    </tr>\n",
       "  </tbody>\n",
       "</table>\n",
       "</div>"
      ],
      "text/plain": [
       "                 comment rating nomalized_comment emoji\n",
       "118389   nó đẹpppppppp      5          nó đẹp      \n",
       "118390  Màu sắc:xấu      1  màu sắc xấu      "
      ]
     },
     "execution_count": 55,
     "metadata": {},
     "output_type": "execute_result"
    }
   ],
   "source": [
    "df.loc[118389:118390]"
   ]
  },
  {
   "cell_type": "markdown",
   "id": "76de95f3-23fd-4f1f-8504-5026d4a79b4e",
   "metadata": {},
   "source": [
    "Stopword (Hư từ):\n",
    "- Để phù hợp với dữ liệu của mình nhất, cũng như việc mở rộng sau này (thêm từ), ta sẽ sử dụng file stopwords.txt (không sử dụng file build sẵn trên mạng)"
   ]
  },
  {
   "cell_type": "code",
   "execution_count": 16,
   "id": "aea00ee7-39ce-493d-a498-3c0e953a4ab2",
   "metadata": {},
   "outputs": [],
   "source": [
    "#Xây dựng list chưa stopwords:\n",
    "stopwords_lst = []\n",
    "with open('./supplement/stopwords.txt', 'r', encoding=\"utf8\") as lines:\n",
    "    for line in lines:\n",
    "        line = unicodedata.normalize('NFD', line.strip())\n",
    "        stopwords_lst.append(line)"
   ]
  },
  {
   "cell_type": "code",
   "execution_count": 17,
   "id": "c337bb29-a860-4f5d-8275-9e0c41cdc978",
   "metadata": {},
   "outputs": [
    {
     "data": {
      "text/html": [
       "<div>\n",
       "<style scoped>\n",
       "    .dataframe tbody tr th:only-of-type {\n",
       "        vertical-align: middle;\n",
       "    }\n",
       "\n",
       "    .dataframe tbody tr th {\n",
       "        vertical-align: top;\n",
       "    }\n",
       "\n",
       "    .dataframe thead th {\n",
       "        text-align: right;\n",
       "    }\n",
       "</style>\n",
       "<table border=\"1\" class=\"dataframe\">\n",
       "  <thead>\n",
       "    <tr style=\"text-align: right;\">\n",
       "      <th></th>\n",
       "      <th>comment</th>\n",
       "      <th>rating</th>\n",
       "      <th>nomalized_comment</th>\n",
       "      <th>emoji</th>\n",
       "    </tr>\n",
       "  </thead>\n",
       "  <tbody>\n",
       "    <tr>\n",
       "      <th>0</th>\n",
       "      <td>Màu sắc:purple\\nĐúng với mô tả:yes\\nCh...</td>\n",
       "      <td>5</td>\n",
       "      <td>màu sắc purple đúng mô tả yes chất lie...</td>\n",
       "      <td></td>\n",
       "    </tr>\n",
       "    <tr>\n",
       "      <th>1</th>\n",
       "      <td>Màu sắc:xanh dương\\nChất liệu:vải\\nĐ...</td>\n",
       "      <td>5</td>\n",
       "      <td>màu sắc xanh dương chất liệu vải đú...</td>\n",
       "      <td></td>\n",
       "    </tr>\n",
       "    <tr>\n",
       "      <th>2</th>\n",
       "      <td>Đúng với mô tả:giong mo ta\\nChất liệu...</td>\n",
       "      <td>5</td>\n",
       "      <td>đúng mô tả giong mo chất liệu thun màu...</td>\n",
       "      <td></td>\n",
       "    </tr>\n",
       "    <tr>\n",
       "      <th>3</th>\n",
       "      <td>Đúng với mô tả:đúng mô tả\\nMàu sắc:...</td>\n",
       "      <td>5</td>\n",
       "      <td>đúng mô tả đúng mô tả màu sắc ghi cha...</td>\n",
       "      <td></td>\n",
       "    </tr>\n",
       "    <tr>\n",
       "      <th>4</th>\n",
       "      <td>Chất liệu:thun mát\\nĐúng với mô tả:đ...</td>\n",
       "      <td>5</td>\n",
       "      <td>chất liệu thun mát đúng mô tả đúng ma...</td>\n",
       "      <td></td>\n",
       "    </tr>\n",
       "  </tbody>\n",
       "</table>\n",
       "</div>"
      ],
      "text/plain": [
       "                                             comment rating  \\\n",
       "0  Màu sắc:purple\\nĐúng với mô tả:yes\\nCh...      5   \n",
       "1  Màu sắc:xanh dương\\nChất liệu:vải\\nĐ...      5   \n",
       "2  Đúng với mô tả:giong mo ta\\nChất liệu...      5   \n",
       "3  Đúng với mô tả:đúng mô tả\\nMàu sắc:...      5   \n",
       "4  Chất liệu:thun mát\\nĐúng với mô tả:đ...      5   \n",
       "\n",
       "                                   nomalized_comment emoji  \n",
       "0  màu sắc purple đúng mô tả yes chất lie...        \n",
       "1  màu sắc xanh dương chất liệu vải đú...        \n",
       "2  đúng mô tả giong mo chất liệu thun màu...        \n",
       "3  đúng mô tả đúng mô tả màu sắc ghi cha...        \n",
       "4  chất liệu thun mát đúng mô tả đúng ma...        "
      ]
     },
     "execution_count": 17,
     "metadata": {},
     "output_type": "execute_result"
    }
   ],
   "source": [
    "df['nomalized_comment'] = df['nomalized_comment'].apply(lambda cmt: Processor.removeStopwords(cmt, stopwords_lst))\n",
    "df.head()"
   ]
  },
  {
   "cell_type": "markdown",
   "id": "b004b929-643c-4a0e-98b5-5eb36523c47a",
   "metadata": {},
   "source": [
    "Teencode (từ viết tắt):\n",
    "- Tương tự như stopwords, em đã tổng hợp lại những từ viết tắt hiện có trong tập dữ liệu trong file teencode.txt."
   ]
  },
  {
   "cell_type": "code",
   "execution_count": 19,
   "id": "dcdec227-0c85-47d1-b6bd-e73b072a84c2",
   "metadata": {},
   "outputs": [
    {
     "data": {
      "text/plain": [
       "'cũng'"
      ]
     },
     "execution_count": 19,
     "metadata": {},
     "output_type": "execute_result"
    }
   ],
   "source": [
    "# Xây dựng dictionary cho các từ viết tắt\n",
    "file = open('./supplement/teencode.txt', 'r', encoding=\"utf8\")\n",
    "teen_lst = file.read().split('\\n')\n",
    "teen_dict = {}\n",
    "for line in teen_lst:\n",
    "    key, value = line.split('\\t')\n",
    "    teen_dict[key] = str(value)\n",
    "file.close()\n",
    "\n",
    "# test\n",
    "# df['nomalized_comment'] = df['nomalized_comment'].apply(lambda cmt: Processor.normalizeComment(cmt)) # chuẩn hóa unicode lần nữa\n",
    "teen_dict['cx']"
   ]
  },
  {
   "cell_type": "code",
   "execution_count": 20,
   "id": "a6df92ae-ea2e-412a-9738-b9ce89ca43b0",
   "metadata": {},
   "outputs": [
    {
     "data": {
      "text/html": [
       "<div>\n",
       "<style scoped>\n",
       "    .dataframe tbody tr th:only-of-type {\n",
       "        vertical-align: middle;\n",
       "    }\n",
       "\n",
       "    .dataframe tbody tr th {\n",
       "        vertical-align: top;\n",
       "    }\n",
       "\n",
       "    .dataframe thead th {\n",
       "        text-align: right;\n",
       "    }\n",
       "</style>\n",
       "<table border=\"1\" class=\"dataframe\">\n",
       "  <thead>\n",
       "    <tr style=\"text-align: right;\">\n",
       "      <th></th>\n",
       "      <th>comment</th>\n",
       "      <th>rating</th>\n",
       "      <th>nomalized_comment</th>\n",
       "      <th>emoji</th>\n",
       "    </tr>\n",
       "  </thead>\n",
       "  <tbody>\n",
       "    <tr>\n",
       "      <th>0</th>\n",
       "      <td>Màu sắc:purple\\nĐúng với mô tả:yes\\nCh...</td>\n",
       "      <td>5</td>\n",
       "      <td>màu sắc purple đúng mô tả yes chất lie...</td>\n",
       "      <td></td>\n",
       "    </tr>\n",
       "    <tr>\n",
       "      <th>1</th>\n",
       "      <td>Màu sắc:xanh dương\\nChất liệu:vải\\nĐ...</td>\n",
       "      <td>5</td>\n",
       "      <td>màu sắc xanh dương chất liệu vải đú...</td>\n",
       "      <td></td>\n",
       "    </tr>\n",
       "    <tr>\n",
       "      <th>2</th>\n",
       "      <td>Đúng với mô tả:giong mo ta\\nChất liệu...</td>\n",
       "      <td>5</td>\n",
       "      <td>đúng mô tả giong mo chất liệu thun màu...</td>\n",
       "      <td></td>\n",
       "    </tr>\n",
       "    <tr>\n",
       "      <th>3</th>\n",
       "      <td>Đúng với mô tả:đúng mô tả\\nMàu sắc:...</td>\n",
       "      <td>5</td>\n",
       "      <td>đúng mô tả đúng mô tả màu sắc ghi cha...</td>\n",
       "      <td></td>\n",
       "    </tr>\n",
       "    <tr>\n",
       "      <th>4</th>\n",
       "      <td>Chất liệu:thun mát\\nĐúng với mô tả:đ...</td>\n",
       "      <td>5</td>\n",
       "      <td>chất liệu thun mát đúng mô tả đúng ma...</td>\n",
       "      <td></td>\n",
       "    </tr>\n",
       "  </tbody>\n",
       "</table>\n",
       "</div>"
      ],
      "text/plain": [
       "                                             comment rating  \\\n",
       "0  Màu sắc:purple\\nĐúng với mô tả:yes\\nCh...      5   \n",
       "1  Màu sắc:xanh dương\\nChất liệu:vải\\nĐ...      5   \n",
       "2  Đúng với mô tả:giong mo ta\\nChất liệu...      5   \n",
       "3  Đúng với mô tả:đúng mô tả\\nMàu sắc:...      5   \n",
       "4  Chất liệu:thun mát\\nĐúng với mô tả:đ...      5   \n",
       "\n",
       "                                   nomalized_comment emoji  \n",
       "0  màu sắc purple đúng mô tả yes chất lie...        \n",
       "1  màu sắc xanh dương chất liệu vải đú...        \n",
       "2  đúng mô tả giong mo chất liệu thun màu...        \n",
       "3  đúng mô tả đúng mô tả màu sắc ghi cha...        \n",
       "4  chất liệu thun mát đúng mô tả đúng ma...        "
      ]
     },
     "execution_count": 20,
     "metadata": {},
     "output_type": "execute_result"
    }
   ],
   "source": [
    "df['nomalized_comment'] = df['nomalized_comment'].apply(lambda cmt: Processor.replaceWithDictionary(cmt, teen_dict))\n",
    "df.head()"
   ]
  },
  {
   "cell_type": "markdown",
   "id": "0fcba615-01de-4b8e-9547-79b224563a83",
   "metadata": {},
   "source": [
    "Loại bỏ các từ không mang tính phân loại"
   ]
  },
  {
   "cell_type": "code",
   "execution_count": 22,
   "id": "0911f8ca-5017-4aea-9319-ec6b28d552a3",
   "metadata": {},
   "outputs": [
    {
     "data": {
      "text/html": [
       "<div>\n",
       "<style scoped>\n",
       "    .dataframe tbody tr th:only-of-type {\n",
       "        vertical-align: middle;\n",
       "    }\n",
       "\n",
       "    .dataframe tbody tr th {\n",
       "        vertical-align: top;\n",
       "    }\n",
       "\n",
       "    .dataframe thead th {\n",
       "        text-align: right;\n",
       "    }\n",
       "</style>\n",
       "<table border=\"1\" class=\"dataframe\">\n",
       "  <thead>\n",
       "    <tr style=\"text-align: right;\">\n",
       "      <th></th>\n",
       "      <th>comment</th>\n",
       "      <th>rating</th>\n",
       "      <th>nomalized_comment</th>\n",
       "      <th>emoji</th>\n",
       "    </tr>\n",
       "  </thead>\n",
       "  <tbody>\n",
       "    <tr>\n",
       "      <th>0</th>\n",
       "      <td>Màu sắc:purple\\nĐúng với mô tả:yes\\nCh...</td>\n",
       "      <td>5</td>\n",
       "      <td>purple  yes  nhẹ mát bầu nên chuyển sa...</td>\n",
       "      <td></td>\n",
       "    </tr>\n",
       "    <tr>\n",
       "      <th>1</th>\n",
       "      <td>Màu sắc:xanh dương\\nChất liệu:vải\\nĐ...</td>\n",
       "      <td>5</td>\n",
       "      <td>xanh dương  vải  đúng quảng cáo áo mạ...</td>\n",
       "      <td></td>\n",
       "    </tr>\n",
       "    <tr>\n",
       "      <th>2</th>\n",
       "      <td>Đúng với mô tả:giong mo ta\\nChất liệu...</td>\n",
       "      <td>5</td>\n",
       "      <td>giong mo  thun  tím hàng đẹp màu tím chu...</td>\n",
       "      <td></td>\n",
       "    </tr>\n",
       "    <tr>\n",
       "      <th>3</th>\n",
       "      <td>Đúng với mô tả:đúng mô tả\\nMàu sắc:...</td>\n",
       "      <td>5</td>\n",
       "      <td>ghi  thun lạnh mặc mát áo mỏng rộng...</td>\n",
       "      <td></td>\n",
       "    </tr>\n",
       "    <tr>\n",
       "      <th>4</th>\n",
       "      <td>Chất liệu:thun mát\\nĐúng với mô tả:đ...</td>\n",
       "      <td>5</td>\n",
       "      <td>thun mát  đúng  xanh rêu áo mặc mềm m...</td>\n",
       "      <td></td>\n",
       "    </tr>\n",
       "  </tbody>\n",
       "</table>\n",
       "</div>"
      ],
      "text/plain": [
       "                                             comment rating  \\\n",
       "0  Màu sắc:purple\\nĐúng với mô tả:yes\\nCh...      5   \n",
       "1  Màu sắc:xanh dương\\nChất liệu:vải\\nĐ...      5   \n",
       "2  Đúng với mô tả:giong mo ta\\nChất liệu...      5   \n",
       "3  Đúng với mô tả:đúng mô tả\\nMàu sắc:...      5   \n",
       "4  Chất liệu:thun mát\\nĐúng với mô tả:đ...      5   \n",
       "\n",
       "                                   nomalized_comment emoji  \n",
       "0   purple  yes  nhẹ mát bầu nên chuyển sa...        \n",
       "1   xanh dương  vải  đúng quảng cáo áo mạ...        \n",
       "2   giong mo  thun  tím hàng đẹp màu tím chu...        \n",
       "3     ghi  thun lạnh mặc mát áo mỏng rộng...        \n",
       "4   thun mát  đúng  xanh rêu áo mặc mềm m...        "
      ]
     },
     "execution_count": 22,
     "metadata": {},
     "output_type": "execute_result"
    }
   ],
   "source": [
    "noneed_phrases = [\"màu sắc\", \"đúng mô tả\", \"chất liệu\",\"hình ảnh\",\"video\",\"mang tính chất\",\"nhận xu\",\"minh họa\"]\n",
    "for phrase in noneed_phrases:\n",
    "    phrase = unicodedata.normalize('NFD', phrase.strip())\n",
    "    df['nomalized_comment'] = df['nomalized_comment'].apply (lambda cmt: cmt.replace(phrase,\"\"))\n",
    "\n",
    "df.head()"
   ]
  },
  {
   "cell_type": "code",
   "execution_count": 24,
   "id": "ba5a42f9-5691-4ccc-b0c1-a645b580a841",
   "metadata": {},
   "outputs": [
    {
     "data": {
      "text/html": [
       "<div>\n",
       "<style scoped>\n",
       "    .dataframe tbody tr th:only-of-type {\n",
       "        vertical-align: middle;\n",
       "    }\n",
       "\n",
       "    .dataframe tbody tr th {\n",
       "        vertical-align: top;\n",
       "    }\n",
       "\n",
       "    .dataframe thead th {\n",
       "        text-align: right;\n",
       "    }\n",
       "</style>\n",
       "<table border=\"1\" class=\"dataframe\">\n",
       "  <thead>\n",
       "    <tr style=\"text-align: right;\">\n",
       "      <th></th>\n",
       "      <th>comment</th>\n",
       "      <th>rating</th>\n",
       "      <th>nomalized_comment</th>\n",
       "      <th>emoji</th>\n",
       "    </tr>\n",
       "  </thead>\n",
       "  <tbody>\n",
       "    <tr>\n",
       "      <th>0</th>\n",
       "      <td>Màu sắc:purple\\nĐúng với mô tả:yes\\nCh...</td>\n",
       "      <td>5</td>\n",
       "      <td>purple  yes  nhẹ mát bầu nên chuyển sa...</td>\n",
       "      <td></td>\n",
       "    </tr>\n",
       "    <tr>\n",
       "      <th>1</th>\n",
       "      <td>Màu sắc:xanh dương\\nChất liệu:vải\\nĐ...</td>\n",
       "      <td>5</td>\n",
       "      <td>xanh dương  vải  đúng quảng cáo áo mạ...</td>\n",
       "      <td></td>\n",
       "    </tr>\n",
       "    <tr>\n",
       "      <th>2</th>\n",
       "      <td>Đúng với mô tả:giong mo ta\\nChất liệu...</td>\n",
       "      <td>5</td>\n",
       "      <td>giong mo  thun  tím hàng đẹp màu tím chu...</td>\n",
       "      <td></td>\n",
       "    </tr>\n",
       "    <tr>\n",
       "      <th>3</th>\n",
       "      <td>Đúng với mô tả:đúng mô tả\\nMàu sắc:...</td>\n",
       "      <td>5</td>\n",
       "      <td>ghi  thun lạnh mặc mát áo mỏng rộng...</td>\n",
       "      <td></td>\n",
       "    </tr>\n",
       "    <tr>\n",
       "      <th>4</th>\n",
       "      <td>Chất liệu:thun mát\\nĐúng với mô tả:đ...</td>\n",
       "      <td>5</td>\n",
       "      <td>thun mát  đúng  xanh rêu áo mặc mềm m...</td>\n",
       "      <td></td>\n",
       "    </tr>\n",
       "  </tbody>\n",
       "</table>\n",
       "</div>"
      ],
      "text/plain": [
       "                                             comment rating  \\\n",
       "0  Màu sắc:purple\\nĐúng với mô tả:yes\\nCh...      5   \n",
       "1  Màu sắc:xanh dương\\nChất liệu:vải\\nĐ...      5   \n",
       "2  Đúng với mô tả:giong mo ta\\nChất liệu...      5   \n",
       "3  Đúng với mô tả:đúng mô tả\\nMàu sắc:...      5   \n",
       "4  Chất liệu:thun mát\\nĐúng với mô tả:đ...      5   \n",
       "\n",
       "                                   nomalized_comment emoji  \n",
       "0   purple  yes  nhẹ mát bầu nên chuyển sa...        \n",
       "1   xanh dương  vải  đúng quảng cáo áo mạ...        \n",
       "2   giong mo  thun  tím hàng đẹp màu tím chu...        \n",
       "3     ghi  thun lạnh mặc mát áo mỏng rộng...        \n",
       "4   thun mát  đúng  xanh rêu áo mặc mềm m...        "
      ]
     },
     "execution_count": 24,
     "metadata": {},
     "output_type": "execute_result"
    }
   ],
   "source": [
    "df = df.reset_index(drop = True)\n",
    "df.head()"
   ]
  },
  {
   "cell_type": "code",
   "execution_count": 27,
   "id": "5760814e-cc2e-4de5-ba68-d175b49f2ddf",
   "metadata": {},
   "outputs": [
    {
     "data": {
      "text/html": [
       "<div>\n",
       "<style scoped>\n",
       "    .dataframe tbody tr th:only-of-type {\n",
       "        vertical-align: middle;\n",
       "    }\n",
       "\n",
       "    .dataframe tbody tr th {\n",
       "        vertical-align: top;\n",
       "    }\n",
       "\n",
       "    .dataframe thead th {\n",
       "        text-align: right;\n",
       "    }\n",
       "</style>\n",
       "<table border=\"1\" class=\"dataframe\">\n",
       "  <thead>\n",
       "    <tr style=\"text-align: right;\">\n",
       "      <th></th>\n",
       "      <th>comment</th>\n",
       "      <th>rating</th>\n",
       "      <th>nomalized_comment</th>\n",
       "      <th>emoji</th>\n",
       "    </tr>\n",
       "  </thead>\n",
       "  <tbody>\n",
       "    <tr>\n",
       "      <th>0</th>\n",
       "      <td>Màu sắc:purple\\nĐúng với mô tả:yes\\nCh...</td>\n",
       "      <td>5</td>\n",
       "      <td>purple yes nhẹ mát bầu nên chuyển sang loại cá...</td>\n",
       "      <td></td>\n",
       "    </tr>\n",
       "    <tr>\n",
       "      <th>1</th>\n",
       "      <td>Màu sắc:xanh dương\\nChất liệu:vải\\nĐ...</td>\n",
       "      <td>5</td>\n",
       "      <td>xanh dương vải đúng quảng_cáo áo mặc mát vải m...</td>\n",
       "      <td></td>\n",
       "    </tr>\n",
       "    <tr>\n",
       "      <th>2</th>\n",
       "      <td>Đúng với mô tả:giong mo ta\\nChất liệu...</td>\n",
       "      <td>5</td>\n",
       "      <td>giong mo thun tím hàng đẹp màu tím chuẩn đẹp c...</td>\n",
       "      <td></td>\n",
       "    </tr>\n",
       "    <tr>\n",
       "      <th>3</th>\n",
       "      <td>Đúng với mô tả:đúng mô tả\\nMàu sắc:...</td>\n",
       "      <td>5</td>\n",
       "      <td>ghi thun lạnh mặc mát áo mỏng rộng mặc thoải_m...</td>\n",
       "      <td></td>\n",
       "    </tr>\n",
       "    <tr>\n",
       "      <th>4</th>\n",
       "      <td>Chất liệu:thun mát\\nĐúng với mô tả:đ...</td>\n",
       "      <td>5</td>\n",
       "      <td>thun mát đúng xanh rêu áo mặc mềm mát lắm chuẩ...</td>\n",
       "      <td></td>\n",
       "    </tr>\n",
       "  </tbody>\n",
       "</table>\n",
       "</div>"
      ],
      "text/plain": [
       "                                             comment rating  \\\n",
       "0  Màu sắc:purple\\nĐúng với mô tả:yes\\nCh...      5   \n",
       "1  Màu sắc:xanh dương\\nChất liệu:vải\\nĐ...      5   \n",
       "2  Đúng với mô tả:giong mo ta\\nChất liệu...      5   \n",
       "3  Đúng với mô tả:đúng mô tả\\nMàu sắc:...      5   \n",
       "4  Chất liệu:thun mát\\nĐúng với mô tả:đ...      5   \n",
       "\n",
       "                                   nomalized_comment emoji  \n",
       "0  purple yes nhẹ mát bầu nên chuyển sang loại cá...        \n",
       "1  xanh dương vải đúng quảng_cáo áo mặc mát vải m...        \n",
       "2  giong mo thun tím hàng đẹp màu tím chuẩn đẹp c...        \n",
       "3  ghi thun lạnh mặc mát áo mỏng rộng mặc thoải_m...        \n",
       "4  thun mát đúng xanh rêu áo mặc mềm mát lắm chuẩ...        "
      ]
     },
     "execution_count": 27,
     "metadata": {},
     "output_type": "execute_result"
    }
   ],
   "source": [
    "# Tách từ\n",
    "df['nomalized_comment'] = df['nomalized_comment'].apply(lambda cmt: ViTokenizer.tokenize(cmt))\n",
    "df.head()"
   ]
  },
  {
   "cell_type": "code",
   "execution_count": 28,
   "id": "20b3e640-f9ce-45c0-8e2e-1bf4a8b81f81",
   "metadata": {},
   "outputs": [
    {
     "name": "stdout",
     "output_type": "stream",
     "text": [
      "sản_phẩm ố kề ok ổn ổn sản tuyệt_vời\n",
      "hồng ok ổn\n",
      "sản_phẩm khá tốt áo khá dày ấm đường may khá chắc_chắn\n",
      "ok ok ok giao hàng nhanh đóng_gói ok giao đủ số_lượng đúng\n",
      "ok chuẩn vãi thun gân đúng quảng_cáo vãi đẹp xịn lắm quá ok đánh_giá chủ_yếu\n",
      "đen vải sản_phẩm đẹp chất vải đẹp lên form đẹp bạn mua nên chiều cao mình nặng không mặt lên form đẹp\n",
      "áo đẹp ủng_hộ tiếp\n",
      "vừa mở_hàng nguyên đốm dơ rách nhẹ\n",
      "den den vai hưởng_ứng ngày pháp_luật việt nam toàn dân nâng cao thức tôn_trọng tuân hiến_pháp pháp_luật\n",
      "áo_cánh dơi màu đẹp vải mát lớp nên hơi mỏng độ che nắng không biết được\n",
      "không nhớ vải chống thấm nước đen không nên mặc trời nắng khác tát vô mặt_trời nóng_mặt vô nóng hơn chất_lượng form đẹp mũ_rộng\n",
      "xam ni bong giao hàng nhanh áo siêu đẹp mãi mới tìm một rẻ chất_lượng\n",
      "đẹp lắm nên mua quá ok mua mua mua mua mua mua\n",
      "áo đẹp\n",
      "xám không lắm\n",
      "be nỉ đúng dep lam giá_cả hợp_lí săn seo giá nay quá ổn ngoai dep hơn\n",
      "xanh than ok vải dày đẹp bán hàng ok tư_vấn nhiệt_tình lắm nên mua\n",
      "giao hàng nhanh hàng nhận đủ hàng mô_tả sản_phẩm_chất_lượng khỏi bàn mua quá nhiều cảm_ơn\n",
      "quà hơi tốn\n",
      "cam đúng đẹp\n",
      "giao sai màu đặt màu đen giao màu xám chất áo khá mỏng rẻ nên\n",
      "\n",
      "đẹp nỉ bông xám sữa chất vảu không quá dày không quá mỏng áo đúng nói dính ít hông\n",
      "trắng nỉ đúng hoàng ngọc long đồng_thời nói thông_tin hình_thức xử_lý liên_quan tuần tiến_hành giải giữa giảng_viên mình h nhạc_sĩ lưu thiên_hương\n",
      "hàng ok\n",
      "xám áo mỏng mát phù_hợp giá tiền\n",
      "áo mỏng lớp xin_lỗi mình mặc ngắn áo nhỏ lắm\n",
      "ưng sản_phẩm lắm á giá tiền nhiệt_tình tư_vấn rất\n",
      "đúng ghi xám không biết áo rất đẹp mỏng sờ mát_tay đơn hàng giao nhanh\n",
      "đen mỏng\n",
      "mua đánh_giá\n",
      "xam ok ok yêu biết không biết\n",
      "giao hàng rất nhanh đẹp rất mát phù_hợp những không thích mặc dày\n",
      "giao hàng nhanh đóng_gói ok chất_lượng ok với giá tiền ủng_hộ\n",
      "giao hàng nhanh đặt hôm hôm nhận được chất vải ổn giá tiền\n",
      "giao hàng nhanh hôm đặt hôm nhận xinh xỉu rất hài_lòng\n",
      "ngày nhận được hàng tư_vấn reply tin nhắn khá nhanh mình sợ mua ngắn không ngắn dài vừa đẹp\n",
      "xin_lỗi không nên mua không mặc váy quá tệ\n",
      "đen giao hàng nhanh nhất thể làm được đòi ghen_tị những bạn thân\n",
      "chất vải mỏng chắc giặt vài xù giãn màu không đẹp ảnh nói_chung không hi_vọng nhiều giá giao hàng nhanh\n",
      "đen l không mỏng thể nhìn thấy không giống hình sản_phẩm\n",
      "\n",
      "sản_phẩm_chất_lượng thời_gian giao hàng nhanh\n",
      "\n",
      "đúng quy_định bộ giáo_dục đào_tạo h ngày bộ giáo_dục đào_tạo công_bố điểm thi tốt_nghiệp năm giúp thí_sinh thuận tiên việc tra_cứu điểm thi tốt_nghiệp trung_học phổ_thông năm sở giáo_dục đào_tạo hướng_dẫn thí_sinh thực_hiện cách\n",
      "chuẩn hình đẹp hàng giao nhanh cầm nặng_tay lắm bam đầu đắn_đo lắm mới đặc h nhận hàng rồi ưng xỉu luôn form rộng mặt rất đẹp yên_tâm mua\n",
      "mua chiếc blazer điểm không mê from áo chất vải nên khá tin_tưởng nên quay mua chiếc nhận cảm thấy chất không đẹp bằng chiếc kia from nhỏ hơn sửa cúc chéo cứu_vãn được chiếc áo kha_khá chấm điểm chiếc được thôi\n",
      "giao hàng nhanh lắm đóng_gói hàng kĩ_càng áo rất xinh vải mềm mịn lắm mặc áo đen dính bông tùm_lum\n",
      "được ổn tạm ổn\n",
      "den ok không tốt lắm\n"
     ]
    }
   ],
   "source": [
    "# Xem 50 dòng bất kỳ của cột nomalized_comment\n",
    "for index, row in df.sample(50).iterrows():\n",
    "    print(row['nomalized_comment'])"
   ]
  },
  {
   "cell_type": "code",
   "execution_count": 23,
   "id": "a5e3c07b-7542-45c5-b386-59574491d248",
   "metadata": {},
   "outputs": [
    {
     "data": {
      "text/plain": [
       "rating\n",
       "5         93898\n",
       "1          7378\n",
       "3          7137\n",
       "4          6102\n",
       "2          3869\n",
       "rating      284\n",
       "Name: count, dtype: int64"
      ]
     },
     "execution_count": 23,
     "metadata": {},
     "output_type": "execute_result"
    }
   ],
   "source": [
    "#Đếm tần số xuất hiện của từng rating\n",
    "df['rating'].value_counts()"
   ]
  },
  {
   "cell_type": "markdown",
   "id": "ca6784bd-a6fa-4206-9a84-ec0ce4caa722",
   "metadata": {},
   "source": [
    "> **Nhận xét**:\n",
    "> * Nhìn chung tuy ta crawl được hơn 100,000 quan sát nhưng có sự chênh lệch lớn giữa các rating.\n",
    "> * Nhìn qua ta thấy đa phần là các rating được đánh giá 5 sao, điều này cũng dễ hiểu vì hệ thống recommend của Shopee sẽ ưu tiên gợi ý cho khách hàng những sản phẩm có đánh giá tốt. Và sẽ hạn chế hoặc thậm chí là ko gợi ý các mặc hàng bị đánh giá kém. Nên với địa vị là người đi trộm dữ liệu như chúng ta thì ko có cách nào khắc phục điều này.\n",
    "> * Bây giờ, do ta cần chi ra hai lớp là negative và positive nên những comment mà `rating` $\\geq 4$ sẽ được cho vào nhóm positive, ngược lại là nhóm negative. "
   ]
  },
  {
   "cell_type": "markdown",
   "id": "8581f967-08fd-469c-be81-c788a68709cf",
   "metadata": {},
   "source": [
    "* Tiến hành label cho các đánh giá với các giá `rating` $< 4$ sẽ thuộc nhóm negative (0) còn lại là nhóm positive (1)."
   ]
  },
  {
   "cell_type": "code",
   "execution_count": 35,
   "id": "2d74079d-1449-4411-8825-134fa612db8c",
   "metadata": {},
   "outputs": [
    {
     "data": {
      "text/html": [
       "<div>\n",
       "<style scoped>\n",
       "    .dataframe tbody tr th:only-of-type {\n",
       "        vertical-align: middle;\n",
       "    }\n",
       "\n",
       "    .dataframe tbody tr th {\n",
       "        vertical-align: top;\n",
       "    }\n",
       "\n",
       "    .dataframe thead th {\n",
       "        text-align: right;\n",
       "    }\n",
       "</style>\n",
       "<table border=\"1\" class=\"dataframe\">\n",
       "  <thead>\n",
       "    <tr style=\"text-align: right;\">\n",
       "      <th></th>\n",
       "      <th>comment</th>\n",
       "      <th>label</th>\n",
       "      <th>nomalized_comment</th>\n",
       "      <th>emoji</th>\n",
       "    </tr>\n",
       "  </thead>\n",
       "  <tbody>\n",
       "    <tr>\n",
       "      <th>0</th>\n",
       "      <td>Màu sắc:purple\\nĐúng với mô tả:yes\\nCh...</td>\n",
       "      <td>1</td>\n",
       "      <td>purple yes nhẹ mát bầu nên chuyển sang loại cá...</td>\n",
       "      <td></td>\n",
       "    </tr>\n",
       "    <tr>\n",
       "      <th>1</th>\n",
       "      <td>Màu sắc:xanh dương\\nChất liệu:vải\\nĐ...</td>\n",
       "      <td>1</td>\n",
       "      <td>xanh dương vải đúng quảng_cáo áo mặc mát vải m...</td>\n",
       "      <td></td>\n",
       "    </tr>\n",
       "    <tr>\n",
       "      <th>2</th>\n",
       "      <td>Đúng với mô tả:giong mo ta\\nChất liệu...</td>\n",
       "      <td>1</td>\n",
       "      <td>giong mo thun tím hàng đẹp màu tím chuẩn đẹp c...</td>\n",
       "      <td></td>\n",
       "    </tr>\n",
       "    <tr>\n",
       "      <th>3</th>\n",
       "      <td>Đúng với mô tả:đúng mô tả\\nMàu sắc:...</td>\n",
       "      <td>1</td>\n",
       "      <td>ghi thun lạnh mặc mát áo mỏng rộng mặc thoải_m...</td>\n",
       "      <td></td>\n",
       "    </tr>\n",
       "    <tr>\n",
       "      <th>4</th>\n",
       "      <td>Chất liệu:thun mát\\nĐúng với mô tả:đ...</td>\n",
       "      <td>1</td>\n",
       "      <td>thun mát đúng xanh rêu áo mặc mềm mát lắm chuẩ...</td>\n",
       "      <td></td>\n",
       "    </tr>\n",
       "  </tbody>\n",
       "</table>\n",
       "</div>"
      ],
      "text/plain": [
       "                                             comment  label  \\\n",
       "0  Màu sắc:purple\\nĐúng với mô tả:yes\\nCh...      1   \n",
       "1  Màu sắc:xanh dương\\nChất liệu:vải\\nĐ...      1   \n",
       "2  Đúng với mô tả:giong mo ta\\nChất liệu...      1   \n",
       "3  Đúng với mô tả:đúng mô tả\\nMàu sắc:...      1   \n",
       "4  Chất liệu:thun mát\\nĐúng với mô tả:đ...      1   \n",
       "\n",
       "                                   nomalized_comment emoji  \n",
       "0  purple yes nhẹ mát bầu nên chuyển sang loại cá...        \n",
       "1  xanh dương vải đúng quảng_cáo áo mặc mát vải m...        \n",
       "2  giong mo thun tím hàng đẹp màu tím chuẩn đẹp c...        \n",
       "3  ghi thun lạnh mặc mát áo mỏng rộng mặc thoải_m...        \n",
       "4  thun mát đúng xanh rêu áo mặc mềm mát lắm chuẩ...        "
      ]
     },
     "execution_count": 35,
     "metadata": {},
     "output_type": "execute_result"
    }
   ],
   "source": [
    "df['label'] = df['rating'].apply(lambda x: 0 if x == '1' or x == '2' or x == '3' else 1 )\n",
    "df.head()\n",
    "df = df[['comment', 'label', 'nomalized_comment','emoji']]\n",
    "\n",
    "df.reset_index(drop=True, inplace=True)\n",
    "df.head()"
   ]
  },
  {
   "cell_type": "code",
   "execution_count": 37,
   "id": "bee24581-77ef-434a-8190-ac7e5e8457b1",
   "metadata": {},
   "outputs": [
    {
     "data": {
      "text/plain": [
       "(118668, 4)"
      ]
     },
     "execution_count": 37,
     "metadata": {},
     "output_type": "execute_result"
    }
   ],
   "source": [
    "df.shape"
   ]
  },
  {
   "cell_type": "markdown",
   "id": "799c6662-20c7-4134-9e1b-2c3abd17b9ed",
   "metadata": {},
   "source": [
    "* Train test split, ta thấy rằng giữa hai nhóm positive và negative có chênh lệnh lớn, nên tập train data của ta sẽ bằng $0.8 * \\min(\\mathrm{size}(positive), \\mathrm{size}(negative)) * 2$."
   ]
  },
  {
   "cell_type": "code",
   "execution_count": 36,
   "id": "4b4722c5-d756-4a5f-84dd-d9f9d649d3e5",
   "metadata": {},
   "outputs": [
    {
     "data": {
      "text/plain": [
       "18384"
      ]
     },
     "execution_count": 36,
     "metadata": {},
     "output_type": "execute_result"
    }
   ],
   "source": [
    "half_min_size = min(df['label'].value_counts())\n",
    "\n",
    "half_min_size"
   ]
  },
  {
   "cell_type": "code",
   "execution_count": 41,
   "id": "3b7ce7e1-60b5-4742-80f7-7a35b82c4f61",
   "metadata": {},
   "outputs": [],
   "source": [
    "df_positive = df[df['label'] == 1]\n",
    "df_negative = df[df['label'] == 0]\n",
    "\n",
    "df_positive = shuffle(df_positive)\n",
    "df_positive = df_positive.reset_index(drop=True)"
   ]
  },
  {
   "cell_type": "code",
   "execution_count": 45,
   "id": "6b23a37b-d7d3-425b-a023-bfedc194b05d",
   "metadata": {},
   "outputs": [
    {
     "data": {
      "text/plain": [
       "[51431, 49972, 49612, 64223, 92260, 4090, 54065, 21538, 70522, 65551]"
      ]
     },
     "execution_count": 45,
     "metadata": {},
     "output_type": "execute_result"
    }
   ],
   "source": [
    "positive_index = random.sample(range(0, df_positive.shape[0]), half_min_size)\n",
    "\n",
    "positive_index[:10]"
   ]
  },
  {
   "cell_type": "code",
   "execution_count": 46,
   "id": "24f7bacb-336c-4655-8707-71ff188cf5ab",
   "metadata": {},
   "outputs": [
    {
     "data": {
      "text/html": [
       "<div>\n",
       "<style scoped>\n",
       "    .dataframe tbody tr th:only-of-type {\n",
       "        vertical-align: middle;\n",
       "    }\n",
       "\n",
       "    .dataframe tbody tr th {\n",
       "        vertical-align: top;\n",
       "    }\n",
       "\n",
       "    .dataframe thead th {\n",
       "        text-align: right;\n",
       "    }\n",
       "</style>\n",
       "<table border=\"1\" class=\"dataframe\">\n",
       "  <thead>\n",
       "    <tr style=\"text-align: right;\">\n",
       "      <th></th>\n",
       "      <th>comment</th>\n",
       "      <th>label</th>\n",
       "      <th>nomalized_comment</th>\n",
       "      <th>emoji</th>\n",
       "    </tr>\n",
       "  </thead>\n",
       "  <tbody>\n",
       "    <tr>\n",
       "      <th>51431</th>\n",
       "      <td>Màu sắc:màu cũng okilaa\\nĐúng với mô ...</td>\n",
       "      <td>1</td>\n",
       "      <td>màu đúng hông biết kim_tuyến lấp_lánh nhìn</td>\n",
       "      <td></td>\n",
       "    </tr>\n",
       "    <tr>\n",
       "      <th>49972</th>\n",
       "      <td>áo blazer này mình tháy mặc ổn nhen ch...</td>\n",
       "      <td>1</td>\n",
       "      <td>áo blazer tháy mặc ổn nhen chất vải đẹp mặc rấ...</td>\n",
       "      <td></td>\n",
       "    </tr>\n",
       "    <tr>\n",
       "      <th>49612</th>\n",
       "      <td>Đen,size xl, sản phẩm giống với hình a...</td>\n",
       "      <td>1</td>\n",
       "      <td>đen size xin_lỗi sản_phẩm giống đăng rất đẹp</td>\n",
       "      <td></td>\n",
       "    </tr>\n",
       "    <tr>\n",
       "      <th>64223</th>\n",
       "      <td>cũng ổn mà size M hơi to á mấy bạn mu...</td>\n",
       "      <td>1</td>\n",
       "      <td>ổn size mình hơi to á bạn muốn mặc vừa nên mua...</td>\n",
       "      <td></td>\n",
       "    </tr>\n",
       "    <tr>\n",
       "      <th>92260</th>\n",
       "      <td>Đúng với mô tả:bên trong áo còn đổ l...</td>\n",
       "      <td>1</td>\n",
       "      <td>áo đổ long dính áo trắng_đen mền dày nỉ bông</td>\n",
       "      <td></td>\n",
       "    </tr>\n",
       "  </tbody>\n",
       "</table>\n",
       "</div>"
      ],
      "text/plain": [
       "                                                 comment  label  \\\n",
       "51431  Màu sắc:màu cũng okilaa\\nĐúng với mô ...      1   \n",
       "49972  áo blazer này mình tháy mặc ổn nhen ch...      1   \n",
       "49612  Đen,size xl, sản phẩm giống với hình a...      1   \n",
       "64223  cũng ổn mà size M hơi to á mấy bạn mu...      1   \n",
       "92260  Đúng với mô tả:bên trong áo còn đổ l...      1   \n",
       "\n",
       "                                       nomalized_comment emoji  \n",
       "51431         màu đúng hông biết kim_tuyến lấp_lánh nhìn        \n",
       "49972  áo blazer tháy mặc ổn nhen chất vải đẹp mặc rấ...        \n",
       "49612       đen size xin_lỗi sản_phẩm giống đăng rất đẹp        \n",
       "64223  ổn size mình hơi to á bạn muốn mặc vừa nên mua...        \n",
       "92260       áo đổ long dính áo trắng_đen mền dày nỉ bông        "
      ]
     },
     "execution_count": 46,
     "metadata": {},
     "output_type": "execute_result"
    }
   ],
   "source": [
    "df_positive2 = df_positive.iloc[positive_index,:]\n",
    "\n",
    "df_positive2.head()"
   ]
  },
  {
   "cell_type": "markdown",
   "id": "b1ff7a5b-8b3d-425b-9e11-ba0641851452",
   "metadata": {},
   "source": [
    "* Đây là tập data mà hai nhóm positive và negative cân bằng nhau"
   ]
  },
  {
   "cell_type": "code",
   "execution_count": 47,
   "id": "6c0eb83f-3b09-47c3-b974-33f1f502e202",
   "metadata": {},
   "outputs": [
    {
     "name": "stdout",
     "output_type": "stream",
     "text": [
      "Shape: (36768, 4)\n",
      "label\n",
      "0    18384\n",
      "1    18384\n",
      "Name: count, dtype: int64\n"
     ]
    },
    {
     "data": {
      "text/html": [
       "<div>\n",
       "<style scoped>\n",
       "    .dataframe tbody tr th:only-of-type {\n",
       "        vertical-align: middle;\n",
       "    }\n",
       "\n",
       "    .dataframe tbody tr th {\n",
       "        vertical-align: top;\n",
       "    }\n",
       "\n",
       "    .dataframe thead th {\n",
       "        text-align: right;\n",
       "    }\n",
       "</style>\n",
       "<table border=\"1\" class=\"dataframe\">\n",
       "  <thead>\n",
       "    <tr style=\"text-align: right;\">\n",
       "      <th></th>\n",
       "      <th>comment</th>\n",
       "      <th>label</th>\n",
       "      <th>nomalized_comment</th>\n",
       "      <th>emoji</th>\n",
       "    </tr>\n",
       "  </thead>\n",
       "  <tbody>\n",
       "    <tr>\n",
       "      <th>0</th>\n",
       "      <td>Đúng với mô tả:không\\nMàu sắc:đen\\nCh...</td>\n",
       "      <td>0</td>\n",
       "      <td>không đen vải giao hàng nhanh_chóng</td>\n",
       "      <td></td>\n",
       "    </tr>\n",
       "    <tr>\n",
       "      <th>1</th>\n",
       "      <td>Màu sắc:xanh rêu\\nChất liệu:thun mat\\n...</td>\n",
       "      <td>0</td>\n",
       "      <td>xanh rêu thun mat mũ giao không_gian_dối</td>\n",
       "      <td></td>\n",
       "    </tr>\n",
       "    <tr>\n",
       "      <th>2</th>\n",
       "      <td>Đúng với mô tả:đúng với mô tả\\nMàu ...</td>\n",
       "      <td>0</td>\n",
       "      <td>bé đậm mát mềm mình mua dài rộng quá chất vải ...</td>\n",
       "      <td></td>\n",
       "    </tr>\n",
       "    <tr>\n",
       "      <th>3</th>\n",
       "      <td>Đặt 3 cái shop chỉ gửi 2 cái thiếu ha...</td>\n",
       "      <td>0</td>\n",
       "      <td>đặt gửi thiếu hàng do nhà nhận hàng nên tưởng ...</td>\n",
       "      <td></td>\n",
       "    </tr>\n",
       "    <tr>\n",
       "      <th>4</th>\n",
       "      <td>Đúng với mô tả:dung\\nMàu sắc:ghi\\nChâ...</td>\n",
       "      <td>0</td>\n",
       "      <td>dung ghi vải mát áo may xấu may lỗi không muốn...</td>\n",
       "      <td></td>\n",
       "    </tr>\n",
       "  </tbody>\n",
       "</table>\n",
       "</div>"
      ],
      "text/plain": [
       "                                             comment  label  \\\n",
       "0  Đúng với mô tả:không\\nMàu sắc:đen\\nCh...      0   \n",
       "1  Màu sắc:xanh rêu\\nChất liệu:thun mat\\n...      0   \n",
       "2  Đúng với mô tả:đúng với mô tả\\nMàu ...      0   \n",
       "3  Đặt 3 cái shop chỉ gửi 2 cái thiếu ha...      0   \n",
       "4  Đúng với mô tả:dung\\nMàu sắc:ghi\\nChâ...      0   \n",
       "\n",
       "                                   nomalized_comment emoji  \n",
       "0                không đen vải giao hàng nhanh_chóng        \n",
       "1           xanh rêu thun mat mũ giao không_gian_dối        \n",
       "2  bé đậm mát mềm mình mua dài rộng quá chất vải ...        \n",
       "3  đặt gửi thiếu hàng do nhà nhận hàng nên tưởng ...        \n",
       "4  dung ghi vải mát áo may xấu may lỗi không muốn...        "
      ]
     },
     "execution_count": 47,
     "metadata": {},
     "output_type": "execute_result"
    }
   ],
   "source": [
    "normalize_reviews = pd.concat([df_negative, df_positive2], axis=0)\n",
    "normalize_reviews = normalize_reviews.reset_index(drop=True)\n",
    "\n",
    "Processor.printAfterProcess(normalize_reviews)\n",
    "normalize_reviews.head()"
   ]
  },
  {
   "cell_type": "markdown",
   "id": "fef6cba1-eaca-4d75-a7fd-863a48fa9521",
   "metadata": {},
   "source": [
    "* Ghi ra file"
   ]
  },
  {
   "cell_type": "code",
   "execution_count": 48,
   "id": "f293d1a3-bf72-460f-85af-b7727f344ed7",
   "metadata": {},
   "outputs": [],
   "source": [
    "normalize_reviews.to_csv(\"./data/normalize_reviews.csv\", index=False)"
   ]
  },
  {
   "cell_type": "markdown",
   "id": "b688c9e0-9ddf-4398-959c-95341477b4a7",
   "metadata": {},
   "source": [
    "* Bây giờ ta sẽ ghi phần bù còn lại của `review_positive` vào file, ta có thể dùng nó cho việc evaluate model sau này."
   ]
  },
  {
   "cell_type": "code",
   "execution_count": 50,
   "id": "d0a7fe23-3939-45c8-a7e0-56ebec0156e5",
   "metadata": {},
   "outputs": [
    {
     "data": {
      "text/html": [
       "<div>\n",
       "<style scoped>\n",
       "    .dataframe tbody tr th:only-of-type {\n",
       "        vertical-align: middle;\n",
       "    }\n",
       "\n",
       "    .dataframe tbody tr th {\n",
       "        vertical-align: top;\n",
       "    }\n",
       "\n",
       "    .dataframe thead th {\n",
       "        text-align: right;\n",
       "    }\n",
       "</style>\n",
       "<table border=\"1\" class=\"dataframe\">\n",
       "  <thead>\n",
       "    <tr style=\"text-align: right;\">\n",
       "      <th></th>\n",
       "      <th>comment</th>\n",
       "      <th>label</th>\n",
       "      <th>nomalized_comment</th>\n",
       "      <th>emoji</th>\n",
       "    </tr>\n",
       "  </thead>\n",
       "  <tbody>\n",
       "    <tr>\n",
       "      <th>0</th>\n",
       "      <td>Màu sắc:về đúng màu\\nChất liệu:đẹp...</td>\n",
       "      <td>1</td>\n",
       "      <td>đúng màu đẹp vô_cùng tận luôn đúng với mô_tả c...</td>\n",
       "      <td></td>\n",
       "    </tr>\n",
       "    <tr>\n",
       "      <th>1</th>\n",
       "      <td>Ảnh và video chỉ mang tính chất nhận đ...</td>\n",
       "      <td>1</td>\n",
       "      <td>ảnh nhận được xu áo giao nhanh nói_chung áo ok...</td>\n",
       "      <td></td>\n",
       "    </tr>\n",
       "    <tr>\n",
       "      <th>2</th>\n",
       "      <td>Áo giao hàng nhanh . Áo chất ok hợp vơ...</td>\n",
       "      <td>1</td>\n",
       "      <td>áo giao hàng nhanh áo chất ok hợp giá tiền khô...</td>\n",
       "      <td></td>\n",
       "    </tr>\n",
       "    <tr>\n",
       "      <th>3</th>\n",
       "      <td>Giao hàng nhanh, đúng số lượng đã đặ...</td>\n",
       "      <td>1</td>\n",
       "      <td>giao hàng nhanh đúng số_lượng đặt giá rẻ chất_...</td>\n",
       "      <td></td>\n",
       "    </tr>\n",
       "    <tr>\n",
       "      <th>4</th>\n",
       "      <td>Đúng với mô tả:giống hình\\nMàu sắc:...</td>\n",
       "      <td>1</td>\n",
       "      <td>giống hình nâu da áo xinh nghỉ giá mua áo ưng ...</td>\n",
       "      <td></td>\n",
       "    </tr>\n",
       "  </tbody>\n",
       "</table>\n",
       "</div>"
      ],
      "text/plain": [
       "                                             comment  label  \\\n",
       "0  Màu sắc:về đúng màu\\nChất liệu:đẹp...      1   \n",
       "1  Ảnh và video chỉ mang tính chất nhận đ...      1   \n",
       "2  Áo giao hàng nhanh . Áo chất ok hợp vơ...      1   \n",
       "3  Giao hàng nhanh, đúng số lượng đã đặ...      1   \n",
       "4  Đúng với mô tả:giống hình\\nMàu sắc:...      1   \n",
       "\n",
       "                                   nomalized_comment emoji  \n",
       "0  đúng màu đẹp vô_cùng tận luôn đúng với mô_tả c...        \n",
       "1  ảnh nhận được xu áo giao nhanh nói_chung áo ok...        \n",
       "2  áo giao hàng nhanh áo chất ok hợp giá tiền khô...        \n",
       "3  giao hàng nhanh đúng số_lượng đặt giá rẻ chất_...        \n",
       "4  giống hình nâu da áo xinh nghỉ giá mua áo ưng ...        "
      ]
     },
     "execution_count": 50,
     "metadata": {},
     "output_type": "execute_result"
    }
   ],
   "source": [
    "reviews_positive3 = df_positive[~df_positive.index.isin(positive_index)]\n",
    "reviews_positive3 = reviews_positive3.reset_index(drop=True)\n",
    "\n",
    "reviews_positive3.head()"
   ]
  },
  {
   "cell_type": "code",
   "execution_count": 51,
   "id": "1524e369-5928-4942-b90a-72fc8aad574f",
   "metadata": {},
   "outputs": [],
   "source": [
    "reviews_positive3.to_csv(\"./data/complement_positive_reviews.csv\", index=False)"
   ]
  },
  {
   "cell_type": "markdown",
   "id": "29be4fa4-8c28-4470-854c-d3d6ae097d10",
   "metadata": {},
   "source": [
    "# Tài liệu kham thảo:\n",
    "* [Web Scraping with Python: Collecting Data from the Modern Web 1st Edition](https://www.amazon.com/Web-Scraping-Python-Collecting-Modern/dp/1491910291)\n",
    "* [Applied Text Analysis with Python: Enabling Language-Aware Data Products with Machine Learning 1st Edition](https://www.amazon.com/Applied-Text-Analysis-Python-Language-Aware/dp/1491963042)\n",
    "* [Natural Language Processing with Python: Analyzing Text with the Natural Language Toolkit 1st Edition](https://www.amazon.com/Natural-Language-Processing-Python-Analyzing/dp/0596516495/ref=pd_sbs_2/138-2957899-5417957?pd_rd_w=bae9C&pf_rd_p=3676f086-9496-4fd7-8490-77cf7f43f846&pf_rd_r=HY0SV9DZKNKG3YP7XGCQ&pd_rd_r=8e2cac9c-9e76-47af-b450-2a0b45dab9ce&pd_rd_wg=aNUA6&pd_rd_i=0596516495&psc=1)"
   ]
  }
 ],
 "metadata": {
  "kernelspec": {
   "display_name": "Python 3 (ipykernel)",
   "language": "python",
   "name": "python3"
  },
  "language_info": {
   "codemirror_mode": {
    "name": "ipython",
    "version": 3
   },
   "file_extension": ".py",
   "mimetype": "text/x-python",
   "name": "python",
   "nbconvert_exporter": "python",
   "pygments_lexer": "ipython3",
   "version": "3.11.7"
  }
 },
 "nbformat": 4,
 "nbformat_minor": 5
}
