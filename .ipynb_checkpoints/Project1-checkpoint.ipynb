{
 "cells": [
  {
   "cell_type": "code",
   "execution_count": 1,
   "id": "83947cc2-efdb-41b7-a3a2-a303a00d214a",
   "metadata": {},
   "outputs": [
    {
     "ename": "KeyError",
     "evalue": "'data'",
     "output_type": "error",
     "traceback": [
      "\u001b[1;31m---------------------------------------------------------------------------\u001b[0m",
      "\u001b[1;31mKeyError\u001b[0m                                  Traceback (most recent call last)",
      "Cell \u001b[1;32mIn[1], line 24\u001b[0m\n\u001b[0;32m     20\u001b[0m \u001b[38;5;66;03m# uncomment this to print all data:\u001b[39;00m\n\u001b[0;32m     21\u001b[0m \u001b[38;5;66;03m# print(json.dumps(data, indent=4))\u001b[39;00m\n\u001b[0;32m     22\u001b[0m \u001b[38;5;66;03m# leng enumerate tra ket qua duoi dang liet ke\u001b[39;00m\n\u001b[0;32m     23\u001b[0m i \u001b[38;5;241m=\u001b[39m \u001b[38;5;241m1\u001b[39m\n\u001b[1;32m---> 24\u001b[0m \u001b[38;5;28;01mfor\u001b[39;00m i, rating \u001b[38;5;129;01min\u001b[39;00m \u001b[38;5;28menumerate\u001b[39m(data[\u001b[38;5;124m\"\u001b[39m\u001b[38;5;124mdata\u001b[39m\u001b[38;5;124m\"\u001b[39m][\u001b[38;5;124m\"\u001b[39m\u001b[38;5;124mratings\u001b[39m\u001b[38;5;124m\"\u001b[39m], \u001b[38;5;241m1\u001b[39m):\n\u001b[0;32m     25\u001b[0m     d[\u001b[38;5;124m\"\u001b[39m\u001b[38;5;124musername\u001b[39m\u001b[38;5;124m\"\u001b[39m]\u001b[38;5;241m.\u001b[39mappend(rating[\u001b[38;5;124m\"\u001b[39m\u001b[38;5;124mauthor_username\u001b[39m\u001b[38;5;124m\"\u001b[39m])\n\u001b[0;32m     26\u001b[0m     d[\u001b[38;5;124m\"\u001b[39m\u001b[38;5;124mrating\u001b[39m\u001b[38;5;124m\"\u001b[39m]\u001b[38;5;241m.\u001b[39mappend(rating[\u001b[38;5;124m\"\u001b[39m\u001b[38;5;124mrating_star\u001b[39m\u001b[38;5;124m\"\u001b[39m])\n",
      "\u001b[1;31mKeyError\u001b[0m: 'data'"
     ]
    }
   ],
   "source": [
    "import re\n",
    "import json\n",
    "import requests\n",
    "import pandas as pd\n",
    "\n",
    "\n",
    "url = \"https://shopee.vn/-Mã-FASHIONT4MA2-giảm-10K-đơn-50K-Áo-thun-nam-nữ-form-rộng-Yinxx-áo-phông-tay-lỡ-ATL43-i.14746382.6519318270\"\n",
    "\n",
    "r = re.search(r\"i\\.(\\d+)\\.(\\d+)\", url)\n",
    "shop_id, item_id = r[1], r[2]\n",
    "ratings_url = \"https://shopee.vn/api/v2/item/get_ratings?filter=0&flag=1&itemid={item_id}&limit=20&offset={offset}&shopid={shop_id}&type=0\"\n",
    "\n",
    "offset = 0\n",
    "d = {\"username\": [], \"rating\": [], \"comment\": []}\n",
    "while True:\n",
    "    data = requests.get(\n",
    "        ratings_url.format(shop_id=shop_id, item_id=item_id, offset=offset)\n",
    "    ).json()\n",
    "\n",
    "    # uncomment this to print all data:\n",
    "    # print(json.dumps(data, indent=4))\n",
    "    # leng enumerate tra ket qua duoi dang liet ke\n",
    "    i = 1\n",
    "    for i, rating in enumerate(data[\"data\"][\"ratings\"], 1):\n",
    "        d[\"username\"].append(rating[\"author_username\"])\n",
    "        d[\"rating\"].append(rating[\"rating_star\"])\n",
    "        d[\"comment\"].append(rating[\"comment\"])\n",
    "\n",
    "        print(rating[\"author_username\"])\n",
    "        print(rating[\"rating_star\"])\n",
    "        print(rating[\"comment\"])\n",
    "        print(\"-\" * 100)\n",
    "\n",
    "    if i % 20:\n",
    "        break\n",
    "\n",
    "    offset += 20\n",
    "   \n",
    "\n",
    "df = pd.DataFrame(d)\n",
    "print(df)\n",
    "df.to_csv(\"data.csv\", index=False)"
   ]
  },
  {
   "cell_type": "code",
   "execution_count": null,
   "id": "10403305-eb7e-4535-b8eb-6ca5cc33e83e",
   "metadata": {},
   "outputs": [],
   "source": []
  }
 ],
 "metadata": {
  "kernelspec": {
   "display_name": "Python 3 (ipykernel)",
   "language": "python",
   "name": "python3"
  },
  "language_info": {
   "codemirror_mode": {
    "name": "ipython",
    "version": 3
   },
   "file_extension": ".py",
   "mimetype": "text/x-python",
   "name": "python",
   "nbconvert_exporter": "python",
   "pygments_lexer": "ipython3",
   "version": "3.11.7"
  }
 },
 "nbformat": 4,
 "nbformat_minor": 5
}
