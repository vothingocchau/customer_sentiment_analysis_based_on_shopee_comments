{
 "cells": [
  {
   "cell_type": "code",
   "execution_count": 1,
   "metadata": {},
   "outputs": [],
   "source": [
    "%load_ext autoreload\n",
    "%autoreload 2"
   ]
  },
  {
   "cell_type": "code",
   "execution_count": 1,
   "metadata": {
    "scrolled": true
   },
   "outputs": [],
   "source": [
    "from tensorflow.keras.utils import plot_model\n",
    "from tensorflow.keras.models import load_model\n",
    "import modules.deep_model as DeepModel\n",
    "import modules.model as Model \n",
    "import tensorflow as tf\n",
    "import warnings\n",
    "import numpy as np\n",
    "import os\n",
    "\n",
    "warnings.filterwarnings('ignore')"
   ]
  },
  {
   "cell_type": "markdown",
   "metadata": {},
   "source": [
    "## Công việc 2.2 (Tiếp theo):\n",
    "* Ở phần này, chúng ta sẽ xây dựng một **Comment sentiment model** bằng LSTM.\n",
    "* Chúng ta biết rằng hạn chế của RNN là nó không thể lưu trữ các thông tin trong dài hạn - RNN tiến hành lưu trữ các thông tin mà nó học được từ chuổi vào các **hidden state** nhưng khi chuổi đầu vào quá dài - nó sẽ không thể giữ lại các thông tin này do vấn đề **gradient-vanishing** [tiêu biến gradient] trong quá trình backpropagation:<br>\n",
    "  ![](./images/14.png)\n",
    "* LSTM ra đời để khắc phục gradient-vanishing bằng một cấu trúc đặc biệt gọi là **gate**. Gate sẽ lưu các thông tin của chuổi lại đồng thời nó quản lí được thông tin nào nên xóa khỏi bộ nhớ và thông tin nào cần giữ.\n",
    "* Giả sử chúng ta có câu: **Giao hàng nhanh**. Với RNN nó dễ dàng dự đoán được comment này thuộc class positive. Nhưng giả sử ta có câu dài hơn: **Giao hàng chậm \"nhưng\" hàng đẹp - cảm ơn shop**. Thì câu hỏi đặt ra là làm sao RNN có thể lưu trữ các thông tin trước từ **nhưng** là negative word và phía sau là positive word. RNN sẽ không thể lưu trữ các thông tin này do vấn đề vanishing-gradient. Nhưng với LSTM nó sẽ giảm bớt hiện tượng này nhờ sử dụng một cấu trúc là LSTM cell. <br>\n",
    "  ![](./images/15.png)\n",
    "* Lúc này, mỗi LSTM cell sẽ chứa ba gate lần lượt là:\n",
    "  * **Input gate**: quyết định thông tin nào cần được thêm vào từ chuổi đầu vào.\n",
    "  * **Output gate**: quyết định thông tin nào cần được lưu trữ\n",
    "  * **Forget gate**: thông tin nào cần được loại bỏ.\n",
    "  \n",
    "  ![](./images/16.png)\n",
    "\n",
    "* Ở RNN, một hidden state được sử dụng cho hai mục đích là lưu trữ thông tin và đưa ra dự đoán. Tuy nhiên ở LSTM nó tách hiddent state thành hai phần là:\n",
    "  * **Cell state**: đây là nơi lưu giữ thông tin.\n",
    "  * **Hidden state**: dùng cho việc dự đoán.\n",
    "* Cell state và hidden state chia sẻ thông tin lẫn nhau. Như hình trên ta thấy đầu vào sau khi đi qua hidden state $\\rightarrow$ qua các gate $\\rightarrow$ đến cell state.\n",
    "\n",
    "Bây giờ chúng ta sẽ tiến hành xây dựng một **Comment sentiment model** sử dụng LSTM của TensorFlow."
   ]
  },
  {
   "cell_type": "markdown",
   "metadata": {},
   "source": [
    "Load dữ liệu training."
   ]
  },
  {
   "cell_type": "code",
   "execution_count": 3,
   "metadata": {},
   "outputs": [
    {
     "data": {
      "text/html": [
       "<div>\n",
       "<style scoped>\n",
       "    .dataframe tbody tr th:only-of-type {\n",
       "        vertical-align: middle;\n",
       "    }\n",
       "\n",
       "    .dataframe tbody tr th {\n",
       "        vertical-align: top;\n",
       "    }\n",
       "\n",
       "    .dataframe thead th {\n",
       "        text-align: right;\n",
       "    }\n",
       "</style>\n",
       "<table border=\"1\" class=\"dataframe\">\n",
       "  <thead>\n",
       "    <tr style=\"text-align: right;\">\n",
       "      <th></th>\n",
       "      <th>comment</th>\n",
       "      <th>nomalized_comment</th>\n",
       "      <th>emoji_decode</th>\n",
       "    </tr>\n",
       "  </thead>\n",
       "  <tbody>\n",
       "    <tr>\n",
       "      <th>0</th>\n",
       "      <td>Chất liệu bình thường, áo rộng so v...</td>\n",
       "      <td>bình_thường áo_rộng với xin đổi bả...</td>\n",
       "      <td></td>\n",
       "    </tr>\n",
       "    <tr>\n",
       "      <th>1</th>\n",
       "      <td>Đúng với mô tả:đúng\\nChất liệu:nỉ\\n...</td>\n",
       "      <td>đúng nỉ đỏ xám bo tay lệch nhiều thừa</td>\n",
       "      <td>raised_hand</td>\n",
       "    </tr>\n",
       "    <tr>\n",
       "      <th>2</th>\n",
       "      <td>Đúng với mô tả:ko đúng lắm còn bị ra...</td>\n",
       "      <td>đúng lắm rách nhiều kiến riêng ổn m...</td>\n",
       "      <td></td>\n",
       "    </tr>\n",
       "    <tr>\n",
       "      <th>3</th>\n",
       "      <td>10dd</td>\n",
       "      <td></td>\n",
       "      <td></td>\n",
       "    </tr>\n",
       "    <tr>\n",
       "      <th>4</th>\n",
       "      <td>hàng k đúng mẫu đặt mua</td>\n",
       "      <td>hàng không đúng mẫu đặt mua</td>\n",
       "      <td></td>\n",
       "    </tr>\n",
       "    <tr>\n",
       "      <th>...</th>\n",
       "      <td>...</td>\n",
       "      <td>...</td>\n",
       "      <td>...</td>\n",
       "    </tr>\n",
       "    <tr>\n",
       "      <th>21741</th>\n",
       "      <td>Chất liệu:vải\\nĐúng với mô tả:đúng\\...</td>\n",
       "      <td>vải đúng ghi áo rất đẹp rất cuốn_hú...</td>\n",
       "      <td></td>\n",
       "    </tr>\n",
       "    <tr>\n",
       "      <th>21742</th>\n",
       "      <td>Mk thấy áo k được đẹp lắm \\n2 lớp n...</td>\n",
       "      <td>mình thấy áo không được đẹp lắm lơ...</td>\n",
       "      <td></td>\n",
       "    </tr>\n",
       "    <tr>\n",
       "      <th>21743</th>\n",
       "      <td>Màu sắc:trắng\\nChất liệu:gió\\nĐúng ...</td>\n",
       "      <td>trắng gió giống không đẹp hợp giá ti...</td>\n",
       "      <td></td>\n",
       "    </tr>\n",
       "    <tr>\n",
       "      <th>21744</th>\n",
       "      <td>GIẢM GIÁ KHỦNG - MUA SẮM LIỀN TAY\\n    ...</td>\n",
       "      <td>giảm_giá khủng mua_sắm liền_tay sale sa...</td>\n",
       "      <td>house_with_garden heart heart diamonds diamond...</td>\n",
       "    </tr>\n",
       "    <tr>\n",
       "      <th>21745</th>\n",
       "      <td>Màu sắc:oke\\nChất liệu:vẫn là oke</td>\n",
       "      <td>ok ok</td>\n",
       "      <td></td>\n",
       "    </tr>\n",
       "  </tbody>\n",
       "</table>\n",
       "<p>21746 rows × 3 columns</p>\n",
       "</div>"
      ],
      "text/plain": [
       "                                                 comment  \\\n",
       "0      Chất liệu bình thường, áo rộng so v...   \n",
       "1      Đúng với mô tả:đúng\\nChất liệu:nỉ\\n...   \n",
       "2      Đúng với mô tả:ko đúng lắm còn bị ra...   \n",
       "3                                                   10dd   \n",
       "4                          hàng k đúng mẫu đặt mua   \n",
       "...                                                  ...   \n",
       "21741  Chất liệu:vải\\nĐúng với mô tả:đúng\\...   \n",
       "21742  Mk thấy áo k được đẹp lắm \\n2 lớp n...   \n",
       "21743  Màu sắc:trắng\\nChất liệu:gió\\nĐúng ...   \n",
       "21744  GIẢM GIÁ KHỦNG - MUA SẮM LIỀN TAY\\n    ...   \n",
       "21745        Màu sắc:oke\\nChất liệu:vẫn là oke   \n",
       "\n",
       "                                       nomalized_comment  \\\n",
       "0      bình_thường áo_rộng với xin đổi bả...   \n",
       "1        đúng nỉ đỏ xám bo tay lệch nhiều thừa   \n",
       "2      đúng lắm rách nhiều kiến riêng ổn m...   \n",
       "3                                                          \n",
       "4                     hàng không đúng mẫu đặt mua   \n",
       "...                                                  ...   \n",
       "21741  vải đúng ghi áo rất đẹp rất cuốn_hú...   \n",
       "21742  mình thấy áo không được đẹp lắm lơ...   \n",
       "21743  trắng gió giống không đẹp hợp giá ti...   \n",
       "21744  giảm_giá khủng mua_sắm liền_tay sale sa...   \n",
       "21745                                              ok ok   \n",
       "\n",
       "                                            emoji_decode  \n",
       "0                                                         \n",
       "1                                            raised_hand  \n",
       "2                                                         \n",
       "3                                                         \n",
       "4                                                         \n",
       "...                                                  ...  \n",
       "21741                                                     \n",
       "21742                                                     \n",
       "21743                                                     \n",
       "21744  house_with_garden heart heart diamonds diamond...  \n",
       "21745                                                     \n",
       "\n",
       "[21746 rows x 3 columns]"
      ]
     },
     "metadata": {},
     "output_type": "display_data"
    },
    {
     "data": {
      "text/html": [
       "<div>\n",
       "<style scoped>\n",
       "    .dataframe tbody tr th:only-of-type {\n",
       "        vertical-align: middle;\n",
       "    }\n",
       "\n",
       "    .dataframe tbody tr th {\n",
       "        vertical-align: top;\n",
       "    }\n",
       "\n",
       "    .dataframe thead th {\n",
       "        text-align: right;\n",
       "    }\n",
       "</style>\n",
       "<table border=\"1\" class=\"dataframe\">\n",
       "  <thead>\n",
       "    <tr style=\"text-align: right;\">\n",
       "      <th></th>\n",
       "      <th>label</th>\n",
       "    </tr>\n",
       "  </thead>\n",
       "  <tbody>\n",
       "    <tr>\n",
       "      <th>0</th>\n",
       "      <td>0</td>\n",
       "    </tr>\n",
       "    <tr>\n",
       "      <th>1</th>\n",
       "      <td>0</td>\n",
       "    </tr>\n",
       "    <tr>\n",
       "      <th>2</th>\n",
       "      <td>0</td>\n",
       "    </tr>\n",
       "    <tr>\n",
       "      <th>3</th>\n",
       "      <td>1</td>\n",
       "    </tr>\n",
       "    <tr>\n",
       "      <th>4</th>\n",
       "      <td>0</td>\n",
       "    </tr>\n",
       "    <tr>\n",
       "      <th>...</th>\n",
       "      <td>...</td>\n",
       "    </tr>\n",
       "    <tr>\n",
       "      <th>21741</th>\n",
       "      <td>1</td>\n",
       "    </tr>\n",
       "    <tr>\n",
       "      <th>21742</th>\n",
       "      <td>0</td>\n",
       "    </tr>\n",
       "    <tr>\n",
       "      <th>21743</th>\n",
       "      <td>0</td>\n",
       "    </tr>\n",
       "    <tr>\n",
       "      <th>21744</th>\n",
       "      <td>1</td>\n",
       "    </tr>\n",
       "    <tr>\n",
       "      <th>21745</th>\n",
       "      <td>1</td>\n",
       "    </tr>\n",
       "  </tbody>\n",
       "</table>\n",
       "<p>21746 rows × 1 columns</p>\n",
       "</div>"
      ],
      "text/plain": [
       "       label\n",
       "0          0\n",
       "1          0\n",
       "2          0\n",
       "3          1\n",
       "4          0\n",
       "...      ...\n",
       "21741      1\n",
       "21742      0\n",
       "21743      0\n",
       "21744      1\n",
       "21745      1\n",
       "\n",
       "[21746 rows x 1 columns]"
      ]
     },
     "metadata": {},
     "output_type": "display_data"
    },
    {
     "data": {
      "text/html": [
       "<div>\n",
       "<style scoped>\n",
       "    .dataframe tbody tr th:only-of-type {\n",
       "        vertical-align: middle;\n",
       "    }\n",
       "\n",
       "    .dataframe tbody tr th {\n",
       "        vertical-align: top;\n",
       "    }\n",
       "\n",
       "    .dataframe thead th {\n",
       "        text-align: right;\n",
       "    }\n",
       "</style>\n",
       "<table border=\"1\" class=\"dataframe\">\n",
       "  <thead>\n",
       "    <tr style=\"text-align: right;\">\n",
       "      <th></th>\n",
       "      <th>comment</th>\n",
       "      <th>nomalized_comment</th>\n",
       "      <th>emoji_decode</th>\n",
       "    </tr>\n",
       "  </thead>\n",
       "  <tbody>\n",
       "    <tr>\n",
       "      <th>0</th>\n",
       "      <td>Hàng nhận về khác vs ảnh</td>\n",
       "      <td>hàng nhận khác với ảnh</td>\n",
       "      <td></td>\n",
       "    </tr>\n",
       "    <tr>\n",
       "      <th>1</th>\n",
       "      <td>(hình ảnh mang tính chất nhận xu) áo đ...</td>\n",
       "      <td>áo đẹp chất vải mặc không nóng xíu l...</td>\n",
       "      <td></td>\n",
       "    </tr>\n",
       "    <tr>\n",
       "      <th>2</th>\n",
       "      <td>Chất liệu:tạm ổn\\nMàu sắc:chuẩn\\nĐ...</td>\n",
       "      <td>tạm ổn chuẩn ok cá sơ_chế xong bạn c...</td>\n",
       "      <td></td>\n",
       "    </tr>\n",
       "    <tr>\n",
       "      <th>3</th>\n",
       "      <td>Đúng với mô tả:dungd dày dặn cầm nạ...</td>\n",
       "      <td>dày_dặn cầm nặng_tay be xịn</td>\n",
       "      <td></td>\n",
       "    </tr>\n",
       "    <tr>\n",
       "      <th>4</th>\n",
       "      <td>Đã nhận . 1 áo k đúng như đã đặt ..😩</td>\n",
       "      <td>nhận áo không đúng đặt</td>\n",
       "      <td>weary</td>\n",
       "    </tr>\n",
       "    <tr>\n",
       "      <th>...</th>\n",
       "      <td>...</td>\n",
       "      <td>...</td>\n",
       "      <td>...</td>\n",
       "    </tr>\n",
       "    <tr>\n",
       "      <th>9315</th>\n",
       "      <td>Màu sắc:ok\\nĐúng với mô tả:duong may n...</td>\n",
       "      <td>ok may nỗi ok</td>\n",
       "      <td></td>\n",
       "    </tr>\n",
       "    <tr>\n",
       "      <th>9316</th>\n",
       "      <td>Màu sắc:kh giống hình\\nChất liệu:vả...</td>\n",
       "      <td>giống hình vải mỏng không size l tay_áo...</td>\n",
       "      <td></td>\n",
       "    </tr>\n",
       "    <tr>\n",
       "      <th>9317</th>\n",
       "      <td>Đúng với mô tả:ko đúng với mô tả\\nCh...</td>\n",
       "      <td>vải xốp màu trắng đẹp đúng form nên mua</td>\n",
       "      <td></td>\n",
       "    </tr>\n",
       "    <tr>\n",
       "      <th>9318</th>\n",
       "      <td>Màu sắc:xám\\nChất liệu:...\\n\\nEo, tui ...</td>\n",
       "      <td>xám eo tôi đặt áo mong_muốn tay_áo_dà...</td>\n",
       "      <td>smiling_face_with_tear smiling_face_with_tear ...</td>\n",
       "    </tr>\n",
       "    <tr>\n",
       "      <th>9319</th>\n",
       "      <td>Áo giá này thì mỏng chứ k dày. Như ả...</td>\n",
       "      <td>áo giá mỏng không dày ảnh l rộng dữ ...</td>\n",
       "      <td></td>\n",
       "    </tr>\n",
       "  </tbody>\n",
       "</table>\n",
       "<p>9320 rows × 3 columns</p>\n",
       "</div>"
      ],
      "text/plain": [
       "                                                comment  \\\n",
       "0                       Hàng nhận về khác vs ảnh   \n",
       "1     (hình ảnh mang tính chất nhận xu) áo đ...   \n",
       "2     Chất liệu:tạm ổn\\nMàu sắc:chuẩn\\nĐ...   \n",
       "3     Đúng với mô tả:dungd dày dặn cầm nạ...   \n",
       "4         Đã nhận . 1 áo k đúng như đã đặt ..😩   \n",
       "...                                                 ...   \n",
       "9315  Màu sắc:ok\\nĐúng với mô tả:duong may n...   \n",
       "9316  Màu sắc:kh giống hình\\nChất liệu:vả...   \n",
       "9317  Đúng với mô tả:ko đúng với mô tả\\nCh...   \n",
       "9318  Màu sắc:xám\\nChất liệu:...\\n\\nEo, tui ...   \n",
       "9319  Áo giá này thì mỏng chứ k dày. Như ả...   \n",
       "\n",
       "                                      nomalized_comment  \\\n",
       "0                         hàng nhận khác với ảnh   \n",
       "1     áo đẹp chất vải mặc không nóng xíu l...   \n",
       "2     tạm ổn chuẩn ok cá sơ_chế xong bạn c...   \n",
       "3                   dày_dặn cầm nặng_tay be xịn   \n",
       "4                         nhận áo không đúng đặt   \n",
       "...                                                 ...   \n",
       "9315                                    ok may nỗi ok   \n",
       "9316  giống hình vải mỏng không size l tay_áo...   \n",
       "9317   vải xốp màu trắng đẹp đúng form nên mua   \n",
       "9318  xám eo tôi đặt áo mong_muốn tay_áo_dà...   \n",
       "9319  áo giá mỏng không dày ảnh l rộng dữ ...   \n",
       "\n",
       "                                           emoji_decode  \n",
       "0                                                        \n",
       "1                                                        \n",
       "2                                                        \n",
       "3                                                        \n",
       "4                                                 weary  \n",
       "...                                                 ...  \n",
       "9315                                                     \n",
       "9316                                                     \n",
       "9317                                                     \n",
       "9318  smiling_face_with_tear smiling_face_with_tear ...  \n",
       "9319                                                     \n",
       "\n",
       "[9320 rows x 3 columns]"
      ]
     },
     "metadata": {},
     "output_type": "display_data"
    },
    {
     "data": {
      "text/html": [
       "<div>\n",
       "<style scoped>\n",
       "    .dataframe tbody tr th:only-of-type {\n",
       "        vertical-align: middle;\n",
       "    }\n",
       "\n",
       "    .dataframe tbody tr th {\n",
       "        vertical-align: top;\n",
       "    }\n",
       "\n",
       "    .dataframe thead th {\n",
       "        text-align: right;\n",
       "    }\n",
       "</style>\n",
       "<table border=\"1\" class=\"dataframe\">\n",
       "  <thead>\n",
       "    <tr style=\"text-align: right;\">\n",
       "      <th></th>\n",
       "      <th>label</th>\n",
       "    </tr>\n",
       "  </thead>\n",
       "  <tbody>\n",
       "    <tr>\n",
       "      <th>0</th>\n",
       "      <td>0</td>\n",
       "    </tr>\n",
       "    <tr>\n",
       "      <th>1</th>\n",
       "      <td>1</td>\n",
       "    </tr>\n",
       "    <tr>\n",
       "      <th>2</th>\n",
       "      <td>1</td>\n",
       "    </tr>\n",
       "    <tr>\n",
       "      <th>3</th>\n",
       "      <td>1</td>\n",
       "    </tr>\n",
       "    <tr>\n",
       "      <th>4</th>\n",
       "      <td>0</td>\n",
       "    </tr>\n",
       "    <tr>\n",
       "      <th>...</th>\n",
       "      <td>...</td>\n",
       "    </tr>\n",
       "    <tr>\n",
       "      <th>9315</th>\n",
       "      <td>0</td>\n",
       "    </tr>\n",
       "    <tr>\n",
       "      <th>9316</th>\n",
       "      <td>0</td>\n",
       "    </tr>\n",
       "    <tr>\n",
       "      <th>9317</th>\n",
       "      <td>0</td>\n",
       "    </tr>\n",
       "    <tr>\n",
       "      <th>9318</th>\n",
       "      <td>0</td>\n",
       "    </tr>\n",
       "    <tr>\n",
       "      <th>9319</th>\n",
       "      <td>0</td>\n",
       "    </tr>\n",
       "  </tbody>\n",
       "</table>\n",
       "<p>9320 rows × 1 columns</p>\n",
       "</div>"
      ],
      "text/plain": [
       "      label\n",
       "0         0\n",
       "1         1\n",
       "2         1\n",
       "3         1\n",
       "4         0\n",
       "...     ...\n",
       "9315      0\n",
       "9316      0\n",
       "9317      0\n",
       "9318      0\n",
       "9319      0\n",
       "\n",
       "[9320 rows x 1 columns]"
      ]
     },
     "metadata": {},
     "output_type": "display_data"
    }
   ],
   "source": [
    "X_train, y_train = Model.loadData(\"./data/data/train\")\n",
    "X_train = X_train.fillna(\"\")\n",
    "\n",
    "X_test, y_test = Model.loadData(\"./data/data/test\")\n",
    "X_test = X_test.fillna(\"\")\n",
    "\n",
    "display(X_train, y_train)\n",
    "display(X_test, y_test)\n"
   ]
  },
  {
   "cell_type": "markdown",
   "metadata": {},
   "source": [
    "Ở đây, em đã viết gọn tất cả các tính năng của một LSTM model vào một object là `SentimentLSTM` nằm trong file `deep_model.py`, về ý tưởng của em như sau:\n",
    "  * **Bước 1**: Dữ liệu training ở đây là các comment đã qua bước tiền xử lí ở feature `normalize_comment` - ta bỏ qua không cần xử lí N-Grams cho feature này.\n",
    "  * **Bước 2**: Ta sử dụng cơ chế Tokenizer do TensorFlow cung cấp, object `Tokenizer` của TensorFlow yêu cầu một hyper-pamrameter là `num_words` - tức số lượng từ tối đa ta muốn tokenize, ở đây nếu để bằng `None`, `Tokenizer` sẽ được tự động tính. Cuối cùng `Tokenizer` sẽ lưu các comment dưới dạng mảng chứa các index của từ, với index của từ phổ biến nhất là 1.\n",
    "  * **Bước 3**: Ta sử dụng phương thức `pad_sequences()` của TensorFlow - phương thức này sẽ dựa vào thuộc tính `maxlen` để đưa toàn bộ các comment về cùng một độ dài, các comment nào có chiều dài lớn sẽ được cắt bớt. Các comment ngắn hơn sẽ được thay thế bằng giá trị 0.\n",
    "  * **Bước 4**: Ta sẽ định nghĩa kiến trúc của model trong `SentimentLSTM._defineModel()`. Ở đây, để tiện cho quá trình HyperParams Optimization, ta sẽ để thuộc tính `optimizer` linh động dựa trên tham vào truyền vào của hàm. Tiếp theo, ở output ta sử dụng 2 neuron để lưu giá trị của xác suất để dự đoán comment đó ở lần lượt hai class là negative và positive, ta sử dụng loss function là **binary cross-entropy** và action function **softmax** cho output layer này.\n",
    "  * **Bước 5**: Để ta có thể kiểm soát được liệu model có bị overfitting trong quá trính training không, nếu có ta có thể dừng quá trình training lại. Tại đây ta sử dụng object `CheckPoint` do TensorFlow cung cấp, object này sẽ theo dõi qua trình training và dựa vào thông số trên loss function mà ta chỉ định là trên train hay validation data để tiến hành lưu lại **weights set** của model tại thời điểm loss value này thấp nhất, ở đây em sẽ sử dụng 10% dữ liệu training làm validation và chỉ định validation loss để tránh overfitting.\n",
    "\n",
    "Code dưới đây ta sẽ định nghĩa một hyperparams set cho model. Ở đây `num_words` là `None` để cho TensorFlow tự tính toán, ta sử dụng 10 neuron cho LSTM layer và dropout regularixation có xác suất để một neuron bị tắt ở layer này là 20%.\n",
    "\n",
    "Sau đó ta sẽ cho in `summary` để xem tổng số weight của model và trực quan hóa kiến trúc của model."
   ]
  },
  {
   "cell_type": "code",
   "execution_count": 9,
   "metadata": {},
   "outputs": [
    {
     "name": "stdout",
     "output_type": "stream",
     "text": [
      "Model: \"sequential_1\"\n",
      "_________________________________________________________________\n",
      " Layer (type)                Output Shape              Param #   \n",
      "=================================================================\n",
      " embedding (Embedding)       (None, 100, 100)          477600    \n",
      "                                                                 \n",
      " lstm (LSTM)                 (None, 10)                4440      \n",
      "                                                                 \n",
      " output (Dense)              (None, 2)                 22        \n",
      "                                                                 \n",
      "=================================================================\n",
      "Total params: 482,062\n",
      "Trainable params: 482,062\n",
      "Non-trainable params: 0\n",
      "_________________________________________________________________\n"
     ]
    },
    {
     "data": {
      "image/png": "[encoded data removed]",
      "text/plain": [
       "<IPython.core.display.Image object>"
      ]
     },
     "execution_count": 9,
     "metadata": {},
     "output_type": "execute_result"
    }
   ],
   "source": [
    "hyperparameters_1 = {\n",
    "    'pX': X_train['nomalized_comment'],  # <== giữ nguyên dạng Series (text)\n",
    "    'py': y_train,\n",
    "    'pnum_words': None,\n",
    "    'pseq_length': 100,\n",
    "    'pno_units': 10,\n",
    "    'pdropout': 0.2,\n",
    "    'pbatch_size': 32,\n",
    "    'pepochs': 10,\n",
    "    'psave_weights': './models/lstm_model_comments_1.h5'\n",
    "}\n",
    "\n",
    "model_1 = DeepModel.SentimentLSTM()\n",
    "model_1.define(**hyperparameters_1)\n",
    "model_1.model.summary()\n",
    "plot_model(model_1.model, to_file='./images/lstm_model_comments_1.png', show_shapes=True, show_layer_names=True)"
   ]
  },
  {
   "cell_type": "markdown",
   "metadata": {},
   "source": [
    "Bây giờ ta tiến hành training model."
   ]
  },
  {
   "cell_type": "code",
   "execution_count": 11,
   "metadata": {},
   "outputs": [
    {
     "name": "stdout",
     "output_type": "stream",
     "text": [
      "Epoch 1/10\n",
      "612/612 [==============================] - 44s 68ms/step - loss: 0.4170 - accuracy: 0.8219 - val_loss: 0.3322 - val_accuracy: 0.8630\n",
      "Epoch 2/10\n",
      "612/612 [==============================] - 42s 69ms/step - loss: 0.3096 - accuracy: 0.8735 - val_loss: 0.3207 - val_accuracy: 0.8667\n",
      "Epoch 3/10\n",
      "612/612 [==============================] - 41s 67ms/step - loss: 0.2821 - accuracy: 0.8848 - val_loss: 0.3208 - val_accuracy: 0.8703\n",
      "Epoch 4/10\n",
      "612/612 [==============================] - 41s 68ms/step - loss: 0.2626 - accuracy: 0.8937 - val_loss: 0.3221 - val_accuracy: 0.8690\n",
      "Epoch 5/10\n",
      "612/612 [==============================] - 44s 72ms/step - loss: 0.2480 - accuracy: 0.8996 - val_loss: 0.3292 - val_accuracy: 0.8680\n",
      "Epoch 6/10\n",
      "612/612 [==============================] - 44s 72ms/step - loss: 0.2346 - accuracy: 0.9053 - val_loss: 0.3375 - val_accuracy: 0.8662\n",
      "Epoch 7/10\n",
      "612/612 [==============================] - 46s 76ms/step - loss: 0.2233 - accuracy: 0.9106 - val_loss: 0.3429 - val_accuracy: 0.8589\n",
      "Epoch 8/10\n",
      "612/612 [==============================] - 45s 73ms/step - loss: 0.2162 - accuracy: 0.9134 - val_loss: 0.3526 - val_accuracy: 0.8602\n",
      "Epoch 9/10\n",
      "612/612 [==============================] - 44s 72ms/step - loss: 0.2074 - accuracy: 0.9166 - val_loss: 0.3712 - val_accuracy: 0.8616\n",
      "Epoch 10/10\n",
      "612/612 [==============================] - 49s 80ms/step - loss: 0.1968 - accuracy: 0.9226 - val_loss: 0.3835 - val_accuracy: 0.8621\n"
     ]
    }
   ],
   "source": [
    "model_1.fit(**hyperparameters_1)"
   ]
  },
  {
   "cell_type": "code",
   "execution_count": 15,
   "metadata": {},
   "outputs": [
    {
     "data": {
      "text/plain": [
       "Reusing TensorBoard on port 6006 (pid 10424), started 0:48:02 ago. (Use '!kill 10424' to kill it.)"
      ]
     },
     "metadata": {},
     "output_type": "display_data"
    },
    {
     "data": {
      "text/html": [
       "\n",
       "      <iframe id=\"tensorboard-frame-36776b7c5d7bba1b\" width=\"100%\" height=\"800\" frameborder=\"0\">\n",
       "      </iframe>\n",
       "      <script>\n",
       "        (function() {\n",
       "          const frame = document.getElementById(\"tensorboard-frame-36776b7c5d7bba1b\");\n",
       "          const url = new URL(\"/\", window.location);\n",
       "          const port = 6006;\n",
       "          if (port) {\n",
       "            url.port = port;\n",
       "          }\n",
       "          frame.src = url;\n",
       "        })();\n",
       "      </script>\n",
       "    "
      ],
      "text/plain": [
       "<IPython.core.display.HTML object>"
      ]
     },
     "metadata": {},
     "output_type": "display_data"
    }
   ],
   "source": [
    "%load_ext tensorboard\n",
    "%tensorboard --logdir ./tb_log_sentiment --port 6006"
   ]
  },
  {
   "cell_type": "markdown",
   "metadata": {},
   "source": [
    "> **Nhận xét**:\n",
    "> * Hai biểu đồ trên lần lượt thể hiện giá trị accuracy và loss value qua 10 epoch với đường màu xanh dương là của **validation data** và  là của **training data** được vẽ bằng TensorBoard. Có thể thấy kể từ epoch thứ 2 trở đi thì loss value có xu hướng đi xuống ở training data và đi lên ở valudation. Lúc này nhờ cơ thế CheckPoint của TensorFlow mà các weight tại thời điểm này được lưu lại và ta có thể kiểm tra sau này."
   ]
  },
  {
   "cell_type": "markdown",
   "metadata": {},
   "source": [
    "Tiếp theo, ta sẽ tokenizer cho test data để tiến hành đánh giá trên test data."
   ]
  },
  {
   "cell_type": "code",
   "execution_count": 19,
   "metadata": {},
   "outputs": [
    {
     "name": "stdout",
     "output_type": "stream",
     "text": [
      "292/292 [==============================] - 3s 9ms/step\n"
     ]
    },
    {
     "data": {
      "text/html": [
       "<div>\n",
       "<style scoped>\n",
       "    .dataframe tbody tr th:only-of-type {\n",
       "        vertical-align: middle;\n",
       "    }\n",
       "\n",
       "    .dataframe tbody tr th {\n",
       "        vertical-align: top;\n",
       "    }\n",
       "\n",
       "    .dataframe thead th {\n",
       "        text-align: right;\n",
       "    }\n",
       "</style>\n",
       "<table border=\"1\" class=\"dataframe\">\n",
       "  <thead>\n",
       "    <tr style=\"text-align: right;\">\n",
       "      <th></th>\n",
       "      <th>input</th>\n",
       "      <th>output_proba</th>\n",
       "      <th>output_class</th>\n",
       "    </tr>\n",
       "  </thead>\n",
       "  <tbody>\n",
       "    <tr>\n",
       "      <th>0</th>\n",
       "      <td>hàng nhận khác với ảnh</td>\n",
       "      <td>(0.99931586, 0.00068412407)</td>\n",
       "      <td>0</td>\n",
       "    </tr>\n",
       "    <tr>\n",
       "      <th>1</th>\n",
       "      <td>áo đẹp chất vải mặc không nóng xíu l...</td>\n",
       "      <td>(1.9561148e-06, 0.9999981)</td>\n",
       "      <td>1</td>\n",
       "    </tr>\n",
       "    <tr>\n",
       "      <th>2</th>\n",
       "      <td>tạm ổn chuẩn ok cá sơ_chế xong bạn c...</td>\n",
       "      <td>(0.00013257691, 0.99986744)</td>\n",
       "      <td>1</td>\n",
       "    </tr>\n",
       "    <tr>\n",
       "      <th>3</th>\n",
       "      <td>dày_dặn cầm nặng_tay be xịn</td>\n",
       "      <td>(0.0018044217, 0.9981956)</td>\n",
       "      <td>1</td>\n",
       "    </tr>\n",
       "    <tr>\n",
       "      <th>4</th>\n",
       "      <td>nhận áo không đúng đặt</td>\n",
       "      <td>(0.99020267, 0.009797305)</td>\n",
       "      <td>0</td>\n",
       "    </tr>\n",
       "    <tr>\n",
       "      <th>...</th>\n",
       "      <td>...</td>\n",
       "      <td>...</td>\n",
       "      <td>...</td>\n",
       "    </tr>\n",
       "    <tr>\n",
       "      <th>9315</th>\n",
       "      <td>ok may nỗi ok</td>\n",
       "      <td>(0.18794872, 0.81205124)</td>\n",
       "      <td>1</td>\n",
       "    </tr>\n",
       "    <tr>\n",
       "      <th>9316</th>\n",
       "      <td>giống hình vải mỏng không size l tay_áo...</td>\n",
       "      <td>(0.9999504, 4.958703e-05)</td>\n",
       "      <td>0</td>\n",
       "    </tr>\n",
       "    <tr>\n",
       "      <th>9317</th>\n",
       "      <td>vải xốp màu trắng đẹp đúng form nên mua</td>\n",
       "      <td>(0.2039462, 0.7960538)</td>\n",
       "      <td>1</td>\n",
       "    </tr>\n",
       "    <tr>\n",
       "      <th>9318</th>\n",
       "      <td>xám eo tôi đặt áo mong_muốn tay_áo_dà...</td>\n",
       "      <td>(0.99992, 8.003754e-05)</td>\n",
       "      <td>0</td>\n",
       "    </tr>\n",
       "    <tr>\n",
       "      <th>9319</th>\n",
       "      <td>áo giá mỏng không dày ảnh l rộng dữ ...</td>\n",
       "      <td>(0.99993765, 6.229096e-05)</td>\n",
       "      <td>0</td>\n",
       "    </tr>\n",
       "  </tbody>\n",
       "</table>\n",
       "<p>9320 rows × 3 columns</p>\n",
       "</div>"
      ],
      "text/plain": [
       "                                                  input  \\\n",
       "0                         hàng nhận khác với ảnh   \n",
       "1     áo đẹp chất vải mặc không nóng xíu l...   \n",
       "2     tạm ổn chuẩn ok cá sơ_chế xong bạn c...   \n",
       "3                   dày_dặn cầm nặng_tay be xịn   \n",
       "4                         nhận áo không đúng đặt   \n",
       "...                                                 ...   \n",
       "9315                                    ok may nỗi ok   \n",
       "9316  giống hình vải mỏng không size l tay_áo...   \n",
       "9317   vải xốp màu trắng đẹp đúng form nên mua   \n",
       "9318  xám eo tôi đặt áo mong_muốn tay_áo_dà...   \n",
       "9319  áo giá mỏng không dày ảnh l rộng dữ ...   \n",
       "\n",
       "                     output_proba  output_class  \n",
       "0     (0.99931586, 0.00068412407)             0  \n",
       "1      (1.9561148e-06, 0.9999981)             1  \n",
       "2     (0.00013257691, 0.99986744)             1  \n",
       "3       (0.0018044217, 0.9981956)             1  \n",
       "4       (0.99020267, 0.009797305)             0  \n",
       "...                           ...           ...  \n",
       "9315     (0.18794872, 0.81205124)             1  \n",
       "9316    (0.9999504, 4.958703e-05)             0  \n",
       "9317       (0.2039462, 0.7960538)             1  \n",
       "9318      (0.99992, 8.003754e-05)             0  \n",
       "9319   (0.99993765, 6.229096e-05)             0  \n",
       "\n",
       "[9320 rows x 3 columns]"
      ]
     },
     "execution_count": 19,
     "metadata": {},
     "output_type": "execute_result"
    }
   ],
   "source": [
    "prediction_1 = model_1.predict(X_test['nomalized_comment'])\n",
    "prediction_1"
   ]
  },
  {
   "cell_type": "code",
   "execution_count": 21,
   "metadata": {},
   "outputs": [
    {
     "name": "stdout",
     "output_type": "stream",
     "text": [
      "              precision    recall  f1-score   support\n",
      "\n",
      "    Negative       0.86      0.85      0.86      4703\n",
      "    Positive       0.85      0.86      0.85      4617\n",
      "\n",
      "    accuracy                           0.86      9320\n",
      "   macro avg       0.86      0.86      0.86      9320\n",
      "weighted avg       0.86      0.86      0.86      9320\n",
      "\n"
     ]
    },
    {
     "data": {
      "image/png": "[encoded data removed]",
      "text/plain": [
       "<Figure size 600x400 with 2 Axes>"
      ]
     },
     "metadata": {},
     "output_type": "display_data"
    }
   ],
   "source": [
    "Model.confusionMatrix(y_test, prediction_1['output_class'])"
   ]
  },
  {
   "cell_type": "markdown",
   "metadata": {},
   "source": [
    "> **Nhận xét**:\n",
    "> * Ta có thể thấy rõ ràng rằng dù độ chính xác của model LSTM khá cao hơn 86%, với việc để các hyper-params cho TensorFlow tự quyết thì model có khả năng dự đoán cân bằng trên cả hai class là negative và postive, ta không cần phải kiểm tra lại bằng ROC-AUC."
   ]
  },
  {
   "cell_type": "markdown",
   "metadata": {},
   "source": [
    "Do ta có áp dụng checkpoint trong model để lưu lại các bộ tham số tốt nhất trong quá trình training, ta có thể lấy bộ tham số mà có validation loss thấp nhất để update trọng số cho model."
   ]
  },
  {
   "cell_type": "code",
   "execution_count": 25,
   "metadata": {},
   "outputs": [],
   "source": [
    "model_uw_1 = DeepModel.SentimentLSTM()\n",
    "model_uw_1.define(**hyperparameters_1)\n",
    "model_uw_1.model.load_weights(\"./models/lstm_model_comments_1/weights/02-0.320742.h5\")"
   ]
  },
  {
   "cell_type": "code",
   "execution_count": 29,
   "metadata": {},
   "outputs": [
    {
     "name": "stdout",
     "output_type": "stream",
     "text": [
      "292/292 [==============================] - 3s 9ms/step\n"
     ]
    },
    {
     "data": {
      "text/html": [
       "<div>\n",
       "<style scoped>\n",
       "    .dataframe tbody tr th:only-of-type {\n",
       "        vertical-align: middle;\n",
       "    }\n",
       "\n",
       "    .dataframe tbody tr th {\n",
       "        vertical-align: top;\n",
       "    }\n",
       "\n",
       "    .dataframe thead th {\n",
       "        text-align: right;\n",
       "    }\n",
       "</style>\n",
       "<table border=\"1\" class=\"dataframe\">\n",
       "  <thead>\n",
       "    <tr style=\"text-align: right;\">\n",
       "      <th></th>\n",
       "      <th>input</th>\n",
       "      <th>output_proba</th>\n",
       "      <th>output_class</th>\n",
       "    </tr>\n",
       "  </thead>\n",
       "  <tbody>\n",
       "    <tr>\n",
       "      <th>0</th>\n",
       "      <td>hàng nhận khác với ảnh</td>\n",
       "      <td>(0.99756914, 0.002430812)</td>\n",
       "      <td>0</td>\n",
       "    </tr>\n",
       "    <tr>\n",
       "      <th>1</th>\n",
       "      <td>áo đẹp chất vải mặc không nóng xíu l...</td>\n",
       "      <td>(0.00069467945, 0.99930537)</td>\n",
       "      <td>1</td>\n",
       "    </tr>\n",
       "    <tr>\n",
       "      <th>2</th>\n",
       "      <td>tạm ổn chuẩn ok cá sơ_chế xong bạn c...</td>\n",
       "      <td>(0.0082001425, 0.9917998)</td>\n",
       "      <td>1</td>\n",
       "    </tr>\n",
       "    <tr>\n",
       "      <th>3</th>\n",
       "      <td>dày_dặn cầm nặng_tay be xịn</td>\n",
       "      <td>(0.004782529, 0.99521744)</td>\n",
       "      <td>1</td>\n",
       "    </tr>\n",
       "    <tr>\n",
       "      <th>4</th>\n",
       "      <td>nhận áo không đúng đặt</td>\n",
       "      <td>(0.9953831, 0.004616857)</td>\n",
       "      <td>0</td>\n",
       "    </tr>\n",
       "    <tr>\n",
       "      <th>...</th>\n",
       "      <td>...</td>\n",
       "      <td>...</td>\n",
       "      <td>...</td>\n",
       "    </tr>\n",
       "    <tr>\n",
       "      <th>9315</th>\n",
       "      <td>ok may nỗi ok</td>\n",
       "      <td>(0.09072669, 0.90927327)</td>\n",
       "      <td>1</td>\n",
       "    </tr>\n",
       "    <tr>\n",
       "      <th>9316</th>\n",
       "      <td>giống hình vải mỏng không size l tay_áo...</td>\n",
       "      <td>(0.9991843, 0.00081570994)</td>\n",
       "      <td>0</td>\n",
       "    </tr>\n",
       "    <tr>\n",
       "      <th>9317</th>\n",
       "      <td>vải xốp màu trắng đẹp đúng form nên mua</td>\n",
       "      <td>(0.13546914, 0.86453086)</td>\n",
       "      <td>1</td>\n",
       "    </tr>\n",
       "    <tr>\n",
       "      <th>9318</th>\n",
       "      <td>xám eo tôi đặt áo mong_muốn tay_áo_dà...</td>\n",
       "      <td>(0.9932201, 0.006779932)</td>\n",
       "      <td>0</td>\n",
       "    </tr>\n",
       "    <tr>\n",
       "      <th>9319</th>\n",
       "      <td>áo giá mỏng không dày ảnh l rộng dữ ...</td>\n",
       "      <td>(0.77296525, 0.22703469)</td>\n",
       "      <td>0</td>\n",
       "    </tr>\n",
       "  </tbody>\n",
       "</table>\n",
       "<p>9320 rows × 3 columns</p>\n",
       "</div>"
      ],
      "text/plain": [
       "                                                  input  \\\n",
       "0                         hàng nhận khác với ảnh   \n",
       "1     áo đẹp chất vải mặc không nóng xíu l...   \n",
       "2     tạm ổn chuẩn ok cá sơ_chế xong bạn c...   \n",
       "3                   dày_dặn cầm nặng_tay be xịn   \n",
       "4                         nhận áo không đúng đặt   \n",
       "...                                                 ...   \n",
       "9315                                    ok may nỗi ok   \n",
       "9316  giống hình vải mỏng không size l tay_áo...   \n",
       "9317   vải xốp màu trắng đẹp đúng form nên mua   \n",
       "9318  xám eo tôi đặt áo mong_muốn tay_áo_dà...   \n",
       "9319  áo giá mỏng không dày ảnh l rộng dữ ...   \n",
       "\n",
       "                     output_proba  output_class  \n",
       "0       (0.99756914, 0.002430812)             0  \n",
       "1     (0.00069467945, 0.99930537)             1  \n",
       "2       (0.0082001425, 0.9917998)             1  \n",
       "3       (0.004782529, 0.99521744)             1  \n",
       "4        (0.9953831, 0.004616857)             0  \n",
       "...                           ...           ...  \n",
       "9315     (0.09072669, 0.90927327)             1  \n",
       "9316   (0.9991843, 0.00081570994)             0  \n",
       "9317     (0.13546914, 0.86453086)             1  \n",
       "9318     (0.9932201, 0.006779932)             0  \n",
       "9319     (0.77296525, 0.22703469)             0  \n",
       "\n",
       "[9320 rows x 3 columns]"
      ]
     },
     "execution_count": 29,
     "metadata": {},
     "output_type": "execute_result"
    }
   ],
   "source": [
    "prediction_uw_1 = model_uw_1.predict(X_test['nomalized_comment'])\n",
    "prediction_uw_1"
   ]
  },
  {
   "cell_type": "code",
   "execution_count": 31,
   "metadata": {},
   "outputs": [
    {
     "name": "stdout",
     "output_type": "stream",
     "text": [
      "              precision    recall  f1-score   support\n",
      "\n",
      "    Negative       0.85      0.87      0.86      4703\n",
      "    Positive       0.86      0.84      0.85      4617\n",
      "\n",
      "    accuracy                           0.85      9320\n",
      "   macro avg       0.86      0.85      0.85      9320\n",
      "weighted avg       0.86      0.85      0.85      9320\n",
      "\n"
     ]
    },
    {
     "data": {
      "image/png": "[encoded data removed]",
      "text/plain": [
       "<Figure size 600x400 with 2 Axes>"
      ]
     },
     "metadata": {},
     "output_type": "display_data"
    }
   ],
   "source": [
    "Model.confusionMatrix(y_test, prediction_uw_1['output_class'])"
   ]
  },
  {
   "cell_type": "markdown",
   "metadata": {},
   "source": [
    "> **Nhận xét**:\n",
    "> * Ta thấy rằng nếu nhìn vào các chỉ số như **precision**, **recall** và **F1-score** thì model được update bởi weight ở tại epoch thứ hai này hoạt động cho hiệu suất thậm chí tốt hơn một ít dù chỉ mới trải qua 2 epoch."
   ]
  },
  {
   "cell_type": "markdown",
   "metadata": {},
   "source": [
    "Ta sẽ đào tạo một model thứ hai với các hyper-params là `num_word` và `maxlen` lần lượt là 3000 và 100, ở project hai ta đã tính được toàn bộ data của ta có khoảng loanh quanh 3000 từ và các comment hay có độ dài là 100 và sử dụng 15 neuron ở LSTM layer.\n",
    "\n",
    "Ta sẽ định nghĩa model sau đó cho training, dự đoán và đánh giá."
   ]
  },
  {
   "cell_type": "code",
   "execution_count": 35,
   "metadata": {},
   "outputs": [
    {
     "name": "stdout",
     "output_type": "stream",
     "text": [
      "Model: \"sequential_4\"\n",
      "_________________________________________________________________\n",
      " Layer (type)                Output Shape              Param #   \n",
      "=================================================================\n",
      " embedding (Embedding)       (None, 100, 100)          477600    \n",
      "                                                                 \n",
      " lstm (LSTM)                 (None, 15)                6960      \n",
      "                                                                 \n",
      " output (Dense)              (None, 2)                 32        \n",
      "                                                                 \n",
      "=================================================================\n",
      "Total params: 484,592\n",
      "Trainable params: 484,592\n",
      "Non-trainable params: 0\n",
      "_________________________________________________________________\n"
     ]
    },
    {
     "data": {
      "image/png": "[encoded data removed]",
      "text/plain": [
       "<IPython.core.display.Image object>"
      ]
     },
     "execution_count": 35,
     "metadata": {},
     "output_type": "execute_result"
    }
   ],
   "source": [
    "hyperparameters_2 = {\n",
    "    'pX': X_train['nomalized_comment'], \n",
    "    'py': y_train, \n",
    "    'pnum_words': 3000, \n",
    "    'pseq_length': 100,\n",
    "    'pno_units': 15, \n",
    "    'pdropout': 0.3, \n",
    "    'pbatch_size': 32, \n",
    "    'pepochs': 10, \n",
    "    'psave_weights': './models/lstm_model_comments_2.h5'\n",
    "}\n",
    "\n",
    "model_2 = DeepModel.SentimentLSTM()\n",
    "model_2.define(**hyperparameters_2)\n",
    "model_2.model.summary()\n",
    "plot_model(model_2.model, to_file='./images/lstm_model_comments_2.png', show_shapes=True, show_layer_names=True)"
   ]
  },
  {
   "cell_type": "code",
   "execution_count": 39,
   "metadata": {},
   "outputs": [
    {
     "name": "stdout",
     "output_type": "stream",
     "text": [
      "Epoch 1/10\n",
      "612/612 [==============================] - 35s 57ms/step - loss: 0.3296 - accuracy: 0.8636 - val_loss: 0.3150 - val_accuracy: 0.8671\n",
      "Epoch 2/10\n",
      "612/612 [==============================] - 40s 66ms/step - loss: 0.2939 - accuracy: 0.8773 - val_loss: 0.3126 - val_accuracy: 0.8713\n",
      "Epoch 3/10\n",
      "612/612 [==============================] - 44s 72ms/step - loss: 0.2742 - accuracy: 0.8867 - val_loss: 0.3165 - val_accuracy: 0.8680\n",
      "Epoch 4/10\n",
      "612/612 [==============================] - 47s 77ms/step - loss: 0.2582 - accuracy: 0.8911 - val_loss: 0.3241 - val_accuracy: 0.8717\n",
      "Epoch 5/10\n",
      "612/612 [==============================] - 50s 82ms/step - loss: 0.2461 - accuracy: 0.8976 - val_loss: 0.3374 - val_accuracy: 0.8694\n",
      "Epoch 6/10\n",
      "612/612 [==============================] - 48s 78ms/step - loss: 0.2349 - accuracy: 0.9050 - val_loss: 0.3473 - val_accuracy: 0.8634\n",
      "Epoch 7/10\n",
      "612/612 [==============================] - 46s 76ms/step - loss: 0.2239 - accuracy: 0.9091 - val_loss: 0.3464 - val_accuracy: 0.8717\n",
      "Epoch 8/10\n",
      "612/612 [==============================] - 48s 78ms/step - loss: 0.2175 - accuracy: 0.9106 - val_loss: 0.3641 - val_accuracy: 0.8630\n",
      "Epoch 9/10\n",
      "612/612 [==============================] - 46s 75ms/step - loss: 0.2099 - accuracy: 0.9146 - val_loss: 0.3650 - val_accuracy: 0.8639\n",
      "Epoch 10/10\n",
      "612/612 [==============================] - 45s 73ms/step - loss: 0.2022 - accuracy: 0.9176 - val_loss: 0.3679 - val_accuracy: 0.8639\n"
     ]
    }
   ],
   "source": [
    "model_2.fit(**hyperparameters_2)"
   ]
  },
  {
   "cell_type": "code",
   "execution_count": 41,
   "metadata": {},
   "outputs": [
    {
     "name": "stdout",
     "output_type": "stream",
     "text": [
      "The tensorboard extension is already loaded. To reload it, use:\n",
      "  %reload_ext tensorboard\n"
     ]
    },
    {
     "data": {
      "text/plain": [
       "Reusing TensorBoard on port 6006 (pid 10424), started 1:12:43 ago. (Use '!kill 10424' to kill it.)"
      ]
     },
     "metadata": {},
     "output_type": "display_data"
    },
    {
     "data": {
      "text/html": [
       "\n",
       "      <iframe id=\"tensorboard-frame-66ae2d88cabf39c1\" width=\"100%\" height=\"800\" frameborder=\"0\">\n",
       "      </iframe>\n",
       "      <script>\n",
       "        (function() {\n",
       "          const frame = document.getElementById(\"tensorboard-frame-66ae2d88cabf39c1\");\n",
       "          const url = new URL(\"/\", window.location);\n",
       "          const port = 6006;\n",
       "          if (port) {\n",
       "            url.port = port;\n",
       "          }\n",
       "          frame.src = url;\n",
       "        })();\n",
       "      </script>\n",
       "    "
      ],
      "text/plain": [
       "<IPython.core.display.HTML object>"
      ]
     },
     "metadata": {},
     "output_type": "display_data"
    }
   ],
   "source": [
    "%load_ext tensorboard\n",
    "%tensorboard --logdir ./tb_log_sentiment --port 6006"
   ]
  },
  {
   "cell_type": "markdown",
   "metadata": {},
   "source": [
    "> **Nhận xét**:\n",
    "> * Với việc ta tự định nghĩa hyper-params set, kết quả đem lại không tốt hơn so với model 1. Có thể thấy rõ accuracy và loss validation trên training data (đường màu xám) và validation data (đường màu cam) bắt đầu khác nhau và khoảng cách khác biệt là lớn - không được ổn định bằng model 1.\n",
    "> * Ta có thể update weight tại epocg thứ 2 xem có cải thiện hơn không."
   ]
  },
  {
   "cell_type": "code",
   "execution_count": 43,
   "metadata": {},
   "outputs": [
    {
     "name": "stdout",
     "output_type": "stream",
     "text": [
      "292/292 [==============================] - 3s 9ms/step\n"
     ]
    },
    {
     "data": {
      "text/html": [
       "<div>\n",
       "<style scoped>\n",
       "    .dataframe tbody tr th:only-of-type {\n",
       "        vertical-align: middle;\n",
       "    }\n",
       "\n",
       "    .dataframe tbody tr th {\n",
       "        vertical-align: top;\n",
       "    }\n",
       "\n",
       "    .dataframe thead th {\n",
       "        text-align: right;\n",
       "    }\n",
       "</style>\n",
       "<table border=\"1\" class=\"dataframe\">\n",
       "  <thead>\n",
       "    <tr style=\"text-align: right;\">\n",
       "      <th></th>\n",
       "      <th>input</th>\n",
       "      <th>output_proba</th>\n",
       "      <th>output_class</th>\n",
       "    </tr>\n",
       "  </thead>\n",
       "  <tbody>\n",
       "    <tr>\n",
       "      <th>0</th>\n",
       "      <td>hàng nhận khác với ảnh</td>\n",
       "      <td>(0.9929395, 0.0070605655)</td>\n",
       "      <td>0</td>\n",
       "    </tr>\n",
       "    <tr>\n",
       "      <th>1</th>\n",
       "      <td>áo đẹp chất vải mặc không nóng xíu l...</td>\n",
       "      <td>(3.2749608e-07, 0.99999964)</td>\n",
       "      <td>1</td>\n",
       "    </tr>\n",
       "    <tr>\n",
       "      <th>2</th>\n",
       "      <td>tạm ổn chuẩn ok cá sơ_chế xong bạn c...</td>\n",
       "      <td>(3.4492885e-05, 0.99996555)</td>\n",
       "      <td>1</td>\n",
       "    </tr>\n",
       "    <tr>\n",
       "      <th>3</th>\n",
       "      <td>dày_dặn cầm nặng_tay be xịn</td>\n",
       "      <td>(0.00014547573, 0.99985445)</td>\n",
       "      <td>1</td>\n",
       "    </tr>\n",
       "    <tr>\n",
       "      <th>4</th>\n",
       "      <td>nhận áo không đúng đặt</td>\n",
       "      <td>(0.99622154, 0.0037784097)</td>\n",
       "      <td>0</td>\n",
       "    </tr>\n",
       "    <tr>\n",
       "      <th>...</th>\n",
       "      <td>...</td>\n",
       "      <td>...</td>\n",
       "      <td>...</td>\n",
       "    </tr>\n",
       "    <tr>\n",
       "      <th>9315</th>\n",
       "      <td>ok may nỗi ok</td>\n",
       "      <td>(0.13968933, 0.8603107)</td>\n",
       "      <td>1</td>\n",
       "    </tr>\n",
       "    <tr>\n",
       "      <th>9316</th>\n",
       "      <td>giống hình vải mỏng không size l tay_áo...</td>\n",
       "      <td>(0.9995427, 0.000457331)</td>\n",
       "      <td>0</td>\n",
       "    </tr>\n",
       "    <tr>\n",
       "      <th>9317</th>\n",
       "      <td>vải xốp màu trắng đẹp đúng form nên mua</td>\n",
       "      <td>(0.25301027, 0.7469897)</td>\n",
       "      <td>1</td>\n",
       "    </tr>\n",
       "    <tr>\n",
       "      <th>9318</th>\n",
       "      <td>xám eo tôi đặt áo mong_muốn tay_áo_dà...</td>\n",
       "      <td>(0.998604, 0.001396034)</td>\n",
       "      <td>0</td>\n",
       "    </tr>\n",
       "    <tr>\n",
       "      <th>9319</th>\n",
       "      <td>áo giá mỏng không dày ảnh l rộng dữ ...</td>\n",
       "      <td>(0.999894, 0.00010592102)</td>\n",
       "      <td>0</td>\n",
       "    </tr>\n",
       "  </tbody>\n",
       "</table>\n",
       "<p>9320 rows × 3 columns</p>\n",
       "</div>"
      ],
      "text/plain": [
       "                                                  input  \\\n",
       "0                         hàng nhận khác với ảnh   \n",
       "1     áo đẹp chất vải mặc không nóng xíu l...   \n",
       "2     tạm ổn chuẩn ok cá sơ_chế xong bạn c...   \n",
       "3                   dày_dặn cầm nặng_tay be xịn   \n",
       "4                         nhận áo không đúng đặt   \n",
       "...                                                 ...   \n",
       "9315                                    ok may nỗi ok   \n",
       "9316  giống hình vải mỏng không size l tay_áo...   \n",
       "9317   vải xốp màu trắng đẹp đúng form nên mua   \n",
       "9318  xám eo tôi đặt áo mong_muốn tay_áo_dà...   \n",
       "9319  áo giá mỏng không dày ảnh l rộng dữ ...   \n",
       "\n",
       "                     output_proba  output_class  \n",
       "0       (0.9929395, 0.0070605655)             0  \n",
       "1     (3.2749608e-07, 0.99999964)             1  \n",
       "2     (3.4492885e-05, 0.99996555)             1  \n",
       "3     (0.00014547573, 0.99985445)             1  \n",
       "4      (0.99622154, 0.0037784097)             0  \n",
       "...                           ...           ...  \n",
       "9315      (0.13968933, 0.8603107)             1  \n",
       "9316     (0.9995427, 0.000457331)             0  \n",
       "9317      (0.25301027, 0.7469897)             1  \n",
       "9318      (0.998604, 0.001396034)             0  \n",
       "9319    (0.999894, 0.00010592102)             0  \n",
       "\n",
       "[9320 rows x 3 columns]"
      ]
     },
     "execution_count": 43,
     "metadata": {},
     "output_type": "execute_result"
    }
   ],
   "source": [
    "prediction_2 = model_2.predict(X_test['nomalized_comment'])\n",
    "prediction_2"
   ]
  },
  {
   "cell_type": "code",
   "execution_count": 45,
   "metadata": {},
   "outputs": [
    {
     "name": "stdout",
     "output_type": "stream",
     "text": [
      "              precision    recall  f1-score   support\n",
      "\n",
      "    Negative       0.86      0.85      0.86      4703\n",
      "    Positive       0.85      0.86      0.86      4617\n",
      "\n",
      "    accuracy                           0.86      9320\n",
      "   macro avg       0.86      0.86      0.86      9320\n",
      "weighted avg       0.86      0.86      0.86      9320\n",
      "\n"
     ]
    },
    {
     "data": {
      "image/png": "[encoded data removed]",
      "text/plain": [
       "<Figure size 600x400 with 2 Axes>"
      ]
     },
     "metadata": {},
     "output_type": "display_data"
    }
   ],
   "source": [
    "Model.confusionMatrix(y_test, prediction_2['output_class'])"
   ]
  },
  {
   "cell_type": "markdown",
   "metadata": {},
   "source": [
    "> **Nhận xét**:\n",
    "> * Độ chính xác của model 2 này là 86 phần trăm, giống với model 1.\n",
    "> * Nhưng ta nên đặt câu hỏi vì sao đã qua 2 model có kiến trúc khác nhau rất nhiều nhưng độ chính xác vẫn loanh quanh 85, 86%."
   ]
  },
  {
   "cell_type": "code",
   "execution_count": 47,
   "metadata": {},
   "outputs": [],
   "source": [
    "model_uw_2 = DeepModel.SentimentLSTM()\n",
    "model_uw_2.define(**hyperparameters_2)\n",
    "model_uw_2.model.load_weights(\"./models/lstm_model_comments_2/weights/02-0.312602.h5\")"
   ]
  },
  {
   "cell_type": "code",
   "execution_count": 49,
   "metadata": {},
   "outputs": [
    {
     "name": "stdout",
     "output_type": "stream",
     "text": [
      "292/292 [==============================] - 3s 9ms/step\n"
     ]
    },
    {
     "data": {
      "text/html": [
       "<div>\n",
       "<style scoped>\n",
       "    .dataframe tbody tr th:only-of-type {\n",
       "        vertical-align: middle;\n",
       "    }\n",
       "\n",
       "    .dataframe tbody tr th {\n",
       "        vertical-align: top;\n",
       "    }\n",
       "\n",
       "    .dataframe thead th {\n",
       "        text-align: right;\n",
       "    }\n",
       "</style>\n",
       "<table border=\"1\" class=\"dataframe\">\n",
       "  <thead>\n",
       "    <tr style=\"text-align: right;\">\n",
       "      <th></th>\n",
       "      <th>input</th>\n",
       "      <th>output_proba</th>\n",
       "      <th>output_class</th>\n",
       "    </tr>\n",
       "  </thead>\n",
       "  <tbody>\n",
       "    <tr>\n",
       "      <th>0</th>\n",
       "      <td>hàng nhận khác với ảnh</td>\n",
       "      <td>(0.9965036, 0.0034964655)</td>\n",
       "      <td>0</td>\n",
       "    </tr>\n",
       "    <tr>\n",
       "      <th>1</th>\n",
       "      <td>áo đẹp chất vải mặc không nóng xíu l...</td>\n",
       "      <td>(0.00014218244, 0.9998578)</td>\n",
       "      <td>1</td>\n",
       "    </tr>\n",
       "    <tr>\n",
       "      <th>2</th>\n",
       "      <td>tạm ổn chuẩn ok cá sơ_chế xong bạn c...</td>\n",
       "      <td>(0.04159521, 0.95840484)</td>\n",
       "      <td>1</td>\n",
       "    </tr>\n",
       "    <tr>\n",
       "      <th>3</th>\n",
       "      <td>dày_dặn cầm nặng_tay be xịn</td>\n",
       "      <td>(0.003350051, 0.9966499)</td>\n",
       "      <td>1</td>\n",
       "    </tr>\n",
       "    <tr>\n",
       "      <th>4</th>\n",
       "      <td>nhận áo không đúng đặt</td>\n",
       "      <td>(0.9946688, 0.0053311707)</td>\n",
       "      <td>0</td>\n",
       "    </tr>\n",
       "    <tr>\n",
       "      <th>...</th>\n",
       "      <td>...</td>\n",
       "      <td>...</td>\n",
       "      <td>...</td>\n",
       "    </tr>\n",
       "    <tr>\n",
       "      <th>9315</th>\n",
       "      <td>ok may nỗi ok</td>\n",
       "      <td>(0.10211441, 0.89788556)</td>\n",
       "      <td>1</td>\n",
       "    </tr>\n",
       "    <tr>\n",
       "      <th>9316</th>\n",
       "      <td>giống hình vải mỏng không size l tay_áo...</td>\n",
       "      <td>(0.9997825, 0.0002175625)</td>\n",
       "      <td>0</td>\n",
       "    </tr>\n",
       "    <tr>\n",
       "      <th>9317</th>\n",
       "      <td>vải xốp màu trắng đẹp đúng form nên mua</td>\n",
       "      <td>(0.10964305, 0.8903569)</td>\n",
       "      <td>1</td>\n",
       "    </tr>\n",
       "    <tr>\n",
       "      <th>9318</th>\n",
       "      <td>xám eo tôi đặt áo mong_muốn tay_áo_dà...</td>\n",
       "      <td>(0.9885852, 0.011414803)</td>\n",
       "      <td>0</td>\n",
       "    </tr>\n",
       "    <tr>\n",
       "      <th>9319</th>\n",
       "      <td>áo giá mỏng không dày ảnh l rộng dữ ...</td>\n",
       "      <td>(0.97219616, 0.027803805)</td>\n",
       "      <td>0</td>\n",
       "    </tr>\n",
       "  </tbody>\n",
       "</table>\n",
       "<p>9320 rows × 3 columns</p>\n",
       "</div>"
      ],
      "text/plain": [
       "                                                  input  \\\n",
       "0                         hàng nhận khác với ảnh   \n",
       "1     áo đẹp chất vải mặc không nóng xíu l...   \n",
       "2     tạm ổn chuẩn ok cá sơ_chế xong bạn c...   \n",
       "3                   dày_dặn cầm nặng_tay be xịn   \n",
       "4                         nhận áo không đúng đặt   \n",
       "...                                                 ...   \n",
       "9315                                    ok may nỗi ok   \n",
       "9316  giống hình vải mỏng không size l tay_áo...   \n",
       "9317   vải xốp màu trắng đẹp đúng form nên mua   \n",
       "9318  xám eo tôi đặt áo mong_muốn tay_áo_dà...   \n",
       "9319  áo giá mỏng không dày ảnh l rộng dữ ...   \n",
       "\n",
       "                    output_proba  output_class  \n",
       "0      (0.9965036, 0.0034964655)             0  \n",
       "1     (0.00014218244, 0.9998578)             1  \n",
       "2       (0.04159521, 0.95840484)             1  \n",
       "3       (0.003350051, 0.9966499)             1  \n",
       "4      (0.9946688, 0.0053311707)             0  \n",
       "...                          ...           ...  \n",
       "9315    (0.10211441, 0.89788556)             1  \n",
       "9316   (0.9997825, 0.0002175625)             0  \n",
       "9317     (0.10964305, 0.8903569)             1  \n",
       "9318    (0.9885852, 0.011414803)             0  \n",
       "9319   (0.97219616, 0.027803805)             0  \n",
       "\n",
       "[9320 rows x 3 columns]"
      ]
     },
     "execution_count": 49,
     "metadata": {},
     "output_type": "execute_result"
    }
   ],
   "source": [
    "prediction_uw_2 = model_uw_2.predict(X_test['nomalized_comment'])\n",
    "prediction_uw_2"
   ]
  },
  {
   "cell_type": "code",
   "execution_count": 51,
   "metadata": {},
   "outputs": [
    {
     "name": "stdout",
     "output_type": "stream",
     "text": [
      "              precision    recall  f1-score   support\n",
      "\n",
      "    Negative       0.87      0.84      0.86      4703\n",
      "    Positive       0.84      0.88      0.86      4617\n",
      "\n",
      "    accuracy                           0.86      9320\n",
      "   macro avg       0.86      0.86      0.86      9320\n",
      "weighted avg       0.86      0.86      0.86      9320\n",
      "\n"
     ]
    },
    {
     "data": {
      "image/png": "[encoded data removed]",
      "text/plain": [
       "<Figure size 600x400 with 2 Axes>"
      ]
     },
     "metadata": {},
     "output_type": "display_data"
    }
   ],
   "source": [
    "Model.confusionMatrix(y_test, prediction_uw_2['output_class'])"
   ]
  },
  {
   "cell_type": "markdown",
   "metadata": {},
   "source": [
    "> **Nhận xét**:\n",
    "> * Độ chính xác của model 2 lúc này đã giảm đi.\n",
    "> * Nếu ta đào tạo quá 10 epoch thì càng ngàng bị overfitting, nhưng nếu ta thay đổi kiến trúc của model thì độ chính xác luôn loanh quanh 86, 87%. Như vậy đây có phải là độ chính xác tối đa mà model LSTM có thể đạt được hoặc là do chính data của ta bị variance error do có sự chồng chéo data giữa nagative và postive ở các comment 3 sao."
   ]
  },
  {
   "cell_type": "markdown",
   "metadata": {},
   "source": [
    "Bây giờ ta sẽ lưu lại các model này thành file `*.h5` và các vectorizer tương ứng thành file `*.pickle`."
   ]
  },
  {
   "cell_type": "code",
   "execution_count": 53,
   "metadata": {},
   "outputs": [
    {
     "name": "stdout",
     "output_type": "stream",
     "text": [
      "(<keras.preprocessing.text.Tokenizer object at 0x0000013A2FF2E050>, 100) has been saved at ./models/lstm_model_comments_1/lstm_tokenizer_comments_1.pickle.\n",
      "📢 Model has been saved at ./models/lstm_model_comments_1/lstm_model_comments_1.h5 - Tokenizer has been saved at ./models/lstm_model_comments_1/lstm_tokenizer_comments_1.pickle.\n",
      "(<keras.preprocessing.text.Tokenizer object at 0x0000013A3E59A610>, 100) has been saved at ./models/lstm_model_comments_1/lstm_tokenizer_comments_uw_1.pickle.\n",
      "📢 Model has been saved at ./models/lstm_model_comments_1/lstm_model_comments_uw_1.h5 - Tokenizer has been saved at ./models/lstm_model_comments_1/lstm_tokenizer_comments_uw_1.pickle.\n"
     ]
    }
   ],
   "source": [
    "model_1.save(\"./models/lstm_model_comments_1/lstm_model_comments_1.h5\", \"./models/lstm_model_comments_1/lstm_tokenizer_comments_1.pickle\")\n",
    "model_uw_1.save(\"./models/lstm_model_comments_1/lstm_model_comments_uw_1.h5\", \"./models/lstm_model_comments_1/lstm_tokenizer_comments_uw_1.pickle\")"
   ]
  },
  {
   "cell_type": "code",
   "execution_count": 55,
   "metadata": {},
   "outputs": [
    {
     "name": "stdout",
     "output_type": "stream",
     "text": [
      "(<keras.preprocessing.text.Tokenizer object at 0x0000013A4119D790>, 100) has been saved at ./models/lstm_model_comments_2/lstm_tokenizer_comments_2.pickle.\n",
      "📢 Model has been saved at ./models/lstm_model_comments_2/lstm_model_comments_2.h5 - Tokenizer has been saved at ./models/lstm_model_comments_2/lstm_tokenizer_comments_2.pickle.\n",
      "(<keras.preprocessing.text.Tokenizer object at 0x0000013A49686190>, 100) has been saved at ./models/lstm_model_comments_2/lstm_tokenizer_comments_uw_2.pickle.\n",
      "📢 Model has been saved at ./models/lstm_model_comments_2/lstm_model_comments_uw_2.h5 - Tokenizer has been saved at ./models/lstm_model_comments_2/lstm_tokenizer_comments_uw_2.pickle.\n"
     ]
    }
   ],
   "source": [
    "model_2.save(\"./models/lstm_model_comments_2/lstm_model_comments_2.h5\", \"./models/lstm_model_comments_2/lstm_tokenizer_comments_2.pickle\")\n",
    "model_uw_2.save(\"./models/lstm_model_comments_2/lstm_model_comments_uw_2.h5\", \"./models/lstm_model_comments_2/lstm_tokenizer_comments_uw_2.pickle\")"
   ]
  }
 ],
 "metadata": {
  "interpreter": {
   "hash": "916dbcbb3f70747c44a77c7bcd40155683ae19c65e1c03b4aa3499c5328201f1"
  },
  "kernelspec": {
   "display_name": "Python [conda env:base] *",
   "language": "python",
   "name": "conda-base-py"
  },
  "language_info": {
   "codemirror_mode": {
    "name": "ipython",
    "version": 3
   },
   "file_extension": ".py",
   "mimetype": "text/x-python",
   "name": "python",
   "nbconvert_exporter": "python",
   "pygments_lexer": "ipython3",
   "version": "3.11.7"
  }
 },
 "nbformat": 4,
 "nbformat_minor": 4
}
